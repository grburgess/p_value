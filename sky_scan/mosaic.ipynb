{
 "cells": [
  {
   "cell_type": "code",
   "execution_count": 1,
   "metadata": {},
   "outputs": [],
   "source": [
    "import numpy as np\n",
    "import h5py\n",
    "import matplotlib.pyplot as plt\n",
    "import healpy as hp\n",
    "from healpy import projview, newprojplot, cartview, projplot\n",
    "from astropy.coordinates import SkyCoord\n",
    "from astropy import units as u\n",
    "from icecube_tools.point_source_analysis.point_source_analysis import MapScan\n",
    "from icecube_tools.utils.data import RealEvents"
   ]
  },
  {
   "cell_type": "code",
   "execution_count": 2,
   "metadata": {},
   "outputs": [
    {
     "name": "stderr",
     "output_type": "stream",
     "text": [
      "Resetting rng\n"
     ]
    },
    {
     "name": "stdout",
     "output_type": "stream",
     "text": [
      "472 142\n"
     ]
    },
    {
     "name": "stderr",
     "output_type": "stream",
     "text": [
      "/home/iwsatlas1/kuhlmann/icecube/icecube_tools/icecube_tools/detector/r2021.py:82: RuntimeWarning: divide by zero encountered in log10\n",
      "  self.dataset[:, 6:-1] = np.log10(self.dataset[:, 6:-1])\n",
      "WARNING:icecube_tools.detector.r2021:Empty true energy bins at: [(0, 0), (1, 0), (2, 0), (3, 0)]\n",
      "/home/iwsatlas1/kuhlmann/icecube/icecube_tools/icecube_tools/detector/r2021.py:82: RuntimeWarning: divide by zero encountered in log10\n",
      "  self.dataset[:, 6:-1] = np.log10(self.dataset[:, 6:-1])\n",
      "WARNING:icecube_tools.detector.r2021:Empty true energy bins at: [(0, 0), (1, 0), (2, 0)]\n",
      "/home/iwsatlas1/kuhlmann/icecube/icecube_tools/icecube_tools/detector/r2021.py:82: RuntimeWarning: divide by zero encountered in log10\n",
      "  self.dataset[:, 6:-1] = np.log10(self.dataset[:, 6:-1])\n",
      "WARNING:icecube_tools.detector.r2021:Empty true energy bins at: [(0, 0), (1, 0)]\n",
      "/home/iwsatlas1/kuhlmann/icecube/icecube_tools/icecube_tools/detector/r2021.py:82: RuntimeWarning: divide by zero encountered in log10\n",
      "  self.dataset[:, 6:-1] = np.log10(self.dataset[:, 6:-1])\n",
      "WARNING:icecube_tools.detector.r2021:Empty true energy bins at: [(0, 0), (1, 0)]\n"
     ]
    },
    {
     "name": "stdout",
     "output_type": "stream",
     "text": [
      "True 1.6865877817869046 1.589531893320818 1.500000001221116 0.18358425113810306\n",
      "472 286\n",
      "True 1.0017643836640475 3.770587859182164 4.725574499015943 3.065791980281156\n",
      "472 320\n",
      "True 0.7748909860283012 3.5548607676700046 4.414713057762612 2.975387382644744\n",
      "472 528\n",
      "True 0.39140387582014385 5.2842386998447655 4.212368564362275 3.012598315094528\n",
      "472 592\n",
      "True 0.7914628458471797 4.159865059472043 4.654304788193036 3.064933445142538\n",
      "472 653\n",
      "True 2.084514021815456 2.8147577210317865 4.90378585498342 2.942510271261084\n",
      "472 663\n",
      "True 1.435362077478828e-07 17.912097090399115 3.703911277980213 2.776288079952966\n",
      "472 669\n",
      "True 0.5377866959835345 1.9437624687484647 4.79192869980491 3.3877089533927887\n",
      "472 698\n",
      "True 0.41794688244688827 6.549600998922805 4.7961393800494 3.3950294602393245\n",
      "472 707\n",
      "True 1.0821502080068002 2.742367789350153 4.902352085609874 3.3623599337871584\n",
      "472 862\n",
      "True 1.4811659231899716 1.5162120035856703 1.5000000001635163 0.3913725306163123\n",
      "472 872\n",
      "True 1.5052566650289223 1.537855073105841 1.5000000077036706 0.43859380055890684\n",
      "472 893\n",
      "True 0.7353241181145529 3.562869931756643 4.771013613376161 3.143409348159737\n",
      "472 920\n",
      "True 1.749987647333699 1.7193119662415701 1.5000000009740104 0.19661134067270858\n",
      "472 971\n",
      "True 1.1876975865592125 3.2130939864063413 4.6692927749784765 2.7885493039549107\n",
      "472 986\n",
      "True 7.722607695834801e-05 1658.1562821981477 3.656624135587024 2.6657936252908065\n",
      "472 992\n"
     ]
    },
    {
     "name": "stderr",
     "output_type": "stream",
     "text": [
      "WARNING:icecube_tools.utils.data:Resetting rng\n"
     ]
    },
    {
     "name": "stdout",
     "output_type": "stream",
     "text": [
      "True 0.7508147179629973 4.030404752933359 4.478586293022754 3.093487301072207\n",
      "473 98\n"
     ]
    },
    {
     "name": "stderr",
     "output_type": "stream",
     "text": [
      "/home/iwsatlas1/kuhlmann/icecube/icecube_tools/icecube_tools/detector/r2021.py:82: RuntimeWarning: divide by zero encountered in log10\n",
      "  self.dataset[:, 6:-1] = np.log10(self.dataset[:, 6:-1])\n",
      "WARNING:icecube_tools.detector.r2021:Empty true energy bins at: [(0, 0), (1, 0), (2, 0), (3, 0)]\n",
      "/home/iwsatlas1/kuhlmann/icecube/icecube_tools/icecube_tools/detector/r2021.py:82: RuntimeWarning: divide by zero encountered in log10\n",
      "  self.dataset[:, 6:-1] = np.log10(self.dataset[:, 6:-1])\n",
      "WARNING:icecube_tools.detector.r2021:Empty true energy bins at: [(0, 0), (1, 0), (2, 0)]\n",
      "/home/iwsatlas1/kuhlmann/icecube/icecube_tools/icecube_tools/detector/r2021.py:82: RuntimeWarning: divide by zero encountered in log10\n",
      "  self.dataset[:, 6:-1] = np.log10(self.dataset[:, 6:-1])\n",
      "WARNING:icecube_tools.detector.r2021:Empty true energy bins at: [(0, 0), (1, 0)]\n",
      "/home/iwsatlas1/kuhlmann/icecube/icecube_tools/icecube_tools/detector/r2021.py:82: RuntimeWarning: divide by zero encountered in log10\n",
      "  self.dataset[:, 6:-1] = np.log10(self.dataset[:, 6:-1])\n",
      "WARNING:icecube_tools.detector.r2021:Empty true energy bins at: [(0, 0), (1, 0)]\n"
     ]
    },
    {
     "name": "stdout",
     "output_type": "stream",
     "text": [
      "True 0.9244580171856123 4.021392960721974 4.651813981681892 1.904138875413635\n",
      "473 129\n",
      "True 1.7296391434951932 1.5989961972025608 1.5000000027144196 0.18174989505768935\n",
      "473 132\n",
      "True 0.9335511589928024 4.03656088655192 4.433950874347629 2.898470920250042\n",
      "473 171\n",
      "True 0.00034924882409333695 8430.463036314377 4.355395012291018 0.3379244638776093\n",
      "473 173\n",
      "True 1.3268726479856363 4.250098735930703 4.40130393815016 2.6224156572919926\n",
      "473 229\n",
      "True 3.8785861627060663e-07 523.8516310567954 3.8183657027812945 2.0927658873523223\n",
      "473 250\n",
      "True 1.739380378302598 2.9234786777799315 4.785867641142611 2.7690601293456503\n",
      "473 283\n",
      "True 1.4873805214542235 4.223285374937982 4.448188164865368 2.6513597574873136\n",
      "473 345\n",
      "True 1.233137261175016 3.709058545314502 4.6531975050469745 2.706597388973187\n",
      "473 391\n",
      "True 1.4594628663694605e-09 155.28402494254556 3.1802712338188606 2.5839239499431597\n",
      "473 456\n",
      "True 2.6593860789187428e-09 384.0421039437527 4.8255476915851885 1.8314477764207067\n",
      "473 504\n",
      "True 0.4746921871387192 4.87325252352017 4.581682405383151 3.2004917371585386\n",
      "473 513\n",
      "True 1.610643070216577e-05 576.8093123568859 4.118089341177799 2.6927219936913946\n",
      "473 570\n",
      "True 0.5555459383910437 6.824744280069973 4.56867240120654 3.074887021040164\n",
      "473 702\n",
      "True 0.5956096793592867 2.330988844641771 4.837116781838741 3.1154441601596963\n",
      "473 871\n",
      "True 0.7624797989320204 2.5220775820023658 4.639586377307164 1.957052373537695\n",
      "473 971\n",
      "True 1.837948329726542 3.535714907830442 4.709578907709166 2.6171132521167983\n",
      "473 984\n"
     ]
    },
    {
     "name": "stderr",
     "output_type": "stream",
     "text": [
      "WARNING:icecube_tools.utils.data:Resetting rng\n"
     ]
    },
    {
     "name": "stdout",
     "output_type": "stream",
     "text": [
      "True 0.14814606726326246 4.889942663291205 4.86111570259063 2.0231576923765116\n",
      "474 97\n"
     ]
    },
    {
     "name": "stderr",
     "output_type": "stream",
     "text": [
      "/home/iwsatlas1/kuhlmann/icecube/icecube_tools/icecube_tools/detector/r2021.py:82: RuntimeWarning: divide by zero encountered in log10\n",
      "  self.dataset[:, 6:-1] = np.log10(self.dataset[:, 6:-1])\n",
      "WARNING:icecube_tools.detector.r2021:Empty true energy bins at: [(0, 0), (1, 0), (2, 0), (3, 0)]\n",
      "/home/iwsatlas1/kuhlmann/icecube/icecube_tools/icecube_tools/detector/r2021.py:82: RuntimeWarning: divide by zero encountered in log10\n",
      "  self.dataset[:, 6:-1] = np.log10(self.dataset[:, 6:-1])\n",
      "WARNING:icecube_tools.detector.r2021:Empty true energy bins at: [(0, 0), (1, 0), (2, 0)]\n",
      "/home/iwsatlas1/kuhlmann/icecube/icecube_tools/icecube_tools/detector/r2021.py:82: RuntimeWarning: divide by zero encountered in log10\n",
      "  self.dataset[:, 6:-1] = np.log10(self.dataset[:, 6:-1])\n",
      "WARNING:icecube_tools.detector.r2021:Empty true energy bins at: [(0, 0), (1, 0)]\n",
      "/home/iwsatlas1/kuhlmann/icecube/icecube_tools/icecube_tools/detector/r2021.py:82: RuntimeWarning: divide by zero encountered in log10\n",
      "  self.dataset[:, 6:-1] = np.log10(self.dataset[:, 6:-1])\n",
      "WARNING:icecube_tools.detector.r2021:Empty true energy bins at: [(0, 0), (1, 0)]\n"
     ]
    },
    {
     "name": "stdout",
     "output_type": "stream",
     "text": [
      "True 0.5173156875642436 5.4101112149034085 4.811971243046322 3.0874988034145296\n",
      "474 134\n",
      "True 1.7886073730019203 1.6423748784478858 1.5000000000000007 0.18611188199291162\n",
      "474 161\n",
      "True 1.41009467288795e-05 1045.989579157112 3.681289192221206 2.7583971583132465\n",
      "474 347\n",
      "True 0.5560430011813624 3.9491429279033374 4.845760826304242 3.4228229729137976\n",
      "474 529\n",
      "True 0.815232030770856 3.6024003194994365 4.185895355415731 2.741762435104806\n",
      "474 532\n",
      "True 7.564299516968354e-08 656.3960306921033 4.021678721785254 2.5168490710200606\n",
      "474 574\n",
      "True 1.2337096436783324e-05 1588.759437566302 3.6949881090697674 2.738655378428433\n",
      "474 575\n",
      "True 0.6792219228146468 2.6758767104556727 4.371227494263203 2.957965619034039\n",
      "474 624\n",
      "True 0.9835281602500366 3.03169613758472 4.31631090742915 1.1629901508851057\n",
      "474 661\n",
      "True 0.30505372817862075 5.952625100178265 4.64906471107936 3.32327518989159\n",
      "474 674\n",
      "True 0.5429904760356755 2.754416480743383 4.451582273039941 3.2257203242802515\n",
      "474 687\n",
      "True 0.00015499373914537595 7.115138148968542 3.5846158788727696 2.214991479293397\n",
      "474 702\n",
      "True 1.2692817021753309 2.879659446129374 4.79941028787821 3.0873167609928274\n",
      "474 732\n",
      "True 1.465559398424257e-06 272.1946064586913 3.742858520063096 2.82624921518459\n",
      "474 874\n",
      "True 1.5323173786514072e-06 816.5822310347728 3.817304792427053 2.199665789925899\n",
      "474 915\n",
      "True 1.5324189338174545 1.6084750272719082 1.500000005804632 0.21416976847629576\n",
      "474 967\n",
      "True 0.466119024230125 2.710664767288386 4.325746229113319 3.0470268041803563\n",
      "474 1001\n"
     ]
    },
    {
     "name": "stderr",
     "output_type": "stream",
     "text": [
      "WARNING:icecube_tools.utils.data:Resetting rng\n"
     ]
    },
    {
     "name": "stdout",
     "output_type": "stream",
     "text": [
      "True 2.033488184503482e-06 607.2851006179749 3.794425756479191 2.8671303711248197\n",
      "475 34\n"
     ]
    },
    {
     "name": "stderr",
     "output_type": "stream",
     "text": [
      "/home/iwsatlas1/kuhlmann/icecube/icecube_tools/icecube_tools/detector/r2021.py:82: RuntimeWarning: divide by zero encountered in log10\n",
      "  self.dataset[:, 6:-1] = np.log10(self.dataset[:, 6:-1])\n",
      "WARNING:icecube_tools.detector.r2021:Empty true energy bins at: [(0, 0), (1, 0), (2, 0), (3, 0)]\n",
      "/home/iwsatlas1/kuhlmann/icecube/icecube_tools/icecube_tools/detector/r2021.py:82: RuntimeWarning: divide by zero encountered in log10\n",
      "  self.dataset[:, 6:-1] = np.log10(self.dataset[:, 6:-1])\n",
      "WARNING:icecube_tools.detector.r2021:Empty true energy bins at: [(0, 0), (1, 0), (2, 0)]\n",
      "/home/iwsatlas1/kuhlmann/icecube/icecube_tools/icecube_tools/detector/r2021.py:82: RuntimeWarning: divide by zero encountered in log10\n",
      "  self.dataset[:, 6:-1] = np.log10(self.dataset[:, 6:-1])\n",
      "WARNING:icecube_tools.detector.r2021:Empty true energy bins at: [(0, 0), (1, 0)]\n",
      "/home/iwsatlas1/kuhlmann/icecube/icecube_tools/icecube_tools/detector/r2021.py:82: RuntimeWarning: divide by zero encountered in log10\n",
      "  self.dataset[:, 6:-1] = np.log10(self.dataset[:, 6:-1])\n",
      "WARNING:icecube_tools.detector.r2021:Empty true energy bins at: [(0, 0), (1, 0)]\n"
     ]
    },
    {
     "name": "stdout",
     "output_type": "stream",
     "text": [
      "True 1.2915952874205383e-05 554.3813914117608 4.064732992809324 2.645602586220212\n",
      "475 48\n",
      "True 1.003609212018794e-06 11.94663344989949 3.9129197694806725 2.9073904583236776\n",
      "475 128\n",
      "True 0.6059729397368424 2.7706021940453516 4.667525218605112 3.228247355172063\n",
      "475 349\n",
      "True 0.9959629038871899 2.5122473782010153 4.928194857501786 3.4330055705029907\n",
      "475 372\n",
      "True 1.4101827344736861e-12 2.6205641699211806 4.035107932486656 3.0172556690808143\n",
      "475 374\n",
      "True 5.991435616733987e-09 288.3747236448904 4.187256011938576 2.234311511469355\n",
      "475 383\n",
      "True 1.3103226006010367 3.655967934145019 4.9513412747424175 3.184317308427161\n",
      "475 489\n",
      "True 1.4801136555325916 3.8713728463316475 4.78173586053388 2.8246484248082435\n",
      "475 495\n",
      "True 3.7117528495222984e-10 57.409203444126746 4.032604735700651 2.1862932446657126\n",
      "475 496\n",
      "True 0.25190350507167036 4.6261606741981485 4.798727070123635 3.317880973394603\n",
      "475 678\n",
      "True 0.38241468034692433 5.2820555919717105 4.722390874032839 2.655812396241754\n",
      "475 765\n",
      "True 9.139434357527398e-06 207.67172286958095 3.596107407680814 2.627881214572678\n",
      "475 807\n",
      "True 0.0007545159743529081 1141.5424758927618 3.617566968441532 2.236719267513857\n",
      "475 851\n",
      "True 0.789220406504986 1.347887411724142 1.50000000710198 0.6444408824133887\n",
      "475 875\n",
      "True 9.072398470845455e-08 164.82549843940194 3.921511921992409 2.0622648144414493\n",
      "475 891\n",
      "True 0.4036394910649838 8.0099595599926 4.568579677228107 3.2136540002875544\n",
      "475 913\n",
      "True 1.441589972221713e-08 678.0415489576724 3.375280617563289 2.4681416438076544\n",
      "475 933\n",
      "True 3.495640898945063 2.2815392622938937 1.5000001181895102 0.11441536978671096\n",
      "475 963\n",
      "True 4.353803084749738e-05 866.7428031778309 3.6721224630069997 1.8051044985380977\n",
      "475 979\n",
      "True 0.22828368451412706 15.907008686993668 4.0785221395863545 3.038469006430943\n",
      "475 997\n",
      "True 0.000464737789967834 441.7072072155529 3.6007567506664486 2.777542581549068\n",
      "475 1008\n",
      "True 1.8640565781052088 3.505822301613772 4.750454661155014 1.8149931579845084\n",
      "475 1017\n"
     ]
    },
    {
     "name": "stderr",
     "output_type": "stream",
     "text": [
      "WARNING:icecube_tools.utils.data:Resetting rng\n"
     ]
    },
    {
     "name": "stdout",
     "output_type": "stream",
     "text": [
      "True 1.7594343334855889 3.0894030032866495 4.644362563067488 2.5514877021683118\n",
      "476 10\n"
     ]
    },
    {
     "name": "stderr",
     "output_type": "stream",
     "text": [
      "/home/iwsatlas1/kuhlmann/icecube/icecube_tools/icecube_tools/detector/r2021.py:82: RuntimeWarning: divide by zero encountered in log10\n",
      "  self.dataset[:, 6:-1] = np.log10(self.dataset[:, 6:-1])\n",
      "WARNING:icecube_tools.detector.r2021:Empty true energy bins at: [(0, 0), (1, 0), (2, 0), (3, 0)]\n",
      "/home/iwsatlas1/kuhlmann/icecube/icecube_tools/icecube_tools/detector/r2021.py:82: RuntimeWarning: divide by zero encountered in log10\n",
      "  self.dataset[:, 6:-1] = np.log10(self.dataset[:, 6:-1])\n",
      "WARNING:icecube_tools.detector.r2021:Empty true energy bins at: [(0, 0), (1, 0), (2, 0)]\n",
      "/home/iwsatlas1/kuhlmann/icecube/icecube_tools/icecube_tools/detector/r2021.py:82: RuntimeWarning: divide by zero encountered in log10\n",
      "  self.dataset[:, 6:-1] = np.log10(self.dataset[:, 6:-1])\n",
      "WARNING:icecube_tools.detector.r2021:Empty true energy bins at: [(0, 0), (1, 0)]\n",
      "/home/iwsatlas1/kuhlmann/icecube/icecube_tools/icecube_tools/detector/r2021.py:82: RuntimeWarning: divide by zero encountered in log10\n",
      "  self.dataset[:, 6:-1] = np.log10(self.dataset[:, 6:-1])\n",
      "WARNING:icecube_tools.detector.r2021:Empty true energy bins at: [(0, 0), (1, 0)]\n"
     ]
    },
    {
     "name": "stdout",
     "output_type": "stream",
     "text": [
      "True 1.0394158329180003e-09 92.98032496192327 3.5394486543511605 2.6214652936019047\n",
      "476 13\n",
      "True 0.5684029298342403 1.935479961749514 4.620884740155503 3.1983721136304935\n",
      "476 73\n",
      "True 0.2693925191008359 7.527081636356227 4.211779707162751 3.0908640022341407\n",
      "476 123\n",
      "True 0.749052668272263 4.187290675430994 4.302551389506026 2.685066266932058\n",
      "476 164\n",
      "True 8.344192948574192e-08 1038.8475222527784 4.091401619525901 2.0666999667762873\n",
      "476 191\n",
      "True 0.6004650794879746 4.763750563918462 4.4232197656414085 2.9786599980686903\n",
      "476 221\n",
      "True 0.9485872123055349 5.51852946320704 4.228408014740346 2.660327141302593\n",
      "476 229\n",
      "True 1.250744901767735e-05 451.4911051696142 3.807298483709409 2.80645036705476\n",
      "476 386\n",
      "True 1.1742952763503405 3.827393982452377 4.629162059975377 3.0256987089922394\n",
      "476 404\n",
      "True 1.6705753501313096 3.2986954143612888 4.817523176996173 2.1559963435429053\n",
      "476 405\n",
      "True 1.7161005620019987e-09 88.01615611977154 3.8625817002399567 2.5552662648779867\n",
      "476 431\n",
      "True 4.879478114987873e-06 414.79794918419407 3.915596740637287 2.667365315592379\n",
      "476 440\n",
      "True 0.911448731445198 1.2077703515744167 1.500000000018011 0.37201262652671097\n",
      "476 460\n",
      "True 1.3148902555343591 3.1005515550640723 4.5273220645534415 0.9961641287117795\n",
      "476 470\n",
      "True 0.000754550161283141 74.55754273444367 3.898398374792181 2.898334737437316\n",
      "476 507\n"
     ]
    },
    {
     "name": "stderr",
     "output_type": "stream",
     "text": [
      "WARNING:icecube_tools.utils.data:Resetting rng\n"
     ]
    },
    {
     "name": "stdout",
     "output_type": "stream",
     "text": [
      "True 0.49507365581491425 3.7445987316399183 4.645384019004099 2.3035590569292026\n",
      "477 462\n"
     ]
    },
    {
     "name": "stderr",
     "output_type": "stream",
     "text": [
      "/home/iwsatlas1/kuhlmann/icecube/icecube_tools/icecube_tools/detector/r2021.py:82: RuntimeWarning: divide by zero encountered in log10\n",
      "  self.dataset[:, 6:-1] = np.log10(self.dataset[:, 6:-1])\n",
      "WARNING:icecube_tools.detector.r2021:Empty true energy bins at: [(0, 0), (1, 0), (2, 0), (3, 0)]\n",
      "/home/iwsatlas1/kuhlmann/icecube/icecube_tools/icecube_tools/detector/r2021.py:82: RuntimeWarning: divide by zero encountered in log10\n",
      "  self.dataset[:, 6:-1] = np.log10(self.dataset[:, 6:-1])\n",
      "WARNING:icecube_tools.detector.r2021:Empty true energy bins at: [(0, 0), (1, 0), (2, 0)]\n",
      "/home/iwsatlas1/kuhlmann/icecube/icecube_tools/icecube_tools/detector/r2021.py:82: RuntimeWarning: divide by zero encountered in log10\n",
      "  self.dataset[:, 6:-1] = np.log10(self.dataset[:, 6:-1])\n",
      "WARNING:icecube_tools.detector.r2021:Empty true energy bins at: [(0, 0), (1, 0)]\n",
      "/home/iwsatlas1/kuhlmann/icecube/icecube_tools/icecube_tools/detector/r2021.py:82: RuntimeWarning: divide by zero encountered in log10\n",
      "  self.dataset[:, 6:-1] = np.log10(self.dataset[:, 6:-1])\n",
      "WARNING:icecube_tools.detector.r2021:Empty true energy bins at: [(0, 0), (1, 0)]\n",
      "WARNING:icecube_tools.utils.data:Resetting rng\n"
     ]
    },
    {
     "name": "stdout",
     "output_type": "stream",
     "text": [
      "True 0.002148464644614115 1379.112518269226 3.4798667486500707 2.283655087064638\n"
     ]
    },
    {
     "name": "stderr",
     "output_type": "stream",
     "text": [
      "WARNING:icecube_tools.utils.data:Resetting rng\n",
      "WARNING:icecube_tools.utils.data:Resetting rng\n"
     ]
    },
    {
     "name": "stdout",
     "output_type": "stream",
     "text": [
      "480 71\n"
     ]
    },
    {
     "name": "stderr",
     "output_type": "stream",
     "text": [
      "/home/iwsatlas1/kuhlmann/icecube/icecube_tools/icecube_tools/detector/r2021.py:82: RuntimeWarning: divide by zero encountered in log10\n",
      "  self.dataset[:, 6:-1] = np.log10(self.dataset[:, 6:-1])\n",
      "WARNING:icecube_tools.detector.r2021:Empty true energy bins at: [(0, 0), (1, 0), (2, 0), (3, 0)]\n",
      "/home/iwsatlas1/kuhlmann/icecube/icecube_tools/icecube_tools/detector/r2021.py:82: RuntimeWarning: divide by zero encountered in log10\n",
      "  self.dataset[:, 6:-1] = np.log10(self.dataset[:, 6:-1])\n",
      "WARNING:icecube_tools.detector.r2021:Empty true energy bins at: [(0, 0), (1, 0), (2, 0)]\n",
      "/home/iwsatlas1/kuhlmann/icecube/icecube_tools/icecube_tools/detector/r2021.py:82: RuntimeWarning: divide by zero encountered in log10\n",
      "  self.dataset[:, 6:-1] = np.log10(self.dataset[:, 6:-1])\n",
      "WARNING:icecube_tools.detector.r2021:Empty true energy bins at: [(0, 0), (1, 0)]\n",
      "/home/iwsatlas1/kuhlmann/icecube/icecube_tools/icecube_tools/detector/r2021.py:82: RuntimeWarning: divide by zero encountered in log10\n",
      "  self.dataset[:, 6:-1] = np.log10(self.dataset[:, 6:-1])\n",
      "WARNING:icecube_tools.detector.r2021:Empty true energy bins at: [(0, 0), (1, 0)]\n"
     ]
    },
    {
     "name": "stdout",
     "output_type": "stream",
     "text": [
      "True 4.187119750932375e-06 0.8286715509691835 4.806249839239573 2.011496109244445\n",
      "480 525\n"
     ]
    },
    {
     "name": "stderr",
     "output_type": "stream",
     "text": [
      "WARNING:icecube_tools.utils.data:Resetting rng\n"
     ]
    },
    {
     "name": "stdout",
     "output_type": "stream",
     "text": [
      "True 0.20628978297112732 18.0813115709849 3.8201421569748324 2.595842455213925\n"
     ]
    },
    {
     "name": "stderr",
     "output_type": "stream",
     "text": [
      "WARNING:icecube_tools.utils.data:Resetting rng\n"
     ]
    },
    {
     "name": "stdout",
     "output_type": "stream",
     "text": [
      "482 43\n"
     ]
    },
    {
     "name": "stderr",
     "output_type": "stream",
     "text": [
      "/home/iwsatlas1/kuhlmann/icecube/icecube_tools/icecube_tools/detector/r2021.py:82: RuntimeWarning: divide by zero encountered in log10\n",
      "  self.dataset[:, 6:-1] = np.log10(self.dataset[:, 6:-1])\n",
      "WARNING:icecube_tools.detector.r2021:Empty true energy bins at: [(0, 0), (1, 0), (2, 0), (3, 0)]\n",
      "/home/iwsatlas1/kuhlmann/icecube/icecube_tools/icecube_tools/detector/r2021.py:82: RuntimeWarning: divide by zero encountered in log10\n",
      "  self.dataset[:, 6:-1] = np.log10(self.dataset[:, 6:-1])\n",
      "WARNING:icecube_tools.detector.r2021:Empty true energy bins at: [(0, 0), (1, 0), (2, 0)]\n",
      "/home/iwsatlas1/kuhlmann/icecube/icecube_tools/icecube_tools/detector/r2021.py:82: RuntimeWarning: divide by zero encountered in log10\n",
      "  self.dataset[:, 6:-1] = np.log10(self.dataset[:, 6:-1])\n",
      "WARNING:icecube_tools.detector.r2021:Empty true energy bins at: [(0, 0), (1, 0)]\n",
      "/home/iwsatlas1/kuhlmann/icecube/icecube_tools/icecube_tools/detector/r2021.py:82: RuntimeWarning: divide by zero encountered in log10\n",
      "  self.dataset[:, 6:-1] = np.log10(self.dataset[:, 6:-1])\n",
      "WARNING:icecube_tools.detector.r2021:Empty true energy bins at: [(0, 0), (1, 0)]\n",
      "WARNING:icecube_tools.utils.data:Resetting rng\n"
     ]
    },
    {
     "name": "stdout",
     "output_type": "stream",
     "text": [
      "True 4.4140235060802224e-09 0.9043815079149857 4.574196803737681 1.7562119084569296\n",
      "483 873\n"
     ]
    },
    {
     "name": "stderr",
     "output_type": "stream",
     "text": [
      "/home/iwsatlas1/kuhlmann/icecube/icecube_tools/icecube_tools/detector/r2021.py:82: RuntimeWarning: divide by zero encountered in log10\n",
      "  self.dataset[:, 6:-1] = np.log10(self.dataset[:, 6:-1])\n",
      "WARNING:icecube_tools.detector.r2021:Empty true energy bins at: [(0, 0), (1, 0), (2, 0), (3, 0)]\n",
      "/home/iwsatlas1/kuhlmann/icecube/icecube_tools/icecube_tools/detector/r2021.py:82: RuntimeWarning: divide by zero encountered in log10\n",
      "  self.dataset[:, 6:-1] = np.log10(self.dataset[:, 6:-1])\n",
      "WARNING:icecube_tools.detector.r2021:Empty true energy bins at: [(0, 0), (1, 0), (2, 0)]\n",
      "/home/iwsatlas1/kuhlmann/icecube/icecube_tools/icecube_tools/detector/r2021.py:82: RuntimeWarning: divide by zero encountered in log10\n",
      "  self.dataset[:, 6:-1] = np.log10(self.dataset[:, 6:-1])\n",
      "WARNING:icecube_tools.detector.r2021:Empty true energy bins at: [(0, 0), (1, 0)]\n",
      "/home/iwsatlas1/kuhlmann/icecube/icecube_tools/icecube_tools/detector/r2021.py:82: RuntimeWarning: divide by zero encountered in log10\n",
      "  self.dataset[:, 6:-1] = np.log10(self.dataset[:, 6:-1])\n",
      "WARNING:icecube_tools.detector.r2021:Empty true energy bins at: [(0, 0), (1, 0)]\n",
      "WARNING:icecube_tools.utils.data:Resetting rng\n"
     ]
    },
    {
     "name": "stdout",
     "output_type": "stream",
     "text": [
      "True 1.2869019849757213 1.4505527689133721 1.500000665602855 0.4824169273578929\n",
      "484 882\n"
     ]
    },
    {
     "name": "stderr",
     "output_type": "stream",
     "text": [
      "/home/iwsatlas1/kuhlmann/icecube/icecube_tools/icecube_tools/detector/r2021.py:82: RuntimeWarning: divide by zero encountered in log10\n",
      "  self.dataset[:, 6:-1] = np.log10(self.dataset[:, 6:-1])\n",
      "WARNING:icecube_tools.detector.r2021:Empty true energy bins at: [(0, 0), (1, 0), (2, 0), (3, 0)]\n",
      "/home/iwsatlas1/kuhlmann/icecube/icecube_tools/icecube_tools/detector/r2021.py:82: RuntimeWarning: divide by zero encountered in log10\n",
      "  self.dataset[:, 6:-1] = np.log10(self.dataset[:, 6:-1])\n",
      "WARNING:icecube_tools.detector.r2021:Empty true energy bins at: [(0, 0), (1, 0), (2, 0)]\n",
      "/home/iwsatlas1/kuhlmann/icecube/icecube_tools/icecube_tools/detector/r2021.py:82: RuntimeWarning: divide by zero encountered in log10\n",
      "  self.dataset[:, 6:-1] = np.log10(self.dataset[:, 6:-1])\n",
      "WARNING:icecube_tools.detector.r2021:Empty true energy bins at: [(0, 0), (1, 0)]\n",
      "/home/iwsatlas1/kuhlmann/icecube/icecube_tools/icecube_tools/detector/r2021.py:82: RuntimeWarning: divide by zero encountered in log10\n",
      "  self.dataset[:, 6:-1] = np.log10(self.dataset[:, 6:-1])\n",
      "WARNING:icecube_tools.detector.r2021:Empty true energy bins at: [(0, 0), (1, 0)]\n"
     ]
    },
    {
     "name": "stdout",
     "output_type": "stream",
     "text": [
      "True 0.00013168190345686593 1.570227846104539 4.449396277261576 1.8724761106475971\n",
      "484 922\n"
     ]
    },
    {
     "name": "stderr",
     "output_type": "stream",
     "text": [
      "WARNING:icecube_tools.utils.data:Resetting rng\n"
     ]
    },
    {
     "name": "stdout",
     "output_type": "stream",
     "text": [
      "True 2.1662553467607232e-10 0.8015196508433398 4.583432441240116 1.7530083501217564\n",
      "485 194\n"
     ]
    },
    {
     "name": "stderr",
     "output_type": "stream",
     "text": [
      "/home/iwsatlas1/kuhlmann/icecube/icecube_tools/icecube_tools/detector/r2021.py:82: RuntimeWarning: divide by zero encountered in log10\n",
      "  self.dataset[:, 6:-1] = np.log10(self.dataset[:, 6:-1])\n",
      "WARNING:icecube_tools.detector.r2021:Empty true energy bins at: [(0, 0), (1, 0), (2, 0), (3, 0)]\n",
      "/home/iwsatlas1/kuhlmann/icecube/icecube_tools/icecube_tools/detector/r2021.py:82: RuntimeWarning: divide by zero encountered in log10\n",
      "  self.dataset[:, 6:-1] = np.log10(self.dataset[:, 6:-1])\n",
      "WARNING:icecube_tools.detector.r2021:Empty true energy bins at: [(0, 0), (1, 0), (2, 0)]\n",
      "/home/iwsatlas1/kuhlmann/icecube/icecube_tools/icecube_tools/detector/r2021.py:82: RuntimeWarning: divide by zero encountered in log10\n",
      "  self.dataset[:, 6:-1] = np.log10(self.dataset[:, 6:-1])\n",
      "WARNING:icecube_tools.detector.r2021:Empty true energy bins at: [(0, 0), (1, 0)]\n",
      "/home/iwsatlas1/kuhlmann/icecube/icecube_tools/icecube_tools/detector/r2021.py:82: RuntimeWarning: divide by zero encountered in log10\n",
      "  self.dataset[:, 6:-1] = np.log10(self.dataset[:, 6:-1])\n",
      "WARNING:icecube_tools.detector.r2021:Empty true energy bins at: [(0, 0), (1, 0)]\n",
      "WARNING:icecube_tools.utils.data:Resetting rng\n"
     ]
    },
    {
     "name": "stdout",
     "output_type": "stream",
     "text": [
      "True 0.5331171785887134 20.83151238356071 3.79356912396143 1.0452141801838883\n",
      "486 139\n"
     ]
    },
    {
     "name": "stderr",
     "output_type": "stream",
     "text": [
      "/home/iwsatlas1/kuhlmann/icecube/icecube_tools/icecube_tools/detector/r2021.py:82: RuntimeWarning: divide by zero encountered in log10\n",
      "  self.dataset[:, 6:-1] = np.log10(self.dataset[:, 6:-1])\n",
      "WARNING:icecube_tools.detector.r2021:Empty true energy bins at: [(0, 0), (1, 0), (2, 0), (3, 0)]\n",
      "/home/iwsatlas1/kuhlmann/icecube/icecube_tools/icecube_tools/detector/r2021.py:82: RuntimeWarning: divide by zero encountered in log10\n",
      "  self.dataset[:, 6:-1] = np.log10(self.dataset[:, 6:-1])\n",
      "WARNING:icecube_tools.detector.r2021:Empty true energy bins at: [(0, 0), (1, 0), (2, 0)]\n",
      "/home/iwsatlas1/kuhlmann/icecube/icecube_tools/icecube_tools/detector/r2021.py:82: RuntimeWarning: divide by zero encountered in log10\n",
      "  self.dataset[:, 6:-1] = np.log10(self.dataset[:, 6:-1])\n",
      "WARNING:icecube_tools.detector.r2021:Empty true energy bins at: [(0, 0), (1, 0)]\n",
      "/home/iwsatlas1/kuhlmann/icecube/icecube_tools/icecube_tools/detector/r2021.py:82: RuntimeWarning: divide by zero encountered in log10\n",
      "  self.dataset[:, 6:-1] = np.log10(self.dataset[:, 6:-1])\n",
      "WARNING:icecube_tools.detector.r2021:Empty true energy bins at: [(0, 0), (1, 0)]\n"
     ]
    },
    {
     "name": "stdout",
     "output_type": "stream",
     "text": [
      "True 1.2275643582150206e-11 9.236338800764102 3.4961122732705903 1.8846591833399138\n",
      "486 674\n",
      "True 0.2863052028919462 16.688788511184843 3.868499575434249 1.1563068075359468\n",
      "486 945\n"
     ]
    },
    {
     "name": "stderr",
     "output_type": "stream",
     "text": [
      "WARNING:icecube_tools.utils.data:Resetting rng\n"
     ]
    },
    {
     "name": "stdout",
     "output_type": "stream",
     "text": [
      "True 5.768083146135536e-05 0.742756846090338 4.71486621911407 1.895377462246464\n",
      "487 941\n"
     ]
    },
    {
     "name": "stderr",
     "output_type": "stream",
     "text": [
      "/home/iwsatlas1/kuhlmann/icecube/icecube_tools/icecube_tools/detector/r2021.py:82: RuntimeWarning: divide by zero encountered in log10\n",
      "  self.dataset[:, 6:-1] = np.log10(self.dataset[:, 6:-1])\n",
      "WARNING:icecube_tools.detector.r2021:Empty true energy bins at: [(0, 0), (1, 0), (2, 0), (3, 0)]\n",
      "/home/iwsatlas1/kuhlmann/icecube/icecube_tools/icecube_tools/detector/r2021.py:82: RuntimeWarning: divide by zero encountered in log10\n",
      "  self.dataset[:, 6:-1] = np.log10(self.dataset[:, 6:-1])\n",
      "WARNING:icecube_tools.detector.r2021:Empty true energy bins at: [(0, 0), (1, 0), (2, 0)]\n",
      "/home/iwsatlas1/kuhlmann/icecube/icecube_tools/icecube_tools/detector/r2021.py:82: RuntimeWarning: divide by zero encountered in log10\n",
      "  self.dataset[:, 6:-1] = np.log10(self.dataset[:, 6:-1])\n",
      "WARNING:icecube_tools.detector.r2021:Empty true energy bins at: [(0, 0), (1, 0)]\n",
      "/home/iwsatlas1/kuhlmann/icecube/icecube_tools/icecube_tools/detector/r2021.py:82: RuntimeWarning: divide by zero encountered in log10\n",
      "  self.dataset[:, 6:-1] = np.log10(self.dataset[:, 6:-1])\n",
      "WARNING:icecube_tools.detector.r2021:Empty true energy bins at: [(0, 0), (1, 0)]\n",
      "WARNING:icecube_tools.utils.data:Resetting rng\n"
     ]
    },
    {
     "name": "stdout",
     "output_type": "stream",
     "text": [
      "True 1.8112542170522486e-07 4.994096178651844 3.4514622645842494 2.5242632099290825\n",
      "488 902\n"
     ]
    },
    {
     "name": "stderr",
     "output_type": "stream",
     "text": [
      "/home/iwsatlas1/kuhlmann/icecube/icecube_tools/icecube_tools/detector/r2021.py:82: RuntimeWarning: divide by zero encountered in log10\n",
      "  self.dataset[:, 6:-1] = np.log10(self.dataset[:, 6:-1])\n",
      "WARNING:icecube_tools.detector.r2021:Empty true energy bins at: [(0, 0), (1, 0), (2, 0), (3, 0)]\n",
      "/home/iwsatlas1/kuhlmann/icecube/icecube_tools/icecube_tools/detector/r2021.py:82: RuntimeWarning: divide by zero encountered in log10\n",
      "  self.dataset[:, 6:-1] = np.log10(self.dataset[:, 6:-1])\n",
      "WARNING:icecube_tools.detector.r2021:Empty true energy bins at: [(0, 0), (1, 0), (2, 0)]\n",
      "/home/iwsatlas1/kuhlmann/icecube/icecube_tools/icecube_tools/detector/r2021.py:82: RuntimeWarning: divide by zero encountered in log10\n",
      "  self.dataset[:, 6:-1] = np.log10(self.dataset[:, 6:-1])\n",
      "WARNING:icecube_tools.detector.r2021:Empty true energy bins at: [(0, 0), (1, 0)]\n",
      "/home/iwsatlas1/kuhlmann/icecube/icecube_tools/icecube_tools/detector/r2021.py:82: RuntimeWarning: divide by zero encountered in log10\n",
      "  self.dataset[:, 6:-1] = np.log10(self.dataset[:, 6:-1])\n",
      "WARNING:icecube_tools.detector.r2021:Empty true energy bins at: [(0, 0), (1, 0)]\n"
     ]
    },
    {
     "name": "stdout",
     "output_type": "stream",
     "text": [
      "True 0.0007059452826478137 3.806836646885377 3.8296046252140603 1.8795106155873207\n",
      "488 960\n"
     ]
    },
    {
     "name": "stderr",
     "output_type": "stream",
     "text": [
      "WARNING:icecube_tools.utils.data:Resetting rng\n"
     ]
    },
    {
     "name": "stdout",
     "output_type": "stream",
     "text": [
      "True 1.2788480627595598e-05 414.26459717912076 3.39184659861956 2.521703377645162\n",
      "489 49\n"
     ]
    },
    {
     "name": "stderr",
     "output_type": "stream",
     "text": [
      "/home/iwsatlas1/kuhlmann/icecube/icecube_tools/icecube_tools/detector/r2021.py:82: RuntimeWarning: divide by zero encountered in log10\n",
      "  self.dataset[:, 6:-1] = np.log10(self.dataset[:, 6:-1])\n",
      "WARNING:icecube_tools.detector.r2021:Empty true energy bins at: [(0, 0), (1, 0), (2, 0), (3, 0)]\n",
      "/home/iwsatlas1/kuhlmann/icecube/icecube_tools/icecube_tools/detector/r2021.py:82: RuntimeWarning: divide by zero encountered in log10\n",
      "  self.dataset[:, 6:-1] = np.log10(self.dataset[:, 6:-1])\n",
      "WARNING:icecube_tools.detector.r2021:Empty true energy bins at: [(0, 0), (1, 0), (2, 0)]\n",
      "/home/iwsatlas1/kuhlmann/icecube/icecube_tools/icecube_tools/detector/r2021.py:82: RuntimeWarning: divide by zero encountered in log10\n",
      "  self.dataset[:, 6:-1] = np.log10(self.dataset[:, 6:-1])\n",
      "WARNING:icecube_tools.detector.r2021:Empty true energy bins at: [(0, 0), (1, 0)]\n",
      "/home/iwsatlas1/kuhlmann/icecube/icecube_tools/icecube_tools/detector/r2021.py:82: RuntimeWarning: divide by zero encountered in log10\n",
      "  self.dataset[:, 6:-1] = np.log10(self.dataset[:, 6:-1])\n",
      "WARNING:icecube_tools.detector.r2021:Empty true energy bins at: [(0, 0), (1, 0)]\n"
     ]
    },
    {
     "name": "stdout",
     "output_type": "stream",
     "text": [
      "True 5.2584118831890505e-06 13.531082903264018 4.04136174148927 3.0072870890929884\n",
      "489 121\n",
      "True 0.00226019927115656 990.9027777986901 3.459076239485276 2.384522487641579\n",
      "489 122\n",
      "True 1.214275923899964e-05 658.762877313555 3.390490687516397 2.5407514194496215\n",
      "489 194\n",
      "True 2.0841865143455125e-05 1295.5811422712686 3.365362261118868 2.5084107073090474\n",
      "489 369\n",
      "True 1.1926325930201387e-05 867.8378116138172 3.359807403960131 1.9131844217423353\n",
      "489 808\n",
      "True 1.2231539571476473e-05 39.09461922331023 3.509945408813696 2.446305796270572\n",
      "489 901\n",
      "True 0.5351804691817886 1.3521896461634533 1.5000000000128115 0.4810746776960263\n",
      "489 911\n"
     ]
    },
    {
     "name": "stderr",
     "output_type": "stream",
     "text": [
      "WARNING:icecube_tools.utils.data:Resetting rng\n"
     ]
    },
    {
     "name": "stdout",
     "output_type": "stream",
     "text": [
      "True 3.0586454675327046e-06 218.62183056767344 4.242008424346061 2.116429613151933\n",
      "490 82\n"
     ]
    },
    {
     "name": "stderr",
     "output_type": "stream",
     "text": [
      "/home/iwsatlas1/kuhlmann/icecube/icecube_tools/icecube_tools/detector/r2021.py:82: RuntimeWarning: divide by zero encountered in log10\n",
      "  self.dataset[:, 6:-1] = np.log10(self.dataset[:, 6:-1])\n",
      "WARNING:icecube_tools.detector.r2021:Empty true energy bins at: [(0, 0), (1, 0), (2, 0), (3, 0)]\n",
      "/home/iwsatlas1/kuhlmann/icecube/icecube_tools/icecube_tools/detector/r2021.py:82: RuntimeWarning: divide by zero encountered in log10\n",
      "  self.dataset[:, 6:-1] = np.log10(self.dataset[:, 6:-1])\n",
      "WARNING:icecube_tools.detector.r2021:Empty true energy bins at: [(0, 0), (1, 0), (2, 0)]\n",
      "/home/iwsatlas1/kuhlmann/icecube/icecube_tools/icecube_tools/detector/r2021.py:82: RuntimeWarning: divide by zero encountered in log10\n",
      "  self.dataset[:, 6:-1] = np.log10(self.dataset[:, 6:-1])\n",
      "WARNING:icecube_tools.detector.r2021:Empty true energy bins at: [(0, 0), (1, 0)]\n",
      "/home/iwsatlas1/kuhlmann/icecube/icecube_tools/icecube_tools/detector/r2021.py:82: RuntimeWarning: divide by zero encountered in log10\n",
      "  self.dataset[:, 6:-1] = np.log10(self.dataset[:, 6:-1])\n",
      "WARNING:icecube_tools.detector.r2021:Empty true energy bins at: [(0, 0), (1, 0)]\n"
     ]
    },
    {
     "name": "stdout",
     "output_type": "stream",
     "text": [
      "True 1.4085848495666792e-05 570.454350887954 3.3101489200183836 1.8190822989741926\n",
      "490 719\n",
      "True 4.671216820836813e-05 13.468914864995078 3.3495373803807986 2.2530057917799784\n",
      "490 939\n"
     ]
    },
    {
     "name": "stderr",
     "output_type": "stream",
     "text": [
      "WARNING:icecube_tools.utils.data:Resetting rng\n"
     ]
    },
    {
     "name": "stdout",
     "output_type": "stream",
     "text": [
      "True 0.00040912209132175316 7.1491647501572295 3.7334153242798083 2.3828826065848085\n",
      "491 534\n"
     ]
    },
    {
     "name": "stderr",
     "output_type": "stream",
     "text": [
      "/home/iwsatlas1/kuhlmann/icecube/icecube_tools/icecube_tools/detector/r2021.py:82: RuntimeWarning: divide by zero encountered in log10\n",
      "  self.dataset[:, 6:-1] = np.log10(self.dataset[:, 6:-1])\n",
      "WARNING:icecube_tools.detector.r2021:Empty true energy bins at: [(0, 0), (1, 0), (2, 0), (3, 0)]\n",
      "/home/iwsatlas1/kuhlmann/icecube/icecube_tools/icecube_tools/detector/r2021.py:82: RuntimeWarning: divide by zero encountered in log10\n",
      "  self.dataset[:, 6:-1] = np.log10(self.dataset[:, 6:-1])\n",
      "WARNING:icecube_tools.detector.r2021:Empty true energy bins at: [(0, 0), (1, 0), (2, 0)]\n",
      "/home/iwsatlas1/kuhlmann/icecube/icecube_tools/icecube_tools/detector/r2021.py:82: RuntimeWarning: divide by zero encountered in log10\n",
      "  self.dataset[:, 6:-1] = np.log10(self.dataset[:, 6:-1])\n",
      "WARNING:icecube_tools.detector.r2021:Empty true energy bins at: [(0, 0), (1, 0)]\n",
      "/home/iwsatlas1/kuhlmann/icecube/icecube_tools/icecube_tools/detector/r2021.py:82: RuntimeWarning: divide by zero encountered in log10\n",
      "  self.dataset[:, 6:-1] = np.log10(self.dataset[:, 6:-1])\n",
      "WARNING:icecube_tools.detector.r2021:Empty true energy bins at: [(0, 0), (1, 0)]\n"
     ]
    },
    {
     "name": "stdout",
     "output_type": "stream",
     "text": [
      "True 0.3264724596353663 7.401973331656972 4.157675830237449 2.98879668910973\n",
      "491 674\n",
      "True 5.193514806493745e-05 1670.7681794927955 3.7092007677813013 2.784155093274758\n",
      "491 885\n",
      "True 2.6758262940259833e-08 37.443936109179695 3.5676718741819005 1.9366989915235142\n",
      "491 924\n",
      "True 5.036221230629231e-10 58.82688799551684 3.6361171759440145 2.026950125394083\n",
      "491 1003\n"
     ]
    },
    {
     "name": "stderr",
     "output_type": "stream",
     "text": [
      "WARNING:icecube_tools.utils.data:Resetting rng\n"
     ]
    },
    {
     "name": "stdout",
     "output_type": "stream",
     "text": [
      "True 2.5110510886803357e-05 8038.7769052006515 3.719535613350516 2.3105426444948973\n",
      "492 67\n"
     ]
    },
    {
     "name": "stderr",
     "output_type": "stream",
     "text": [
      "/home/iwsatlas1/kuhlmann/icecube/icecube_tools/icecube_tools/detector/r2021.py:82: RuntimeWarning: divide by zero encountered in log10\n",
      "  self.dataset[:, 6:-1] = np.log10(self.dataset[:, 6:-1])\n",
      "WARNING:icecube_tools.detector.r2021:Empty true energy bins at: [(0, 0), (1, 0), (2, 0), (3, 0)]\n",
      "/home/iwsatlas1/kuhlmann/icecube/icecube_tools/icecube_tools/detector/r2021.py:82: RuntimeWarning: divide by zero encountered in log10\n",
      "  self.dataset[:, 6:-1] = np.log10(self.dataset[:, 6:-1])\n",
      "WARNING:icecube_tools.detector.r2021:Empty true energy bins at: [(0, 0), (1, 0), (2, 0)]\n",
      "/home/iwsatlas1/kuhlmann/icecube/icecube_tools/icecube_tools/detector/r2021.py:82: RuntimeWarning: divide by zero encountered in log10\n",
      "  self.dataset[:, 6:-1] = np.log10(self.dataset[:, 6:-1])\n",
      "WARNING:icecube_tools.detector.r2021:Empty true energy bins at: [(0, 0), (1, 0)]\n",
      "/home/iwsatlas1/kuhlmann/icecube/icecube_tools/icecube_tools/detector/r2021.py:82: RuntimeWarning: divide by zero encountered in log10\n",
      "  self.dataset[:, 6:-1] = np.log10(self.dataset[:, 6:-1])\n",
      "WARNING:icecube_tools.detector.r2021:Empty true energy bins at: [(0, 0), (1, 0)]\n"
     ]
    },
    {
     "name": "stdout",
     "output_type": "stream",
     "text": [
      "True 3.493139728031258e-08 8082.424718174404 3.9188276786269634 2.52227869508651\n",
      "492 90\n",
      "True 9.051488159050511e-05 8195.602981410882 3.7861983917312974 2.1157012038524785\n",
      "492 121\n",
      "True 2.093541556374576 2.1607991777173132 1.5000000000001041 0.29018513859391504\n",
      "492 211\n",
      "True 0.26179414964725184 16.21956607251822 4.179831238754382 2.9958204616736928\n",
      "492 222\n"
     ]
    },
    {
     "name": "stderr",
     "output_type": "stream",
     "text": [
      "WARNING:icecube_tools.utils.data:Resetting rng\n"
     ]
    },
    {
     "name": "stdout",
     "output_type": "stream",
     "text": [
      "True 0.0014734421552042177 21.226582426477687 3.4324423568148013 2.7025130841892504\n",
      "493 216\n"
     ]
    },
    {
     "name": "stderr",
     "output_type": "stream",
     "text": [
      "/home/iwsatlas1/kuhlmann/icecube/icecube_tools/icecube_tools/detector/r2021.py:82: RuntimeWarning: divide by zero encountered in log10\n",
      "  self.dataset[:, 6:-1] = np.log10(self.dataset[:, 6:-1])\n",
      "WARNING:icecube_tools.detector.r2021:Empty true energy bins at: [(0, 0), (1, 0), (2, 0), (3, 0)]\n",
      "/home/iwsatlas1/kuhlmann/icecube/icecube_tools/icecube_tools/detector/r2021.py:82: RuntimeWarning: divide by zero encountered in log10\n",
      "  self.dataset[:, 6:-1] = np.log10(self.dataset[:, 6:-1])\n",
      "WARNING:icecube_tools.detector.r2021:Empty true energy bins at: [(0, 0), (1, 0), (2, 0)]\n",
      "/home/iwsatlas1/kuhlmann/icecube/icecube_tools/icecube_tools/detector/r2021.py:82: RuntimeWarning: divide by zero encountered in log10\n",
      "  self.dataset[:, 6:-1] = np.log10(self.dataset[:, 6:-1])\n",
      "WARNING:icecube_tools.detector.r2021:Empty true energy bins at: [(0, 0), (1, 0)]\n",
      "/home/iwsatlas1/kuhlmann/icecube/icecube_tools/icecube_tools/detector/r2021.py:82: RuntimeWarning: divide by zero encountered in log10\n",
      "  self.dataset[:, 6:-1] = np.log10(self.dataset[:, 6:-1])\n",
      "WARNING:icecube_tools.detector.r2021:Empty true energy bins at: [(0, 0), (1, 0)]\n"
     ]
    },
    {
     "name": "stdout",
     "output_type": "stream",
     "text": [
      "True 1.0524150388118187 6.963530562505874 4.175661059327777 1.0943687678759866\n",
      "493 931\n",
      "True 2.2511506727407333 2.0159613917048294 1.5000000000022127 0.15145508764096183\n",
      "493 945\n",
      "True 0.8065840729087477 4.680937179258957 4.22828214728723 1.1411880014026128\n",
      "493 1018\n"
     ]
    },
    {
     "name": "stderr",
     "output_type": "stream",
     "text": [
      "WARNING:icecube_tools.utils.data:Resetting rng\n"
     ]
    },
    {
     "name": "stdout",
     "output_type": "stream",
     "text": [
      "True 2.683053256855158e-07 1216.0648850399816 3.9166308603073547 2.76298475150603\n",
      "494 397\n"
     ]
    },
    {
     "name": "stderr",
     "output_type": "stream",
     "text": [
      "/home/iwsatlas1/kuhlmann/icecube/icecube_tools/icecube_tools/detector/r2021.py:82: RuntimeWarning: divide by zero encountered in log10\n",
      "  self.dataset[:, 6:-1] = np.log10(self.dataset[:, 6:-1])\n",
      "WARNING:icecube_tools.detector.r2021:Empty true energy bins at: [(0, 0), (1, 0), (2, 0), (3, 0)]\n",
      "/home/iwsatlas1/kuhlmann/icecube/icecube_tools/icecube_tools/detector/r2021.py:82: RuntimeWarning: divide by zero encountered in log10\n",
      "  self.dataset[:, 6:-1] = np.log10(self.dataset[:, 6:-1])\n",
      "WARNING:icecube_tools.detector.r2021:Empty true energy bins at: [(0, 0), (1, 0), (2, 0)]\n",
      "/home/iwsatlas1/kuhlmann/icecube/icecube_tools/icecube_tools/detector/r2021.py:82: RuntimeWarning: divide by zero encountered in log10\n",
      "  self.dataset[:, 6:-1] = np.log10(self.dataset[:, 6:-1])\n",
      "WARNING:icecube_tools.detector.r2021:Empty true energy bins at: [(0, 0), (1, 0)]\n",
      "/home/iwsatlas1/kuhlmann/icecube/icecube_tools/icecube_tools/detector/r2021.py:82: RuntimeWarning: divide by zero encountered in log10\n",
      "  self.dataset[:, 6:-1] = np.log10(self.dataset[:, 6:-1])\n",
      "WARNING:icecube_tools.detector.r2021:Empty true energy bins at: [(0, 0), (1, 0)]\n"
     ]
    },
    {
     "name": "stdout",
     "output_type": "stream",
     "text": [
      "True 0.7370959560909018 4.317445588373643 4.2334719776064675 1.1524279669209236\n",
      "494 510\n",
      "True 0.8279381351206835 5.211951435208462 4.28859284123839 1.1207310901275642\n",
      "494 918\n",
      "True 1.2931780982269285 1.3975873697811123 1.5000000828510707 0.21068403166430894\n",
      "494 966\n",
      "True 7.335690214993473e-14 0.7849610562108997 3.859436441080577 2.9297047598998938\n",
      "494 978\n"
     ]
    },
    {
     "name": "stderr",
     "output_type": "stream",
     "text": [
      "WARNING:icecube_tools.utils.data:Resetting rng\n"
     ]
    },
    {
     "name": "stdout",
     "output_type": "stream",
     "text": [
      "True 0.37969905930611286 6.981892041003933 4.212615326963461 2.885785249278482\n",
      "495 172\n"
     ]
    },
    {
     "name": "stderr",
     "output_type": "stream",
     "text": [
      "/home/iwsatlas1/kuhlmann/icecube/icecube_tools/icecube_tools/detector/r2021.py:82: RuntimeWarning: divide by zero encountered in log10\n",
      "  self.dataset[:, 6:-1] = np.log10(self.dataset[:, 6:-1])\n",
      "WARNING:icecube_tools.detector.r2021:Empty true energy bins at: [(0, 0), (1, 0), (2, 0), (3, 0)]\n",
      "/home/iwsatlas1/kuhlmann/icecube/icecube_tools/icecube_tools/detector/r2021.py:82: RuntimeWarning: divide by zero encountered in log10\n",
      "  self.dataset[:, 6:-1] = np.log10(self.dataset[:, 6:-1])\n",
      "WARNING:icecube_tools.detector.r2021:Empty true energy bins at: [(0, 0), (1, 0), (2, 0)]\n",
      "/home/iwsatlas1/kuhlmann/icecube/icecube_tools/icecube_tools/detector/r2021.py:82: RuntimeWarning: divide by zero encountered in log10\n",
      "  self.dataset[:, 6:-1] = np.log10(self.dataset[:, 6:-1])\n",
      "WARNING:icecube_tools.detector.r2021:Empty true energy bins at: [(0, 0), (1, 0)]\n",
      "/home/iwsatlas1/kuhlmann/icecube/icecube_tools/icecube_tools/detector/r2021.py:82: RuntimeWarning: divide by zero encountered in log10\n",
      "  self.dataset[:, 6:-1] = np.log10(self.dataset[:, 6:-1])\n",
      "WARNING:icecube_tools.detector.r2021:Empty true energy bins at: [(0, 0), (1, 0)]\n"
     ]
    },
    {
     "name": "stdout",
     "output_type": "stream",
     "text": [
      "True 5.156587166485873e-07 6.376757885642103 3.515863964915036 2.3314733393884453\n",
      "495 262\n",
      "True 0.30077274264044224 11.194696660084684 4.322335353672107 2.870332326311839\n",
      "495 574\n"
     ]
    },
    {
     "name": "stderr",
     "output_type": "stream",
     "text": [
      "WARNING:icecube_tools.utils.data:Resetting rng\n"
     ]
    },
    {
     "name": "stdout",
     "output_type": "stream",
     "text": [
      "True 2.2164658456728947e-05 831.9329870829629 3.5556241097731154 1.7615627134518654\n",
      "496 42\n"
     ]
    },
    {
     "name": "stderr",
     "output_type": "stream",
     "text": [
      "/home/iwsatlas1/kuhlmann/icecube/icecube_tools/icecube_tools/detector/r2021.py:82: RuntimeWarning: divide by zero encountered in log10\n",
      "  self.dataset[:, 6:-1] = np.log10(self.dataset[:, 6:-1])\n",
      "WARNING:icecube_tools.detector.r2021:Empty true energy bins at: [(0, 0), (1, 0), (2, 0), (3, 0)]\n",
      "/home/iwsatlas1/kuhlmann/icecube/icecube_tools/icecube_tools/detector/r2021.py:82: RuntimeWarning: divide by zero encountered in log10\n",
      "  self.dataset[:, 6:-1] = np.log10(self.dataset[:, 6:-1])\n",
      "WARNING:icecube_tools.detector.r2021:Empty true energy bins at: [(0, 0), (1, 0), (2, 0)]\n",
      "/home/iwsatlas1/kuhlmann/icecube/icecube_tools/icecube_tools/detector/r2021.py:82: RuntimeWarning: divide by zero encountered in log10\n",
      "  self.dataset[:, 6:-1] = np.log10(self.dataset[:, 6:-1])\n",
      "WARNING:icecube_tools.detector.r2021:Empty true energy bins at: [(0, 0), (1, 0)]\n",
      "/home/iwsatlas1/kuhlmann/icecube/icecube_tools/icecube_tools/detector/r2021.py:82: RuntimeWarning: divide by zero encountered in log10\n",
      "  self.dataset[:, 6:-1] = np.log10(self.dataset[:, 6:-1])\n",
      "WARNING:icecube_tools.detector.r2021:Empty true energy bins at: [(0, 0), (1, 0)]\n"
     ]
    },
    {
     "name": "stdout",
     "output_type": "stream",
     "text": [
      "True 5.716301997721329e-13 1.6335241665627755 2.6823952005072123 2.3280252252930147\n",
      "496 226\n",
      "True 9.579775502945617e-07 18.233727836374875 3.3349859531523394 2.581832806360018\n",
      "496 616\n",
      "True 3.826033208637216e-05 1642.0441637591834 3.769497335723802 2.219019299921194\n",
      "496 665\n"
     ]
    },
    {
     "name": "stderr",
     "output_type": "stream",
     "text": [
      "WARNING:icecube_tools.utils.data:Resetting rng\n"
     ]
    },
    {
     "name": "stdout",
     "output_type": "stream",
     "text": [
      "True 3.4602312334874874e-16 0.0676584781248136 3.4528006534111486 2.4576313558080454\n",
      "497 180\n"
     ]
    },
    {
     "name": "stderr",
     "output_type": "stream",
     "text": [
      "/home/iwsatlas1/kuhlmann/icecube/icecube_tools/icecube_tools/detector/r2021.py:82: RuntimeWarning: divide by zero encountered in log10\n",
      "  self.dataset[:, 6:-1] = np.log10(self.dataset[:, 6:-1])\n",
      "WARNING:icecube_tools.detector.r2021:Empty true energy bins at: [(0, 0), (1, 0), (2, 0), (3, 0)]\n",
      "/home/iwsatlas1/kuhlmann/icecube/icecube_tools/icecube_tools/detector/r2021.py:82: RuntimeWarning: divide by zero encountered in log10\n",
      "  self.dataset[:, 6:-1] = np.log10(self.dataset[:, 6:-1])\n",
      "WARNING:icecube_tools.detector.r2021:Empty true energy bins at: [(0, 0), (1, 0), (2, 0)]\n",
      "/home/iwsatlas1/kuhlmann/icecube/icecube_tools/icecube_tools/detector/r2021.py:82: RuntimeWarning: divide by zero encountered in log10\n",
      "  self.dataset[:, 6:-1] = np.log10(self.dataset[:, 6:-1])\n",
      "WARNING:icecube_tools.detector.r2021:Empty true energy bins at: [(0, 0), (1, 0)]\n",
      "/home/iwsatlas1/kuhlmann/icecube/icecube_tools/icecube_tools/detector/r2021.py:82: RuntimeWarning: divide by zero encountered in log10\n",
      "  self.dataset[:, 6:-1] = np.log10(self.dataset[:, 6:-1])\n",
      "WARNING:icecube_tools.detector.r2021:Empty true energy bins at: [(0, 0), (1, 0)]\n"
     ]
    },
    {
     "name": "stdout",
     "output_type": "stream",
     "text": [
      "True 0.9111655029389607 3.33033469637202 4.342401966851951 1.0530371651202035\n",
      "497 281\n",
      "True 2.0065301502429568e-05 11386.221654188153 3.8444342160163627 1.8962279964356066\n",
      "497 551\n",
      "True 1.249715715499649 4.32039045655081 4.2819135303090645 0.9330302021546668\n",
      "497 878\n",
      "True 0.00030588418968286867 15.038834776642457 3.270262068413742 2.2722298442699436\n",
      "497 879\n"
     ]
    },
    {
     "name": "stderr",
     "output_type": "stream",
     "text": [
      "WARNING:icecube_tools.utils.data:Resetting rng\n"
     ]
    },
    {
     "name": "stdout",
     "output_type": "stream",
     "text": [
      "True 3.556591752877647e-10 46.87270363511804 3.3644655505595003 2.5759657210355678\n",
      "498 553\n"
     ]
    },
    {
     "name": "stderr",
     "output_type": "stream",
     "text": [
      "/home/iwsatlas1/kuhlmann/icecube/icecube_tools/icecube_tools/detector/r2021.py:82: RuntimeWarning: divide by zero encountered in log10\n",
      "  self.dataset[:, 6:-1] = np.log10(self.dataset[:, 6:-1])\n",
      "WARNING:icecube_tools.detector.r2021:Empty true energy bins at: [(0, 0), (1, 0), (2, 0), (3, 0)]\n",
      "/home/iwsatlas1/kuhlmann/icecube/icecube_tools/icecube_tools/detector/r2021.py:82: RuntimeWarning: divide by zero encountered in log10\n",
      "  self.dataset[:, 6:-1] = np.log10(self.dataset[:, 6:-1])\n",
      "WARNING:icecube_tools.detector.r2021:Empty true energy bins at: [(0, 0), (1, 0), (2, 0)]\n",
      "/home/iwsatlas1/kuhlmann/icecube/icecube_tools/icecube_tools/detector/r2021.py:82: RuntimeWarning: divide by zero encountered in log10\n",
      "  self.dataset[:, 6:-1] = np.log10(self.dataset[:, 6:-1])\n",
      "WARNING:icecube_tools.detector.r2021:Empty true energy bins at: [(0, 0), (1, 0)]\n",
      "/home/iwsatlas1/kuhlmann/icecube/icecube_tools/icecube_tools/detector/r2021.py:82: RuntimeWarning: divide by zero encountered in log10\n",
      "  self.dataset[:, 6:-1] = np.log10(self.dataset[:, 6:-1])\n",
      "WARNING:icecube_tools.detector.r2021:Empty true energy bins at: [(0, 0), (1, 0)]\n",
      "WARNING:icecube_tools.utils.data:Resetting rng\n"
     ]
    },
    {
     "name": "stdout",
     "output_type": "stream",
     "text": [
      "True 0.869586251497405 4.0570260052642935 4.29823949351662 1.0626562642140265\n",
      "499 422\n"
     ]
    },
    {
     "name": "stderr",
     "output_type": "stream",
     "text": [
      "/home/iwsatlas1/kuhlmann/icecube/icecube_tools/icecube_tools/detector/r2021.py:82: RuntimeWarning: divide by zero encountered in log10\n",
      "  self.dataset[:, 6:-1] = np.log10(self.dataset[:, 6:-1])\n",
      "WARNING:icecube_tools.detector.r2021:Empty true energy bins at: [(0, 0), (1, 0), (2, 0), (3, 0)]\n",
      "/home/iwsatlas1/kuhlmann/icecube/icecube_tools/icecube_tools/detector/r2021.py:82: RuntimeWarning: divide by zero encountered in log10\n",
      "  self.dataset[:, 6:-1] = np.log10(self.dataset[:, 6:-1])\n",
      "WARNING:icecube_tools.detector.r2021:Empty true energy bins at: [(0, 0), (1, 0), (2, 0)]\n",
      "/home/iwsatlas1/kuhlmann/icecube/icecube_tools/icecube_tools/detector/r2021.py:82: RuntimeWarning: divide by zero encountered in log10\n",
      "  self.dataset[:, 6:-1] = np.log10(self.dataset[:, 6:-1])\n",
      "WARNING:icecube_tools.detector.r2021:Empty true energy bins at: [(0, 0), (1, 0)]\n",
      "/home/iwsatlas1/kuhlmann/icecube/icecube_tools/icecube_tools/detector/r2021.py:82: RuntimeWarning: divide by zero encountered in log10\n",
      "  self.dataset[:, 6:-1] = np.log10(self.dataset[:, 6:-1])\n",
      "WARNING:icecube_tools.detector.r2021:Empty true energy bins at: [(0, 0), (1, 0)]\n"
     ]
    },
    {
     "name": "stdout",
     "output_type": "stream",
     "text": [
      "True 1.1855322724025747 4.717104772723562 4.174842645645833 1.1074934762402744\n",
      "499 734\n"
     ]
    },
    {
     "name": "stderr",
     "output_type": "stream",
     "text": [
      "WARNING:icecube_tools.utils.data:Resetting rng\n"
     ]
    },
    {
     "name": "stdout",
     "output_type": "stream",
     "text": [
      "True 2.4963927919199186e-08 159.17889673168543 2.987101924496648 1.903974656336357\n",
      "500 443\n"
     ]
    },
    {
     "name": "stderr",
     "output_type": "stream",
     "text": [
      "/home/iwsatlas1/kuhlmann/icecube/icecube_tools/icecube_tools/detector/r2021.py:82: RuntimeWarning: divide by zero encountered in log10\n",
      "  self.dataset[:, 6:-1] = np.log10(self.dataset[:, 6:-1])\n",
      "WARNING:icecube_tools.detector.r2021:Empty true energy bins at: [(0, 0), (1, 0), (2, 0), (3, 0)]\n",
      "/home/iwsatlas1/kuhlmann/icecube/icecube_tools/icecube_tools/detector/r2021.py:82: RuntimeWarning: divide by zero encountered in log10\n",
      "  self.dataset[:, 6:-1] = np.log10(self.dataset[:, 6:-1])\n",
      "WARNING:icecube_tools.detector.r2021:Empty true energy bins at: [(0, 0), (1, 0), (2, 0)]\n",
      "/home/iwsatlas1/kuhlmann/icecube/icecube_tools/icecube_tools/detector/r2021.py:82: RuntimeWarning: divide by zero encountered in log10\n",
      "  self.dataset[:, 6:-1] = np.log10(self.dataset[:, 6:-1])\n",
      "WARNING:icecube_tools.detector.r2021:Empty true energy bins at: [(0, 0), (1, 0)]\n",
      "/home/iwsatlas1/kuhlmann/icecube/icecube_tools/icecube_tools/detector/r2021.py:82: RuntimeWarning: divide by zero encountered in log10\n",
      "  self.dataset[:, 6:-1] = np.log10(self.dataset[:, 6:-1])\n",
      "WARNING:icecube_tools.detector.r2021:Empty true energy bins at: [(0, 0), (1, 0)]\n",
      "WARNING:icecube_tools.utils.data:Resetting rng\n"
     ]
    },
    {
     "name": "stdout",
     "output_type": "stream",
     "text": [
      "True 9.518861393553735e-13 5.954484241829752 3.421346158027982 2.561265417676324\n",
      "501 306\n"
     ]
    },
    {
     "name": "stderr",
     "output_type": "stream",
     "text": [
      "/home/iwsatlas1/kuhlmann/icecube/icecube_tools/icecube_tools/detector/r2021.py:82: RuntimeWarning: divide by zero encountered in log10\n",
      "  self.dataset[:, 6:-1] = np.log10(self.dataset[:, 6:-1])\n",
      "WARNING:icecube_tools.detector.r2021:Empty true energy bins at: [(0, 0), (1, 0), (2, 0), (3, 0)]\n",
      "/home/iwsatlas1/kuhlmann/icecube/icecube_tools/icecube_tools/detector/r2021.py:82: RuntimeWarning: divide by zero encountered in log10\n",
      "  self.dataset[:, 6:-1] = np.log10(self.dataset[:, 6:-1])\n",
      "WARNING:icecube_tools.detector.r2021:Empty true energy bins at: [(0, 0), (1, 0), (2, 0)]\n",
      "/home/iwsatlas1/kuhlmann/icecube/icecube_tools/icecube_tools/detector/r2021.py:82: RuntimeWarning: divide by zero encountered in log10\n",
      "  self.dataset[:, 6:-1] = np.log10(self.dataset[:, 6:-1])\n",
      "WARNING:icecube_tools.detector.r2021:Empty true energy bins at: [(0, 0), (1, 0)]\n",
      "/home/iwsatlas1/kuhlmann/icecube/icecube_tools/icecube_tools/detector/r2021.py:82: RuntimeWarning: divide by zero encountered in log10\n",
      "  self.dataset[:, 6:-1] = np.log10(self.dataset[:, 6:-1])\n",
      "WARNING:icecube_tools.detector.r2021:Empty true energy bins at: [(0, 0), (1, 0)]\n"
     ]
    },
    {
     "name": "stdout",
     "output_type": "stream",
     "text": [
      "True 0.1998326292282709 14.660458497957947 3.014255214339656 2.4988422336732183\n",
      "501 390\n",
      "True 0.01646093920088407 231.6050145816463 3.2642072730770595 2.5661905526597364\n",
      "501 709\n",
      "True 0.00023064907029835918 52.20598655415293 3.4265060287788676 1.775069504271301\n",
      "501 941\n"
     ]
    },
    {
     "name": "stderr",
     "output_type": "stream",
     "text": [
      "WARNING:icecube_tools.utils.data:Resetting rng\n"
     ]
    },
    {
     "name": "stdout",
     "output_type": "stream",
     "text": [
      "True 4.868664378040533e-09 110.24169484631477 3.529525956562461 2.357182563049371\n",
      "502 886\n"
     ]
    },
    {
     "name": "stderr",
     "output_type": "stream",
     "text": [
      "/home/iwsatlas1/kuhlmann/icecube/icecube_tools/icecube_tools/detector/r2021.py:82: RuntimeWarning: divide by zero encountered in log10\n",
      "  self.dataset[:, 6:-1] = np.log10(self.dataset[:, 6:-1])\n",
      "WARNING:icecube_tools.detector.r2021:Empty true energy bins at: [(0, 0), (1, 0), (2, 0), (3, 0)]\n",
      "/home/iwsatlas1/kuhlmann/icecube/icecube_tools/icecube_tools/detector/r2021.py:82: RuntimeWarning: divide by zero encountered in log10\n",
      "  self.dataset[:, 6:-1] = np.log10(self.dataset[:, 6:-1])\n",
      "WARNING:icecube_tools.detector.r2021:Empty true energy bins at: [(0, 0), (1, 0), (2, 0)]\n",
      "/home/iwsatlas1/kuhlmann/icecube/icecube_tools/icecube_tools/detector/r2021.py:82: RuntimeWarning: divide by zero encountered in log10\n",
      "  self.dataset[:, 6:-1] = np.log10(self.dataset[:, 6:-1])\n",
      "WARNING:icecube_tools.detector.r2021:Empty true energy bins at: [(0, 0), (1, 0)]\n",
      "/home/iwsatlas1/kuhlmann/icecube/icecube_tools/icecube_tools/detector/r2021.py:82: RuntimeWarning: divide by zero encountered in log10\n",
      "  self.dataset[:, 6:-1] = np.log10(self.dataset[:, 6:-1])\n",
      "WARNING:icecube_tools.detector.r2021:Empty true energy bins at: [(0, 0), (1, 0)]\n"
     ]
    },
    {
     "name": "stdout",
     "output_type": "stream",
     "text": [
      "True 7.183735997897653e-06 24.852041117378143 3.3334702288937335 2.5829844921209117\n",
      "502 908\n",
      "True 1.208423971943737 3.925031167828156 4.222943583051406 0.9964970981052572\n",
      "502 941\n"
     ]
    },
    {
     "name": "stderr",
     "output_type": "stream",
     "text": [
      "WARNING:icecube_tools.utils.data:Resetting rng\n"
     ]
    },
    {
     "name": "stdout",
     "output_type": "stream",
     "text": [
      "True 2.0412298711588903 1.9667638660452993 1.5000000000725604 0.2805284318895974\n",
      "503 779\n"
     ]
    },
    {
     "name": "stderr",
     "output_type": "stream",
     "text": [
      "/home/iwsatlas1/kuhlmann/icecube/icecube_tools/icecube_tools/detector/r2021.py:82: RuntimeWarning: divide by zero encountered in log10\n",
      "  self.dataset[:, 6:-1] = np.log10(self.dataset[:, 6:-1])\n",
      "WARNING:icecube_tools.detector.r2021:Empty true energy bins at: [(0, 0), (1, 0), (2, 0), (3, 0)]\n",
      "/home/iwsatlas1/kuhlmann/icecube/icecube_tools/icecube_tools/detector/r2021.py:82: RuntimeWarning: divide by zero encountered in log10\n",
      "  self.dataset[:, 6:-1] = np.log10(self.dataset[:, 6:-1])\n",
      "WARNING:icecube_tools.detector.r2021:Empty true energy bins at: [(0, 0), (1, 0), (2, 0)]\n",
      "/home/iwsatlas1/kuhlmann/icecube/icecube_tools/icecube_tools/detector/r2021.py:82: RuntimeWarning: divide by zero encountered in log10\n",
      "  self.dataset[:, 6:-1] = np.log10(self.dataset[:, 6:-1])\n",
      "WARNING:icecube_tools.detector.r2021:Empty true energy bins at: [(0, 0), (1, 0)]\n",
      "/home/iwsatlas1/kuhlmann/icecube/icecube_tools/icecube_tools/detector/r2021.py:82: RuntimeWarning: divide by zero encountered in log10\n",
      "  self.dataset[:, 6:-1] = np.log10(self.dataset[:, 6:-1])\n",
      "WARNING:icecube_tools.detector.r2021:Empty true energy bins at: [(0, 0), (1, 0)]\n",
      "WARNING:icecube_tools.utils.data:Resetting rng\n"
     ]
    },
    {
     "name": "stdout",
     "output_type": "stream",
     "text": [
      "True 0.6439071066671193 7.279985720217448 4.173099141994179 2.628284186203657\n",
      "504 91\n"
     ]
    },
    {
     "name": "stderr",
     "output_type": "stream",
     "text": [
      "/home/iwsatlas1/kuhlmann/icecube/icecube_tools/icecube_tools/detector/r2021.py:82: RuntimeWarning: divide by zero encountered in log10\n",
      "  self.dataset[:, 6:-1] = np.log10(self.dataset[:, 6:-1])\n",
      "WARNING:icecube_tools.detector.r2021:Empty true energy bins at: [(0, 0), (1, 0), (2, 0), (3, 0)]\n",
      "/home/iwsatlas1/kuhlmann/icecube/icecube_tools/icecube_tools/detector/r2021.py:82: RuntimeWarning: divide by zero encountered in log10\n",
      "  self.dataset[:, 6:-1] = np.log10(self.dataset[:, 6:-1])\n",
      "WARNING:icecube_tools.detector.r2021:Empty true energy bins at: [(0, 0), (1, 0), (2, 0)]\n",
      "/home/iwsatlas1/kuhlmann/icecube/icecube_tools/icecube_tools/detector/r2021.py:82: RuntimeWarning: divide by zero encountered in log10\n",
      "  self.dataset[:, 6:-1] = np.log10(self.dataset[:, 6:-1])\n",
      "WARNING:icecube_tools.detector.r2021:Empty true energy bins at: [(0, 0), (1, 0)]\n",
      "/home/iwsatlas1/kuhlmann/icecube/icecube_tools/icecube_tools/detector/r2021.py:82: RuntimeWarning: divide by zero encountered in log10\n",
      "  self.dataset[:, 6:-1] = np.log10(self.dataset[:, 6:-1])\n",
      "WARNING:icecube_tools.detector.r2021:Empty true energy bins at: [(0, 0), (1, 0)]\n"
     ]
    },
    {
     "name": "stdout",
     "output_type": "stream",
     "text": [
      "True 1.5250648832248201e-06 2297.2271241153603 3.831465391904984 2.2100856678740906\n",
      "504 452\n",
      "True 1.0732346038481477 1.889117582002851 1.5043812457530057 3.244162990696151\n",
      "504 1003\n"
     ]
    },
    {
     "name": "stderr",
     "output_type": "stream",
     "text": [
      "WARNING:icecube_tools.utils.data:Resetting rng\n"
     ]
    },
    {
     "name": "stdout",
     "output_type": "stream",
     "text": [
      "True 9.448024451081467e-08 10470.186456155425 3.563994081365799 2.320403554008105\n",
      "505 92\n"
     ]
    },
    {
     "name": "stderr",
     "output_type": "stream",
     "text": [
      "/home/iwsatlas1/kuhlmann/icecube/icecube_tools/icecube_tools/detector/r2021.py:82: RuntimeWarning: divide by zero encountered in log10\n",
      "  self.dataset[:, 6:-1] = np.log10(self.dataset[:, 6:-1])\n",
      "WARNING:icecube_tools.detector.r2021:Empty true energy bins at: [(0, 0), (1, 0), (2, 0), (3, 0)]\n",
      "/home/iwsatlas1/kuhlmann/icecube/icecube_tools/icecube_tools/detector/r2021.py:82: RuntimeWarning: divide by zero encountered in log10\n",
      "  self.dataset[:, 6:-1] = np.log10(self.dataset[:, 6:-1])\n",
      "WARNING:icecube_tools.detector.r2021:Empty true energy bins at: [(0, 0), (1, 0), (2, 0)]\n",
      "/home/iwsatlas1/kuhlmann/icecube/icecube_tools/icecube_tools/detector/r2021.py:82: RuntimeWarning: divide by zero encountered in log10\n",
      "  self.dataset[:, 6:-1] = np.log10(self.dataset[:, 6:-1])\n",
      "WARNING:icecube_tools.detector.r2021:Empty true energy bins at: [(0, 0), (1, 0)]\n",
      "/home/iwsatlas1/kuhlmann/icecube/icecube_tools/icecube_tools/detector/r2021.py:82: RuntimeWarning: divide by zero encountered in log10\n",
      "  self.dataset[:, 6:-1] = np.log10(self.dataset[:, 6:-1])\n",
      "WARNING:icecube_tools.detector.r2021:Empty true energy bins at: [(0, 0), (1, 0)]\n"
     ]
    },
    {
     "name": "stdout",
     "output_type": "stream",
     "text": [
      "True 0.11416773862183983 22.520620522365363 4.172092928683413 2.9921418087076717\n",
      "505 178\n",
      "True 5.974147803121014e-06 582.623147065404 3.730667631332628 2.691573553759051\n",
      "505 353\n",
      "True 0.8250456234056834 3.271013704990928 4.125503226409267 2.6048202703038017\n",
      "505 590\n",
      "True 2.973008694467211e-07 1288.495441732689 3.9322454667551403 1.8123297602059218\n",
      "505 774\n",
      "True 4.1944578292053e-05 1022.3747834669796 3.683443159018082 2.3404925259027123\n",
      "505 814\n",
      "True 0.9579566606905088 3.573142407389358 4.217346258572535 1.1549077034520987\n",
      "505 947\n"
     ]
    },
    {
     "name": "stderr",
     "output_type": "stream",
     "text": [
      "WARNING:icecube_tools.utils.data:Resetting rng\n"
     ]
    },
    {
     "name": "stdout",
     "output_type": "stream",
     "text": [
      "True 0.5099363501462029 4.805024833870921 4.2144475502383845 2.753613599129509\n",
      "506 3\n"
     ]
    },
    {
     "name": "stderr",
     "output_type": "stream",
     "text": [
      "/home/iwsatlas1/kuhlmann/icecube/icecube_tools/icecube_tools/detector/r2021.py:82: RuntimeWarning: divide by zero encountered in log10\n",
      "  self.dataset[:, 6:-1] = np.log10(self.dataset[:, 6:-1])\n",
      "WARNING:icecube_tools.detector.r2021:Empty true energy bins at: [(0, 0), (1, 0), (2, 0), (3, 0)]\n",
      "/home/iwsatlas1/kuhlmann/icecube/icecube_tools/icecube_tools/detector/r2021.py:82: RuntimeWarning: divide by zero encountered in log10\n",
      "  self.dataset[:, 6:-1] = np.log10(self.dataset[:, 6:-1])\n",
      "WARNING:icecube_tools.detector.r2021:Empty true energy bins at: [(0, 0), (1, 0), (2, 0)]\n",
      "/home/iwsatlas1/kuhlmann/icecube/icecube_tools/icecube_tools/detector/r2021.py:82: RuntimeWarning: divide by zero encountered in log10\n",
      "  self.dataset[:, 6:-1] = np.log10(self.dataset[:, 6:-1])\n",
      "WARNING:icecube_tools.detector.r2021:Empty true energy bins at: [(0, 0), (1, 0)]\n",
      "/home/iwsatlas1/kuhlmann/icecube/icecube_tools/icecube_tools/detector/r2021.py:82: RuntimeWarning: divide by zero encountered in log10\n",
      "  self.dataset[:, 6:-1] = np.log10(self.dataset[:, 6:-1])\n",
      "WARNING:icecube_tools.detector.r2021:Empty true energy bins at: [(0, 0), (1, 0)]\n"
     ]
    },
    {
     "name": "stdout",
     "output_type": "stream",
     "text": [
      "True 1.157510808489637 3.8593240916814624 4.447272277167748 1.0730142015771453\n",
      "506 390\n"
     ]
    },
    {
     "name": "stderr",
     "output_type": "stream",
     "text": [
      "WARNING:icecube_tools.utils.data:Resetting rng\n"
     ]
    },
    {
     "name": "stdout",
     "output_type": "stream",
     "text": [
      "True 0.6748618143147097 2.8050307016104403 4.3181393869169575 1.1575012174409072\n",
      "507 371\n"
     ]
    },
    {
     "name": "stderr",
     "output_type": "stream",
     "text": [
      "/home/iwsatlas1/kuhlmann/icecube/icecube_tools/icecube_tools/detector/r2021.py:82: RuntimeWarning: divide by zero encountered in log10\n",
      "  self.dataset[:, 6:-1] = np.log10(self.dataset[:, 6:-1])\n",
      "WARNING:icecube_tools.detector.r2021:Empty true energy bins at: [(0, 0), (1, 0), (2, 0), (3, 0)]\n",
      "/home/iwsatlas1/kuhlmann/icecube/icecube_tools/icecube_tools/detector/r2021.py:82: RuntimeWarning: divide by zero encountered in log10\n",
      "  self.dataset[:, 6:-1] = np.log10(self.dataset[:, 6:-1])\n",
      "WARNING:icecube_tools.detector.r2021:Empty true energy bins at: [(0, 0), (1, 0), (2, 0)]\n",
      "/home/iwsatlas1/kuhlmann/icecube/icecube_tools/icecube_tools/detector/r2021.py:82: RuntimeWarning: divide by zero encountered in log10\n",
      "  self.dataset[:, 6:-1] = np.log10(self.dataset[:, 6:-1])\n",
      "WARNING:icecube_tools.detector.r2021:Empty true energy bins at: [(0, 0), (1, 0)]\n",
      "/home/iwsatlas1/kuhlmann/icecube/icecube_tools/icecube_tools/detector/r2021.py:82: RuntimeWarning: divide by zero encountered in log10\n",
      "  self.dataset[:, 6:-1] = np.log10(self.dataset[:, 6:-1])\n",
      "WARNING:icecube_tools.detector.r2021:Empty true energy bins at: [(0, 0), (1, 0)]\n"
     ]
    },
    {
     "name": "stdout",
     "output_type": "stream",
     "text": [
      "True 1.444726086728904e-07 1.1194472318554567 4.373692407967799 2.8868110496403228\n",
      "507 466\n",
      "True 1.3893036111871588e-08 14.100460827417084 3.741546131568244 2.674620911807893\n",
      "507 729\n",
      "True 0.0024493391916620634 16.918084475358945 3.568620059880687 2.428034336222391\n",
      "507 762\n"
     ]
    },
    {
     "name": "stderr",
     "output_type": "stream",
     "text": [
      "WARNING:icecube_tools.utils.data:Resetting rng\n"
     ]
    },
    {
     "name": "stdout",
     "output_type": "stream",
     "text": [
      "True 6.0125786727899255e-15 0.10127791506725878 3.664470421750958 2.4094264825232434\n"
     ]
    },
    {
     "name": "stderr",
     "output_type": "stream",
     "text": [
      "WARNING:icecube_tools.utils.data:Resetting rng\n"
     ]
    },
    {
     "name": "stdout",
     "output_type": "stream",
     "text": [
      "509 222\n"
     ]
    },
    {
     "name": "stderr",
     "output_type": "stream",
     "text": [
      "/home/iwsatlas1/kuhlmann/icecube/icecube_tools/icecube_tools/detector/r2021.py:82: RuntimeWarning: divide by zero encountered in log10\n",
      "  self.dataset[:, 6:-1] = np.log10(self.dataset[:, 6:-1])\n",
      "WARNING:icecube_tools.detector.r2021:Empty true energy bins at: [(0, 0), (1, 0), (2, 0), (3, 0)]\n",
      "/home/iwsatlas1/kuhlmann/icecube/icecube_tools/icecube_tools/detector/r2021.py:82: RuntimeWarning: divide by zero encountered in log10\n",
      "  self.dataset[:, 6:-1] = np.log10(self.dataset[:, 6:-1])\n",
      "WARNING:icecube_tools.detector.r2021:Empty true energy bins at: [(0, 0), (1, 0), (2, 0)]\n",
      "/home/iwsatlas1/kuhlmann/icecube/icecube_tools/icecube_tools/detector/r2021.py:82: RuntimeWarning: divide by zero encountered in log10\n",
      "  self.dataset[:, 6:-1] = np.log10(self.dataset[:, 6:-1])\n",
      "WARNING:icecube_tools.detector.r2021:Empty true energy bins at: [(0, 0), (1, 0)]\n",
      "/home/iwsatlas1/kuhlmann/icecube/icecube_tools/icecube_tools/detector/r2021.py:82: RuntimeWarning: divide by zero encountered in log10\n",
      "  self.dataset[:, 6:-1] = np.log10(self.dataset[:, 6:-1])\n",
      "WARNING:icecube_tools.detector.r2021:Empty true energy bins at: [(0, 0), (1, 0)]\n"
     ]
    },
    {
     "name": "stdout",
     "output_type": "stream",
     "text": [
      "True 8.634994616862652e-07 23.770105976887976 3.826913450973364 2.3916067481785745\n",
      "509 287\n",
      "True 6.611937831014353e-12 4.622611147572398 3.5455052570934376 2.129749386609674\n",
      "509 345\n",
      "True 5.888834740479763e-09 22.34900517791375 4.3159909600358874 2.8150854735024167\n",
      "509 447\n",
      "True 0.0005361723863034581 10.6914438570025 3.5835379523674944 2.7809321198886767\n",
      "509 448\n",
      "True 2.531612072753653e-15 0.06970123324898761 3.750805219020229 2.873439168061176\n",
      "509 941\n"
     ]
    },
    {
     "name": "stderr",
     "output_type": "stream",
     "text": [
      "WARNING:icecube_tools.utils.data:Resetting rng\n"
     ]
    },
    {
     "name": "stdout",
     "output_type": "stream",
     "text": [
      "True 4.8245510145873065e-05 3.584169403192654 3.9896166538883544 2.947820722869498\n",
      "510 115\n"
     ]
    },
    {
     "name": "stderr",
     "output_type": "stream",
     "text": [
      "/home/iwsatlas1/kuhlmann/icecube/icecube_tools/icecube_tools/detector/r2021.py:82: RuntimeWarning: divide by zero encountered in log10\n",
      "  self.dataset[:, 6:-1] = np.log10(self.dataset[:, 6:-1])\n",
      "WARNING:icecube_tools.detector.r2021:Empty true energy bins at: [(0, 0), (1, 0), (2, 0), (3, 0)]\n",
      "/home/iwsatlas1/kuhlmann/icecube/icecube_tools/icecube_tools/detector/r2021.py:82: RuntimeWarning: divide by zero encountered in log10\n",
      "  self.dataset[:, 6:-1] = np.log10(self.dataset[:, 6:-1])\n",
      "WARNING:icecube_tools.detector.r2021:Empty true energy bins at: [(0, 0), (1, 0), (2, 0)]\n",
      "/home/iwsatlas1/kuhlmann/icecube/icecube_tools/icecube_tools/detector/r2021.py:82: RuntimeWarning: divide by zero encountered in log10\n",
      "  self.dataset[:, 6:-1] = np.log10(self.dataset[:, 6:-1])\n",
      "WARNING:icecube_tools.detector.r2021:Empty true energy bins at: [(0, 0), (1, 0)]\n",
      "/home/iwsatlas1/kuhlmann/icecube/icecube_tools/icecube_tools/detector/r2021.py:82: RuntimeWarning: divide by zero encountered in log10\n",
      "  self.dataset[:, 6:-1] = np.log10(self.dataset[:, 6:-1])\n",
      "WARNING:icecube_tools.detector.r2021:Empty true energy bins at: [(0, 0), (1, 0)]\n"
     ]
    },
    {
     "name": "stdout",
     "output_type": "stream",
     "text": [
      "True 0.7515110788630449 9.043831040142834 3.818878853496586 0.9138353431408002\n",
      "510 279\n",
      "True 0.37674447116815024 17.177958464345245 3.600733707711917 2.7997763141110297\n",
      "510 756\n",
      "True 1.839097511199328 4.913362725331194 3.7781782444568774 0.5784628487733798\n",
      "510 868\n",
      "True 0.4778277399948254 20.3376120865643 3.7214608805355507 2.6452632379305223\n",
      "510 924\n"
     ]
    },
    {
     "name": "stderr",
     "output_type": "stream",
     "text": [
      "WARNING:icecube_tools.utils.data:Resetting rng\n"
     ]
    },
    {
     "name": "stdout",
     "output_type": "stream",
     "text": [
      "True 0.0006427122515788714 7.762304876814779 3.695697342830928 2.8458714574372563\n",
      "511 176\n"
     ]
    },
    {
     "name": "stderr",
     "output_type": "stream",
     "text": [
      "/home/iwsatlas1/kuhlmann/icecube/icecube_tools/icecube_tools/detector/r2021.py:82: RuntimeWarning: divide by zero encountered in log10\n",
      "  self.dataset[:, 6:-1] = np.log10(self.dataset[:, 6:-1])\n",
      "WARNING:icecube_tools.detector.r2021:Empty true energy bins at: [(0, 0), (1, 0), (2, 0), (3, 0)]\n",
      "/home/iwsatlas1/kuhlmann/icecube/icecube_tools/icecube_tools/detector/r2021.py:82: RuntimeWarning: divide by zero encountered in log10\n",
      "  self.dataset[:, 6:-1] = np.log10(self.dataset[:, 6:-1])\n",
      "WARNING:icecube_tools.detector.r2021:Empty true energy bins at: [(0, 0), (1, 0), (2, 0)]\n",
      "/home/iwsatlas1/kuhlmann/icecube/icecube_tools/icecube_tools/detector/r2021.py:82: RuntimeWarning: divide by zero encountered in log10\n",
      "  self.dataset[:, 6:-1] = np.log10(self.dataset[:, 6:-1])\n",
      "WARNING:icecube_tools.detector.r2021:Empty true energy bins at: [(0, 0), (1, 0)]\n",
      "/home/iwsatlas1/kuhlmann/icecube/icecube_tools/icecube_tools/detector/r2021.py:82: RuntimeWarning: divide by zero encountered in log10\n",
      "  self.dataset[:, 6:-1] = np.log10(self.dataset[:, 6:-1])\n",
      "WARNING:icecube_tools.detector.r2021:Empty true energy bins at: [(0, 0), (1, 0)]\n"
     ]
    },
    {
     "name": "stdout",
     "output_type": "stream",
     "text": [
      "True 0.6395442716354418 12.54138030359038 3.7083602456000455 1.0181745398317337\n",
      "511 341\n",
      "True 7.87423839413752e-06 11.4869651782269 3.6590210816476216 2.40425527093407\n",
      "511 483\n"
     ]
    },
    {
     "name": "stderr",
     "output_type": "stream",
     "text": [
      "WARNING:icecube_tools.utils.data:Resetting rng\n"
     ]
    },
    {
     "name": "stdout",
     "output_type": "stream",
     "text": [
      "True 3.412255287355004e-16 0.026290552946807717 4.103142207793152 2.1700564073775936\n",
      "512 143\n"
     ]
    },
    {
     "name": "stderr",
     "output_type": "stream",
     "text": [
      "/home/iwsatlas1/kuhlmann/icecube/icecube_tools/icecube_tools/detector/r2021.py:82: RuntimeWarning: divide by zero encountered in log10\n",
      "  self.dataset[:, 6:-1] = np.log10(self.dataset[:, 6:-1])\n",
      "WARNING:icecube_tools.detector.r2021:Empty true energy bins at: [(0, 0), (1, 0), (2, 0), (3, 0)]\n",
      "/home/iwsatlas1/kuhlmann/icecube/icecube_tools/icecube_tools/detector/r2021.py:82: RuntimeWarning: divide by zero encountered in log10\n",
      "  self.dataset[:, 6:-1] = np.log10(self.dataset[:, 6:-1])\n",
      "WARNING:icecube_tools.detector.r2021:Empty true energy bins at: [(0, 0), (1, 0), (2, 0)]\n",
      "/home/iwsatlas1/kuhlmann/icecube/icecube_tools/icecube_tools/detector/r2021.py:82: RuntimeWarning: divide by zero encountered in log10\n",
      "  self.dataset[:, 6:-1] = np.log10(self.dataset[:, 6:-1])\n",
      "WARNING:icecube_tools.detector.r2021:Empty true energy bins at: [(0, 0), (1, 0)]\n",
      "/home/iwsatlas1/kuhlmann/icecube/icecube_tools/icecube_tools/detector/r2021.py:82: RuntimeWarning: divide by zero encountered in log10\n",
      "  self.dataset[:, 6:-1] = np.log10(self.dataset[:, 6:-1])\n",
      "WARNING:icecube_tools.detector.r2021:Empty true energy bins at: [(0, 0), (1, 0)]\n"
     ]
    },
    {
     "name": "stdout",
     "output_type": "stream",
     "text": [
      "True 8.436643671219906e-07 11958.928202865716 3.474833549930998 1.7742716299162018\n",
      "512 146\n",
      "True 3.399868800661905e-11 16.029717228626435 3.6461108138117932 2.318008717503793\n",
      "512 172\n",
      "True 5.186628036779606e-14 1.1576419422503934 3.464860458791191 2.7293769272703887\n",
      "512 231\n",
      "True 1.3110480525201176 4.774615530525476 3.798839516084381 0.6076868363546561\n",
      "512 344\n",
      "True 5.51348118719183e-07 2.6632641655748532 4.09875789945201 2.1928999661398705\n",
      "512 819\n",
      "True 0.43596085514196875 9.638719119663662 3.2457395333314 2.6112514093037\n",
      "512 906\n",
      "True 7.66139191513051e-08 2623.9657466772414 3.018780745221372 2.3618954921711293\n",
      "512 973\n"
     ]
    },
    {
     "name": "stderr",
     "output_type": "stream",
     "text": [
      "WARNING:icecube_tools.utils.data:Resetting rng\n"
     ]
    },
    {
     "name": "stdout",
     "output_type": "stream",
     "text": [
      "True 0.33085556983194736 29.946293677372495 3.8003154908630417 2.5836827382643657\n",
      "513 556\n"
     ]
    },
    {
     "name": "stderr",
     "output_type": "stream",
     "text": [
      "/home/iwsatlas1/kuhlmann/icecube/icecube_tools/icecube_tools/detector/r2021.py:82: RuntimeWarning: divide by zero encountered in log10\n",
      "  self.dataset[:, 6:-1] = np.log10(self.dataset[:, 6:-1])\n",
      "WARNING:icecube_tools.detector.r2021:Empty true energy bins at: [(0, 0), (1, 0), (2, 0), (3, 0)]\n",
      "/home/iwsatlas1/kuhlmann/icecube/icecube_tools/icecube_tools/detector/r2021.py:82: RuntimeWarning: divide by zero encountered in log10\n",
      "  self.dataset[:, 6:-1] = np.log10(self.dataset[:, 6:-1])\n",
      "WARNING:icecube_tools.detector.r2021:Empty true energy bins at: [(0, 0), (1, 0), (2, 0)]\n",
      "/home/iwsatlas1/kuhlmann/icecube/icecube_tools/icecube_tools/detector/r2021.py:82: RuntimeWarning: divide by zero encountered in log10\n",
      "  self.dataset[:, 6:-1] = np.log10(self.dataset[:, 6:-1])\n",
      "WARNING:icecube_tools.detector.r2021:Empty true energy bins at: [(0, 0), (1, 0)]\n",
      "/home/iwsatlas1/kuhlmann/icecube/icecube_tools/icecube_tools/detector/r2021.py:82: RuntimeWarning: divide by zero encountered in log10\n",
      "  self.dataset[:, 6:-1] = np.log10(self.dataset[:, 6:-1])\n",
      "WARNING:icecube_tools.detector.r2021:Empty true energy bins at: [(0, 0), (1, 0)]\n"
     ]
    },
    {
     "name": "stdout",
     "output_type": "stream",
     "text": [
      "True 0.6547420066706637 7.49375328636663 2.9159292802006807 2.4222837082612583\n",
      "513 686\n",
      "True 1.7787225685406138e-13 1.2280644526667868 3.7370404160585564 2.7460710387627243\n",
      "513 782\n",
      "True 0.31542268897169734 24.113365215754953 3.722845443330635 2.7573777299002016\n",
      "513 887\n"
     ]
    },
    {
     "name": "stderr",
     "output_type": "stream",
     "text": [
      "WARNING:icecube_tools.utils.data:Resetting rng\n"
     ]
    },
    {
     "name": "stdout",
     "output_type": "stream",
     "text": [
      "True 1.2174925360193198e-08 0.9883607621012377 4.332929653853902 2.8859604066824254\n",
      "514 250\n"
     ]
    },
    {
     "name": "stderr",
     "output_type": "stream",
     "text": [
      "/home/iwsatlas1/kuhlmann/icecube/icecube_tools/icecube_tools/detector/r2021.py:82: RuntimeWarning: divide by zero encountered in log10\n",
      "  self.dataset[:, 6:-1] = np.log10(self.dataset[:, 6:-1])\n",
      "WARNING:icecube_tools.detector.r2021:Empty true energy bins at: [(0, 0), (1, 0), (2, 0), (3, 0)]\n",
      "/home/iwsatlas1/kuhlmann/icecube/icecube_tools/icecube_tools/detector/r2021.py:82: RuntimeWarning: divide by zero encountered in log10\n",
      "  self.dataset[:, 6:-1] = np.log10(self.dataset[:, 6:-1])\n",
      "WARNING:icecube_tools.detector.r2021:Empty true energy bins at: [(0, 0), (1, 0), (2, 0)]\n",
      "/home/iwsatlas1/kuhlmann/icecube/icecube_tools/icecube_tools/detector/r2021.py:82: RuntimeWarning: divide by zero encountered in log10\n",
      "  self.dataset[:, 6:-1] = np.log10(self.dataset[:, 6:-1])\n",
      "WARNING:icecube_tools.detector.r2021:Empty true energy bins at: [(0, 0), (1, 0)]\n",
      "/home/iwsatlas1/kuhlmann/icecube/icecube_tools/icecube_tools/detector/r2021.py:82: RuntimeWarning: divide by zero encountered in log10\n",
      "  self.dataset[:, 6:-1] = np.log10(self.dataset[:, 6:-1])\n",
      "WARNING:icecube_tools.detector.r2021:Empty true energy bins at: [(0, 0), (1, 0)]\n"
     ]
    },
    {
     "name": "stdout",
     "output_type": "stream",
     "text": [
      "True 1.7711966537952903 1.7158286318763967 1.5000005008972606 0.3139107132844593\n",
      "514 498\n",
      "True 7.225061181214635e-07 7.051872361365643 3.8887519556359567 2.5556961672798075\n",
      "514 638\n",
      "True 0.7753178800955213 5.537992621444832 3.0669648069942523 2.473701098970231\n",
      "514 771\n",
      "True 1.5417587627337406e-05 2.3614447672802985 2.9670670146015614 2.483518676299561\n",
      "514 775\n",
      "True 0.0001644552724584037 13.945606684303389 3.8749098521166014 2.1401406783465786\n",
      "514 867\n"
     ]
    },
    {
     "name": "stderr",
     "output_type": "stream",
     "text": [
      "WARNING:icecube_tools.utils.data:Resetting rng\n"
     ]
    },
    {
     "name": "stdout",
     "output_type": "stream",
     "text": [
      "True 6.072299781056945e-13 1.1045576991296424 3.7479504610462904 2.4353426360984667\n",
      "515 135\n"
     ]
    },
    {
     "name": "stderr",
     "output_type": "stream",
     "text": [
      "/home/iwsatlas1/kuhlmann/icecube/icecube_tools/icecube_tools/detector/r2021.py:82: RuntimeWarning: divide by zero encountered in log10\n",
      "  self.dataset[:, 6:-1] = np.log10(self.dataset[:, 6:-1])\n",
      "WARNING:icecube_tools.detector.r2021:Empty true energy bins at: [(0, 0), (1, 0), (2, 0), (3, 0)]\n",
      "/home/iwsatlas1/kuhlmann/icecube/icecube_tools/icecube_tools/detector/r2021.py:82: RuntimeWarning: divide by zero encountered in log10\n",
      "  self.dataset[:, 6:-1] = np.log10(self.dataset[:, 6:-1])\n",
      "WARNING:icecube_tools.detector.r2021:Empty true energy bins at: [(0, 0), (1, 0), (2, 0)]\n",
      "/home/iwsatlas1/kuhlmann/icecube/icecube_tools/icecube_tools/detector/r2021.py:82: RuntimeWarning: divide by zero encountered in log10\n",
      "  self.dataset[:, 6:-1] = np.log10(self.dataset[:, 6:-1])\n",
      "WARNING:icecube_tools.detector.r2021:Empty true energy bins at: [(0, 0), (1, 0)]\n",
      "/home/iwsatlas1/kuhlmann/icecube/icecube_tools/icecube_tools/detector/r2021.py:82: RuntimeWarning: divide by zero encountered in log10\n",
      "  self.dataset[:, 6:-1] = np.log10(self.dataset[:, 6:-1])\n",
      "WARNING:icecube_tools.detector.r2021:Empty true energy bins at: [(0, 0), (1, 0)]\n"
     ]
    },
    {
     "name": "stdout",
     "output_type": "stream",
     "text": [
      "True 8.224234866738289e-08 1.492589927025435 4.302295512358271 1.9568856355373017\n",
      "515 495\n",
      "True 1.032947914214339e-06 7283.510744786379 3.411680880435975 2.6245634437772907\n",
      "515 581\n",
      "True 1.4004228055367058 7.321636669837199 3.7359603722864616 0.6848322554786508\n",
      "515 977\n"
     ]
    },
    {
     "name": "stderr",
     "output_type": "stream",
     "text": [
      "WARNING:icecube_tools.utils.data:Resetting rng\n"
     ]
    },
    {
     "name": "stdout",
     "output_type": "stream",
     "text": [
      "True 2.1281817117239053e-06 7480.262954107592 3.533818056683783 2.7668452335145015\n",
      "516 66\n"
     ]
    },
    {
     "name": "stderr",
     "output_type": "stream",
     "text": [
      "/home/iwsatlas1/kuhlmann/icecube/icecube_tools/icecube_tools/detector/r2021.py:82: RuntimeWarning: divide by zero encountered in log10\n",
      "  self.dataset[:, 6:-1] = np.log10(self.dataset[:, 6:-1])\n",
      "WARNING:icecube_tools.detector.r2021:Empty true energy bins at: [(0, 0), (1, 0), (2, 0), (3, 0)]\n",
      "/home/iwsatlas1/kuhlmann/icecube/icecube_tools/icecube_tools/detector/r2021.py:82: RuntimeWarning: divide by zero encountered in log10\n",
      "  self.dataset[:, 6:-1] = np.log10(self.dataset[:, 6:-1])\n",
      "WARNING:icecube_tools.detector.r2021:Empty true energy bins at: [(0, 0), (1, 0), (2, 0)]\n",
      "/home/iwsatlas1/kuhlmann/icecube/icecube_tools/icecube_tools/detector/r2021.py:82: RuntimeWarning: divide by zero encountered in log10\n",
      "  self.dataset[:, 6:-1] = np.log10(self.dataset[:, 6:-1])\n",
      "WARNING:icecube_tools.detector.r2021:Empty true energy bins at: [(0, 0), (1, 0)]\n",
      "/home/iwsatlas1/kuhlmann/icecube/icecube_tools/icecube_tools/detector/r2021.py:82: RuntimeWarning: divide by zero encountered in log10\n",
      "  self.dataset[:, 6:-1] = np.log10(self.dataset[:, 6:-1])\n",
      "WARNING:icecube_tools.detector.r2021:Empty true energy bins at: [(0, 0), (1, 0)]\n"
     ]
    },
    {
     "name": "stdout",
     "output_type": "stream",
     "text": [
      "True 0.5731271799127294 9.201507835754562 3.8373074851632483 1.0512261951455988\n",
      "516 256\n"
     ]
    },
    {
     "name": "stderr",
     "output_type": "stream",
     "text": [
      "WARNING:icecube_tools.utils.data:Resetting rng\n"
     ]
    },
    {
     "name": "stdout",
     "output_type": "stream",
     "text": [
      "True 7.620093412898576e-06 373.1700116860621 3.4126768516822126 2.150910450294891\n",
      "517 67\n"
     ]
    },
    {
     "name": "stderr",
     "output_type": "stream",
     "text": [
      "/home/iwsatlas1/kuhlmann/icecube/icecube_tools/icecube_tools/detector/r2021.py:82: RuntimeWarning: divide by zero encountered in log10\n",
      "  self.dataset[:, 6:-1] = np.log10(self.dataset[:, 6:-1])\n",
      "WARNING:icecube_tools.detector.r2021:Empty true energy bins at: [(0, 0), (1, 0), (2, 0), (3, 0)]\n",
      "/home/iwsatlas1/kuhlmann/icecube/icecube_tools/icecube_tools/detector/r2021.py:82: RuntimeWarning: divide by zero encountered in log10\n",
      "  self.dataset[:, 6:-1] = np.log10(self.dataset[:, 6:-1])\n",
      "WARNING:icecube_tools.detector.r2021:Empty true energy bins at: [(0, 0), (1, 0), (2, 0)]\n",
      "/home/iwsatlas1/kuhlmann/icecube/icecube_tools/icecube_tools/detector/r2021.py:82: RuntimeWarning: divide by zero encountered in log10\n",
      "  self.dataset[:, 6:-1] = np.log10(self.dataset[:, 6:-1])\n",
      "WARNING:icecube_tools.detector.r2021:Empty true energy bins at: [(0, 0), (1, 0)]\n",
      "/home/iwsatlas1/kuhlmann/icecube/icecube_tools/icecube_tools/detector/r2021.py:82: RuntimeWarning: divide by zero encountered in log10\n",
      "  self.dataset[:, 6:-1] = np.log10(self.dataset[:, 6:-1])\n",
      "WARNING:icecube_tools.detector.r2021:Empty true energy bins at: [(0, 0), (1, 0)]\n"
     ]
    },
    {
     "name": "stdout",
     "output_type": "stream",
     "text": [
      "True 0.420943871307616 8.779962150742836 3.8384081138912154 1.1595755233318523\n",
      "517 184\n",
      "True 0.0038901251675094537 91.88207722642787 3.3960566562864427 2.436469234415595\n",
      "517 492\n",
      "True 6.4076942638032885e-06 27.38310055819175 3.6548954030478282 2.011196717982756\n",
      "517 495\n",
      "True 6.002793748183244e-15 0.139626215395669 3.7626410517954865 2.7278971140192914\n",
      "517 929\n",
      "True 0.00046036166234053903 6.060249764134572 3.7282483543684544 2.602647391778251\n",
      "517 944\n",
      "True 1.641291090959597 1.7332225313152585 1.50000000231661 0.2223710080002158\n",
      "517 992\n"
     ]
    },
    {
     "name": "stderr",
     "output_type": "stream",
     "text": [
      "WARNING:icecube_tools.utils.data:Resetting rng\n"
     ]
    },
    {
     "name": "stdout",
     "output_type": "stream",
     "text": [
      "True 0.5817730192118767 10.090248089945158 3.7694280914486074 0.9495471457783113\n",
      "518 107\n"
     ]
    },
    {
     "name": "stderr",
     "output_type": "stream",
     "text": [
      "/home/iwsatlas1/kuhlmann/icecube/icecube_tools/icecube_tools/detector/r2021.py:82: RuntimeWarning: divide by zero encountered in log10\n",
      "  self.dataset[:, 6:-1] = np.log10(self.dataset[:, 6:-1])\n",
      "WARNING:icecube_tools.detector.r2021:Empty true energy bins at: [(0, 0), (1, 0), (2, 0), (3, 0)]\n",
      "/home/iwsatlas1/kuhlmann/icecube/icecube_tools/icecube_tools/detector/r2021.py:82: RuntimeWarning: divide by zero encountered in log10\n",
      "  self.dataset[:, 6:-1] = np.log10(self.dataset[:, 6:-1])\n",
      "WARNING:icecube_tools.detector.r2021:Empty true energy bins at: [(0, 0), (1, 0), (2, 0)]\n",
      "/home/iwsatlas1/kuhlmann/icecube/icecube_tools/icecube_tools/detector/r2021.py:82: RuntimeWarning: divide by zero encountered in log10\n",
      "  self.dataset[:, 6:-1] = np.log10(self.dataset[:, 6:-1])\n",
      "WARNING:icecube_tools.detector.r2021:Empty true energy bins at: [(0, 0), (1, 0)]\n",
      "/home/iwsatlas1/kuhlmann/icecube/icecube_tools/icecube_tools/detector/r2021.py:82: RuntimeWarning: divide by zero encountered in log10\n",
      "  self.dataset[:, 6:-1] = np.log10(self.dataset[:, 6:-1])\n",
      "WARNING:icecube_tools.detector.r2021:Empty true energy bins at: [(0, 0), (1, 0)]\n"
     ]
    },
    {
     "name": "stdout",
     "output_type": "stream",
     "text": [
      "True 1.0525292239334239e-09 0.8657496445056836 1.565071999424489 2.2275896699229882\n",
      "518 453\n",
      "True 8.396928889390243e-07 8.085155032690713 3.74746948519281 2.756765609590028\n",
      "518 566\n",
      "True 2.278863859346992e-07 1499.8513718591716 3.6020792225674145 1.843325998121077\n",
      "518 716\n",
      "True 0.3456280396566364 7.966359199699733 3.03889316710247 2.511493568475777\n",
      "518 717\n"
     ]
    },
    {
     "name": "stderr",
     "output_type": "stream",
     "text": [
      "WARNING:icecube_tools.utils.data:Resetting rng\n"
     ]
    },
    {
     "name": "stdout",
     "output_type": "stream",
     "text": [
      "True 1.2871428744750443e-06 248.18222827250054 3.2155532435526157 2.389191249364734\n",
      "519 55\n"
     ]
    },
    {
     "name": "stderr",
     "output_type": "stream",
     "text": [
      "/home/iwsatlas1/kuhlmann/icecube/icecube_tools/icecube_tools/detector/r2021.py:82: RuntimeWarning: divide by zero encountered in log10\n",
      "  self.dataset[:, 6:-1] = np.log10(self.dataset[:, 6:-1])\n",
      "WARNING:icecube_tools.detector.r2021:Empty true energy bins at: [(0, 0), (1, 0), (2, 0), (3, 0)]\n",
      "/home/iwsatlas1/kuhlmann/icecube/icecube_tools/icecube_tools/detector/r2021.py:82: RuntimeWarning: divide by zero encountered in log10\n",
      "  self.dataset[:, 6:-1] = np.log10(self.dataset[:, 6:-1])\n",
      "WARNING:icecube_tools.detector.r2021:Empty true energy bins at: [(0, 0), (1, 0), (2, 0)]\n",
      "/home/iwsatlas1/kuhlmann/icecube/icecube_tools/icecube_tools/detector/r2021.py:82: RuntimeWarning: divide by zero encountered in log10\n",
      "  self.dataset[:, 6:-1] = np.log10(self.dataset[:, 6:-1])\n",
      "WARNING:icecube_tools.detector.r2021:Empty true energy bins at: [(0, 0), (1, 0)]\n",
      "/home/iwsatlas1/kuhlmann/icecube/icecube_tools/icecube_tools/detector/r2021.py:82: RuntimeWarning: divide by zero encountered in log10\n",
      "  self.dataset[:, 6:-1] = np.log10(self.dataset[:, 6:-1])\n",
      "WARNING:icecube_tools.detector.r2021:Empty true energy bins at: [(0, 0), (1, 0)]\n"
     ]
    },
    {
     "name": "stdout",
     "output_type": "stream",
     "text": [
      "True 1.0379296569463705 5.887374826124232 3.6914980867250096 0.8539031544633384\n",
      "519 302\n",
      "True 0.9317581761656629 1.520518529860425 1.5000000012360004 2.159562509717568\n",
      "519 427\n",
      "True 1.0874024226198431e-08 373.1373083805358 3.50723238986389 1.881067420873662\n",
      "519 566\n",
      "True 0.5587188419286577 13.78193544954891 3.8223082831964503 1.175416323666237\n",
      "519 606\n",
      "True 0.6003105993524023 6.817935121482813 2.815031825515356 2.0990070016734785\n",
      "519 821\n",
      "True 0.17803119901953332 22.01656247150935 3.7789654068147693 2.7051749906398754\n",
      "519 861\n",
      "True 2.373139049110574e-05 595.953800585699 3.791065908310685 1.9111288296741202\n",
      "519 998\n",
      "True 0.7587438752207312 6.822955270399598 2.5727029855358614 2.241466772193517\n",
      "519 1019\n"
     ]
    },
    {
     "name": "stderr",
     "output_type": "stream",
     "text": [
      "WARNING:icecube_tools.utils.data:Resetting rng\n"
     ]
    },
    {
     "name": "stdout",
     "output_type": "stream",
     "text": [
      "True 3.916544264685046e-09 1.058279815288172 1.9218459558143246 1.752272090624733\n",
      "520 45\n"
     ]
    },
    {
     "name": "stderr",
     "output_type": "stream",
     "text": [
      "/home/iwsatlas1/kuhlmann/icecube/icecube_tools/icecube_tools/detector/r2021.py:82: RuntimeWarning: divide by zero encountered in log10\n",
      "  self.dataset[:, 6:-1] = np.log10(self.dataset[:, 6:-1])\n",
      "WARNING:icecube_tools.detector.r2021:Empty true energy bins at: [(0, 0), (1, 0), (2, 0), (3, 0)]\n",
      "/home/iwsatlas1/kuhlmann/icecube/icecube_tools/icecube_tools/detector/r2021.py:82: RuntimeWarning: divide by zero encountered in log10\n",
      "  self.dataset[:, 6:-1] = np.log10(self.dataset[:, 6:-1])\n",
      "WARNING:icecube_tools.detector.r2021:Empty true energy bins at: [(0, 0), (1, 0), (2, 0)]\n",
      "/home/iwsatlas1/kuhlmann/icecube/icecube_tools/icecube_tools/detector/r2021.py:82: RuntimeWarning: divide by zero encountered in log10\n",
      "  self.dataset[:, 6:-1] = np.log10(self.dataset[:, 6:-1])\n",
      "WARNING:icecube_tools.detector.r2021:Empty true energy bins at: [(0, 0), (1, 0)]\n",
      "/home/iwsatlas1/kuhlmann/icecube/icecube_tools/icecube_tools/detector/r2021.py:82: RuntimeWarning: divide by zero encountered in log10\n",
      "  self.dataset[:, 6:-1] = np.log10(self.dataset[:, 6:-1])\n",
      "WARNING:icecube_tools.detector.r2021:Empty true energy bins at: [(0, 0), (1, 0)]\n"
     ]
    },
    {
     "name": "stdout",
     "output_type": "stream",
     "text": [
      "True 0.001995116185810929 33.4413596614889 3.275984871454934 2.622058926498369\n",
      "520 141\n",
      "True 0.22758620740479768 39.3092514618707 3.717244764169173 2.7766713016595497\n",
      "520 569\n",
      "True 4.7621897295794385e-08 303.4311610767652 4.038435097490317 2.865145080317444\n",
      "520 624\n",
      "True 0.0015172226865160985 11.34801489472824 3.624604861275595 2.270442764713902\n",
      "520 629\n",
      "True 0.1879996786590142 25.45212550920212 3.565666080866464 2.7250698606734725\n",
      "520 771\n",
      "True 1.4202294071688493e-11 6.772881132967725 3.691421792945546 2.2373156546288673\n",
      "520 843\n",
      "True 1.644006702278787e-08 318.69462007629716 3.29517662223085 2.5171220018653733\n",
      "520 942\n",
      "True 6.005416003549216e-06 10366.17221283587 3.4987834398926942 2.7493076625832114\n",
      "520 962\n"
     ]
    },
    {
     "name": "stderr",
     "output_type": "stream",
     "text": [
      "WARNING:icecube_tools.utils.data:Resetting rng\n"
     ]
    },
    {
     "name": "stdout",
     "output_type": "stream",
     "text": [
      "True 0.5489278893988135 10.877672844844449 3.6384725111934215 1.2412685925041667\n",
      "521 54\n"
     ]
    },
    {
     "name": "stderr",
     "output_type": "stream",
     "text": [
      "/home/iwsatlas1/kuhlmann/icecube/icecube_tools/icecube_tools/detector/r2021.py:82: RuntimeWarning: divide by zero encountered in log10\n",
      "  self.dataset[:, 6:-1] = np.log10(self.dataset[:, 6:-1])\n",
      "WARNING:icecube_tools.detector.r2021:Empty true energy bins at: [(0, 0), (1, 0), (2, 0), (3, 0)]\n",
      "/home/iwsatlas1/kuhlmann/icecube/icecube_tools/icecube_tools/detector/r2021.py:82: RuntimeWarning: divide by zero encountered in log10\n",
      "  self.dataset[:, 6:-1] = np.log10(self.dataset[:, 6:-1])\n",
      "WARNING:icecube_tools.detector.r2021:Empty true energy bins at: [(0, 0), (1, 0), (2, 0)]\n",
      "/home/iwsatlas1/kuhlmann/icecube/icecube_tools/icecube_tools/detector/r2021.py:82: RuntimeWarning: divide by zero encountered in log10\n",
      "  self.dataset[:, 6:-1] = np.log10(self.dataset[:, 6:-1])\n",
      "WARNING:icecube_tools.detector.r2021:Empty true energy bins at: [(0, 0), (1, 0)]\n",
      "/home/iwsatlas1/kuhlmann/icecube/icecube_tools/icecube_tools/detector/r2021.py:82: RuntimeWarning: divide by zero encountered in log10\n",
      "  self.dataset[:, 6:-1] = np.log10(self.dataset[:, 6:-1])\n",
      "WARNING:icecube_tools.detector.r2021:Empty true energy bins at: [(0, 0), (1, 0)]\n"
     ]
    },
    {
     "name": "stdout",
     "output_type": "stream",
     "text": [
      "True 1.2389842667583518e-06 9024.044060164973 3.2999011440244947 2.46397501326776\n",
      "521 106\n",
      "True 4.538907349017213e-08 9.569842182046319 3.5777051268997733 1.785729832249126\n",
      "521 305\n"
     ]
    },
    {
     "name": "stderr",
     "output_type": "stream",
     "text": [
      "WARNING:icecube_tools.utils.data:Resetting rng\n"
     ]
    },
    {
     "name": "stdout",
     "output_type": "stream",
     "text": [
      "True 0.4840970398494808 11.168658504470582 3.5982369157348986 1.3220569828640554\n",
      "522 381\n"
     ]
    },
    {
     "name": "stderr",
     "output_type": "stream",
     "text": [
      "/home/iwsatlas1/kuhlmann/icecube/icecube_tools/icecube_tools/detector/r2021.py:82: RuntimeWarning: divide by zero encountered in log10\n",
      "  self.dataset[:, 6:-1] = np.log10(self.dataset[:, 6:-1])\n",
      "WARNING:icecube_tools.detector.r2021:Empty true energy bins at: [(0, 0), (1, 0), (2, 0), (3, 0)]\n",
      "/home/iwsatlas1/kuhlmann/icecube/icecube_tools/icecube_tools/detector/r2021.py:82: RuntimeWarning: divide by zero encountered in log10\n",
      "  self.dataset[:, 6:-1] = np.log10(self.dataset[:, 6:-1])\n",
      "WARNING:icecube_tools.detector.r2021:Empty true energy bins at: [(0, 0), (1, 0), (2, 0)]\n",
      "/home/iwsatlas1/kuhlmann/icecube/icecube_tools/icecube_tools/detector/r2021.py:82: RuntimeWarning: divide by zero encountered in log10\n",
      "  self.dataset[:, 6:-1] = np.log10(self.dataset[:, 6:-1])\n",
      "WARNING:icecube_tools.detector.r2021:Empty true energy bins at: [(0, 0), (1, 0)]\n",
      "/home/iwsatlas1/kuhlmann/icecube/icecube_tools/icecube_tools/detector/r2021.py:82: RuntimeWarning: divide by zero encountered in log10\n",
      "  self.dataset[:, 6:-1] = np.log10(self.dataset[:, 6:-1])\n",
      "WARNING:icecube_tools.detector.r2021:Empty true energy bins at: [(0, 0), (1, 0)]\n"
     ]
    },
    {
     "name": "stdout",
     "output_type": "stream",
     "text": [
      "True 1.5713987288950779e-07 1127.4901707680315 3.6674222063041753 2.7256271700638743\n",
      "522 392\n",
      "True 6.761041379532706e-14 10.880025536306103 2.9384276357426424 2.139239214832465\n",
      "522 407\n",
      "True 2.1416031382788742e-05 17.27238297991493 3.7834847647640353 1.8585680827929987\n",
      "522 422\n",
      "True 6.94836013812733e-11 65.55724392235729 3.184363097457954 2.567414686982789\n",
      "522 509\n",
      "True 0.00043807200121590765 13.610138136771234 3.576840279573144 2.5003626057963166\n",
      "522 726\n",
      "True 0.6670429372224748 6.552339481193905 4.00745700227397 2.8605486949199324\n",
      "522 810\n",
      "True 4.490997134378328e-07 2.546643058778601 2.252676489070458 2.0393059632592516\n",
      "522 911\n"
     ]
    },
    {
     "name": "stderr",
     "output_type": "stream",
     "text": [
      "WARNING:icecube_tools.utils.data:Resetting rng\n"
     ]
    },
    {
     "name": "stdout",
     "output_type": "stream",
     "text": [
      "True 0.929816720520872 4.7156814612388 4.142124819275692 2.685413065350149\n",
      "523 22\n"
     ]
    },
    {
     "name": "stderr",
     "output_type": "stream",
     "text": [
      "/home/iwsatlas1/kuhlmann/icecube/icecube_tools/icecube_tools/detector/r2021.py:82: RuntimeWarning: divide by zero encountered in log10\n",
      "  self.dataset[:, 6:-1] = np.log10(self.dataset[:, 6:-1])\n",
      "WARNING:icecube_tools.detector.r2021:Empty true energy bins at: [(0, 0), (1, 0), (2, 0), (3, 0)]\n",
      "/home/iwsatlas1/kuhlmann/icecube/icecube_tools/icecube_tools/detector/r2021.py:82: RuntimeWarning: divide by zero encountered in log10\n",
      "  self.dataset[:, 6:-1] = np.log10(self.dataset[:, 6:-1])\n",
      "WARNING:icecube_tools.detector.r2021:Empty true energy bins at: [(0, 0), (1, 0), (2, 0)]\n",
      "/home/iwsatlas1/kuhlmann/icecube/icecube_tools/icecube_tools/detector/r2021.py:82: RuntimeWarning: divide by zero encountered in log10\n",
      "  self.dataset[:, 6:-1] = np.log10(self.dataset[:, 6:-1])\n",
      "WARNING:icecube_tools.detector.r2021:Empty true energy bins at: [(0, 0), (1, 0)]\n",
      "/home/iwsatlas1/kuhlmann/icecube/icecube_tools/icecube_tools/detector/r2021.py:82: RuntimeWarning: divide by zero encountered in log10\n",
      "  self.dataset[:, 6:-1] = np.log10(self.dataset[:, 6:-1])\n",
      "WARNING:icecube_tools.detector.r2021:Empty true energy bins at: [(0, 0), (1, 0)]\n"
     ]
    },
    {
     "name": "stdout",
     "output_type": "stream",
     "text": [
      "True 2.94950398588463e-09 520.3018288858159 3.661771358106937 2.406597500874312\n",
      "523 45\n",
      "True 5.766931832162578e-06 1.5879353806147196 1.7878472035093989 1.8921720006817915\n",
      "523 53\n",
      "True 3.91707866592597e-06 675.8418682823951 2.304666268488928 2.1019387696315466\n",
      "523 202\n",
      "True 0.3887464670790657 27.401430019869608 3.427451568795204 2.7014225172708084\n",
      "523 257\n",
      "True 0.4189603033082822 10.827137758357635 3.462123905148509 2.676525051139629\n",
      "523 267\n",
      "True 0.40410378630009763 11.445690030741138 3.4852266530780085 2.6764819711886076\n",
      "523 434\n",
      "True 0.6197141811352966 4.733854967164725 4.060550010914716 2.8283076089270995\n",
      "523 446\n",
      "True 1.105777795717966e-14 0.8717843178104832 3.017071062589535 2.712524674889592\n",
      "523 650\n",
      "True 5.82600452169596e-08 483.1359501472429 2.7871615832031207 1.7812600923133992\n",
      "523 674\n",
      "True 2.0295590772247997e-07 1230.1613813016452 3.984578669137621 2.1278501611356155\n",
      "523 781\n",
      "True 0.8570109283112435 4.5838520877761795 4.14725857361723 2.7081259164321114\n",
      "523 853\n",
      "True 1.0376878272287888e-05 8656.842519665186 3.705929932397578 2.121373068249543\n",
      "523 913\n",
      "True 1.4904056108975896 2.0183435572160873 1.500000000157243 0.2574872945806873\n",
      "523 956\n",
      "True 0.814142482658587 4.157763826933541 4.058660179984787 2.7496112183563675\n",
      "523 964\n",
      "True 0.0001821774876944798 1097.7346220298475 3.3520867778746415 2.3954904520148155\n",
      "523 987\n"
     ]
    },
    {
     "name": "stderr",
     "output_type": "stream",
     "text": [
      "WARNING:icecube_tools.utils.data:Resetting rng\n"
     ]
    },
    {
     "name": "stdout",
     "output_type": "stream",
     "text": [
      "True 1.217547385146505 5.231943305787141 4.191260413205938 1.099860734688145\n",
      "524 16\n"
     ]
    },
    {
     "name": "stderr",
     "output_type": "stream",
     "text": [
      "/home/iwsatlas1/kuhlmann/icecube/icecube_tools/icecube_tools/detector/r2021.py:82: RuntimeWarning: divide by zero encountered in log10\n",
      "  self.dataset[:, 6:-1] = np.log10(self.dataset[:, 6:-1])\n",
      "WARNING:icecube_tools.detector.r2021:Empty true energy bins at: [(0, 0), (1, 0), (2, 0), (3, 0)]\n",
      "/home/iwsatlas1/kuhlmann/icecube/icecube_tools/icecube_tools/detector/r2021.py:82: RuntimeWarning: divide by zero encountered in log10\n",
      "  self.dataset[:, 6:-1] = np.log10(self.dataset[:, 6:-1])\n",
      "WARNING:icecube_tools.detector.r2021:Empty true energy bins at: [(0, 0), (1, 0), (2, 0)]\n",
      "/home/iwsatlas1/kuhlmann/icecube/icecube_tools/icecube_tools/detector/r2021.py:82: RuntimeWarning: divide by zero encountered in log10\n",
      "  self.dataset[:, 6:-1] = np.log10(self.dataset[:, 6:-1])\n",
      "WARNING:icecube_tools.detector.r2021:Empty true energy bins at: [(0, 0), (1, 0)]\n",
      "/home/iwsatlas1/kuhlmann/icecube/icecube_tools/icecube_tools/detector/r2021.py:82: RuntimeWarning: divide by zero encountered in log10\n",
      "  self.dataset[:, 6:-1] = np.log10(self.dataset[:, 6:-1])\n",
      "WARNING:icecube_tools.detector.r2021:Empty true energy bins at: [(0, 0), (1, 0)]\n"
     ]
    },
    {
     "name": "stdout",
     "output_type": "stream",
     "text": [
      "True 0.9551301472968633 5.149751630564692 4.064479089892485 2.7511246391336472\n",
      "524 69\n",
      "True 3.046765357367365e-11 4.186013272115934 2.3049224143635 2.9502694958304794\n",
      "524 240\n",
      "True 3.102875998023738e-09 44.91427360414974 2.953583152112772 2.207134510789806\n",
      "524 295\n",
      "True 2.4263039067231595 2.648891659578616 1.5000008532726088 2.4065090208268995\n",
      "524 296\n",
      "True 2.7474835665113218 6.446333117341965 3.4024663926727223 1.2213797323753184\n",
      "524 405\n",
      "True 2.0527058720333502e-10 182.14411677754237 3.2753005004026265 2.5857469879557273\n",
      "524 537\n",
      "True 1.1788243609266869 4.322478632844573 4.193374340173021 1.1485623512989611\n",
      "524 921\n"
     ]
    },
    {
     "name": "stderr",
     "output_type": "stream",
     "text": [
      "WARNING:icecube_tools.utils.data:Resetting rng\n"
     ]
    },
    {
     "name": "stdout",
     "output_type": "stream",
     "text": [
      "True 2.129176743248526 2.204786503423504 1.500000005693693 0.24467761767583218\n",
      "525 45\n"
     ]
    },
    {
     "name": "stderr",
     "output_type": "stream",
     "text": [
      "/home/iwsatlas1/kuhlmann/icecube/icecube_tools/icecube_tools/detector/r2021.py:82: RuntimeWarning: divide by zero encountered in log10\n",
      "  self.dataset[:, 6:-1] = np.log10(self.dataset[:, 6:-1])\n",
      "WARNING:icecube_tools.detector.r2021:Empty true energy bins at: [(0, 0), (1, 0), (2, 0), (3, 0)]\n",
      "/home/iwsatlas1/kuhlmann/icecube/icecube_tools/icecube_tools/detector/r2021.py:82: RuntimeWarning: divide by zero encountered in log10\n",
      "  self.dataset[:, 6:-1] = np.log10(self.dataset[:, 6:-1])\n",
      "WARNING:icecube_tools.detector.r2021:Empty true energy bins at: [(0, 0), (1, 0), (2, 0)]\n",
      "/home/iwsatlas1/kuhlmann/icecube/icecube_tools/icecube_tools/detector/r2021.py:82: RuntimeWarning: divide by zero encountered in log10\n",
      "  self.dataset[:, 6:-1] = np.log10(self.dataset[:, 6:-1])\n",
      "WARNING:icecube_tools.detector.r2021:Empty true energy bins at: [(0, 0), (1, 0)]\n",
      "/home/iwsatlas1/kuhlmann/icecube/icecube_tools/icecube_tools/detector/r2021.py:82: RuntimeWarning: divide by zero encountered in log10\n",
      "  self.dataset[:, 6:-1] = np.log10(self.dataset[:, 6:-1])\n",
      "WARNING:icecube_tools.detector.r2021:Empty true energy bins at: [(0, 0), (1, 0)]\n"
     ]
    },
    {
     "name": "stdout",
     "output_type": "stream",
     "text": [
      "True 1.172124463461044e-13 2.9853162210585573 2.484553941414523 2.876097871404328\n",
      "525 233\n",
      "True 0.5029428124060552 5.121669778297507 3.543479135186552 2.7142596886729087\n",
      "525 351\n",
      "True 0.2618570479178949 23.714550674950374 3.39614080471478 2.6308252212492196\n",
      "525 522\n",
      "True 1.4636137680708143e-07 1294.1609028212094 3.519164920031728 2.7246710724466277\n",
      "525 859\n"
     ]
    },
    {
     "name": "stderr",
     "output_type": "stream",
     "text": [
      "WARNING:icecube_tools.utils.data:Resetting rng\n"
     ]
    },
    {
     "name": "stdout",
     "output_type": "stream",
     "text": [
      "True 3.92538881258727e-08 2.3624946793329533 2.354902136725903 2.1149262953124843\n",
      "526 18\n"
     ]
    },
    {
     "name": "stderr",
     "output_type": "stream",
     "text": [
      "/home/iwsatlas1/kuhlmann/icecube/icecube_tools/icecube_tools/detector/r2021.py:82: RuntimeWarning: divide by zero encountered in log10\n",
      "  self.dataset[:, 6:-1] = np.log10(self.dataset[:, 6:-1])\n",
      "WARNING:icecube_tools.detector.r2021:Empty true energy bins at: [(0, 0), (1, 0), (2, 0), (3, 0)]\n",
      "/home/iwsatlas1/kuhlmann/icecube/icecube_tools/icecube_tools/detector/r2021.py:82: RuntimeWarning: divide by zero encountered in log10\n",
      "  self.dataset[:, 6:-1] = np.log10(self.dataset[:, 6:-1])\n",
      "WARNING:icecube_tools.detector.r2021:Empty true energy bins at: [(0, 0), (1, 0), (2, 0)]\n",
      "/home/iwsatlas1/kuhlmann/icecube/icecube_tools/icecube_tools/detector/r2021.py:82: RuntimeWarning: divide by zero encountered in log10\n",
      "  self.dataset[:, 6:-1] = np.log10(self.dataset[:, 6:-1])\n",
      "WARNING:icecube_tools.detector.r2021:Empty true energy bins at: [(0, 0), (1, 0)]\n",
      "/home/iwsatlas1/kuhlmann/icecube/icecube_tools/icecube_tools/detector/r2021.py:82: RuntimeWarning: divide by zero encountered in log10\n",
      "  self.dataset[:, 6:-1] = np.log10(self.dataset[:, 6:-1])\n",
      "WARNING:icecube_tools.detector.r2021:Empty true energy bins at: [(0, 0), (1, 0)]\n"
     ]
    },
    {
     "name": "stdout",
     "output_type": "stream",
     "text": [
      "True 1.001026331924892 5.342609382327997 3.936445962974678 2.823534278166931\n",
      "526 39\n",
      "True 0.7374038449942983 6.419428859213086 3.5144172581744084 1.3867540355497436\n",
      "526 278\n",
      "True 1.0922200121329245e-09 3.770108507745693 2.9507828917237506 2.475289806776321\n",
      "526 320\n",
      "True 8.651792110033092e-07 8449.092692380396 3.2338132231384136 1.8749935328730587\n",
      "526 520\n",
      "True 0.5951427222679783 6.284974489475453 4.064577321366667 2.9298021858354395\n",
      "526 656\n",
      "True 0.8442866664218582 6.738935444140204 3.369978393631188 1.3774394798423901\n",
      "526 690\n",
      "True 1.0049825479620245e-07 1618.6250900971486 3.114595476566127 1.8241334999244043\n",
      "526 756\n",
      "True 1.2640865370292312e-07 1211.7200305465262 3.601379877383068 1.904405153079928\n",
      "526 766\n",
      "True 0.21850043558976248 40.79410374881557 3.3596910743357977 2.6626285446847926\n",
      "526 828\n"
     ]
    },
    {
     "name": "stderr",
     "output_type": "stream",
     "text": [
      "WARNING:icecube_tools.utils.data:Resetting rng\n"
     ]
    },
    {
     "name": "stdout",
     "output_type": "stream",
     "text": [
      "True 3.15936513062276e-16 10.859703298403673 3.037720465998378 2.3940198197527103\n",
      "527 22\n"
     ]
    },
    {
     "name": "stderr",
     "output_type": "stream",
     "text": [
      "/home/iwsatlas1/kuhlmann/icecube/icecube_tools/icecube_tools/detector/r2021.py:82: RuntimeWarning: divide by zero encountered in log10\n",
      "  self.dataset[:, 6:-1] = np.log10(self.dataset[:, 6:-1])\n",
      "WARNING:icecube_tools.detector.r2021:Empty true energy bins at: [(0, 0), (1, 0), (2, 0), (3, 0)]\n",
      "/home/iwsatlas1/kuhlmann/icecube/icecube_tools/icecube_tools/detector/r2021.py:82: RuntimeWarning: divide by zero encountered in log10\n",
      "  self.dataset[:, 6:-1] = np.log10(self.dataset[:, 6:-1])\n",
      "WARNING:icecube_tools.detector.r2021:Empty true energy bins at: [(0, 0), (1, 0), (2, 0)]\n",
      "/home/iwsatlas1/kuhlmann/icecube/icecube_tools/icecube_tools/detector/r2021.py:82: RuntimeWarning: divide by zero encountered in log10\n",
      "  self.dataset[:, 6:-1] = np.log10(self.dataset[:, 6:-1])\n",
      "WARNING:icecube_tools.detector.r2021:Empty true energy bins at: [(0, 0), (1, 0)]\n",
      "/home/iwsatlas1/kuhlmann/icecube/icecube_tools/icecube_tools/detector/r2021.py:82: RuntimeWarning: divide by zero encountered in log10\n",
      "  self.dataset[:, 6:-1] = np.log10(self.dataset[:, 6:-1])\n",
      "WARNING:icecube_tools.detector.r2021:Empty true energy bins at: [(0, 0), (1, 0)]\n"
     ]
    },
    {
     "name": "stdout",
     "output_type": "stream",
     "text": [
      "True 3.059824883796386e-07 1261.4179873423445 3.1118958049934093 2.357213585564242\n",
      "527 157\n",
      "True 0.0025420717704961225 2149.1543611431152 3.404527188095844 2.438133566788557\n",
      "527 340\n",
      "True 1.2640268736324674 4.295761309769556 4.207485145858448 1.0211328230400125\n",
      "527 400\n",
      "True 2.458782231637424e-10 47.5294947652222 3.241442552110077 2.2180029348013535\n",
      "527 410\n",
      "True 1.1726781832719323e-07 1183.992283623517 2.507894764650352 2.3191796058542122\n",
      "527 517\n",
      "True 0.7138050021997402 5.174828252897852 3.810287606062838 2.847333409992962\n",
      "527 665\n"
     ]
    },
    {
     "name": "stderr",
     "output_type": "stream",
     "text": [
      "WARNING:icecube_tools.utils.data:Resetting rng\n"
     ]
    },
    {
     "name": "stdout",
     "output_type": "stream",
     "text": [
      "True 0.6009549583496174 8.088403313616716 3.440951401295712 2.531288247061034\n",
      "528 156\n"
     ]
    },
    {
     "name": "stderr",
     "output_type": "stream",
     "text": [
      "/home/iwsatlas1/kuhlmann/icecube/icecube_tools/icecube_tools/detector/r2021.py:82: RuntimeWarning: divide by zero encountered in log10\n",
      "  self.dataset[:, 6:-1] = np.log10(self.dataset[:, 6:-1])\n",
      "WARNING:icecube_tools.detector.r2021:Empty true energy bins at: [(0, 0), (1, 0), (2, 0), (3, 0)]\n",
      "/home/iwsatlas1/kuhlmann/icecube/icecube_tools/icecube_tools/detector/r2021.py:82: RuntimeWarning: divide by zero encountered in log10\n",
      "  self.dataset[:, 6:-1] = np.log10(self.dataset[:, 6:-1])\n",
      "WARNING:icecube_tools.detector.r2021:Empty true energy bins at: [(0, 0), (1, 0), (2, 0)]\n",
      "/home/iwsatlas1/kuhlmann/icecube/icecube_tools/icecube_tools/detector/r2021.py:82: RuntimeWarning: divide by zero encountered in log10\n",
      "  self.dataset[:, 6:-1] = np.log10(self.dataset[:, 6:-1])\n",
      "WARNING:icecube_tools.detector.r2021:Empty true energy bins at: [(0, 0), (1, 0)]\n",
      "/home/iwsatlas1/kuhlmann/icecube/icecube_tools/icecube_tools/detector/r2021.py:82: RuntimeWarning: divide by zero encountered in log10\n",
      "  self.dataset[:, 6:-1] = np.log10(self.dataset[:, 6:-1])\n",
      "WARNING:icecube_tools.detector.r2021:Empty true energy bins at: [(0, 0), (1, 0)]\n"
     ]
    },
    {
     "name": "stdout",
     "output_type": "stream",
     "text": [
      "True 1.1848114670349026 4.306203258314509 4.126570038436688 2.6406667285381085\n",
      "528 231\n",
      "True 1.2125719200896303e-07 7816.753132322825 3.273624794477213 2.0366313061112855\n",
      "528 276\n",
      "True 0.3456831478926566 17.24757854532764 3.4222474061352672 2.7076752271187585\n",
      "528 356\n",
      "True 0.8170600834702753 5.542449205205498 3.489458876587622 1.4131728526319636\n",
      "528 437\n",
      "True 6.11147558220198e-07 8.316804210198711 3.4968946000297083 2.3019754412250313\n",
      "528 440\n",
      "True 1.3826031689230598e-06 5.860446743471588 3.0688921032346426 2.122232941273941\n",
      "528 442\n",
      "True 0.945838586600621 3.845899643834559 4.094987350013837 2.806338469054357\n",
      "528 574\n",
      "True 0.7498718609216273 7.005293868163088 3.456192768101354 1.3052412391627746\n",
      "528 604\n"
     ]
    },
    {
     "name": "stderr",
     "output_type": "stream",
     "text": [
      "WARNING:icecube_tools.utils.data:Resetting rng\n"
     ]
    },
    {
     "name": "stdout",
     "output_type": "stream",
     "text": [
      "True 7.189135280156924e-06 13.97484545904379 3.194158045644172 2.524279845159617\n",
      "529 22\n"
     ]
    },
    {
     "name": "stderr",
     "output_type": "stream",
     "text": [
      "/home/iwsatlas1/kuhlmann/icecube/icecube_tools/icecube_tools/detector/r2021.py:82: RuntimeWarning: divide by zero encountered in log10\n",
      "  self.dataset[:, 6:-1] = np.log10(self.dataset[:, 6:-1])\n",
      "WARNING:icecube_tools.detector.r2021:Empty true energy bins at: [(0, 0), (1, 0), (2, 0), (3, 0)]\n",
      "/home/iwsatlas1/kuhlmann/icecube/icecube_tools/icecube_tools/detector/r2021.py:82: RuntimeWarning: divide by zero encountered in log10\n",
      "  self.dataset[:, 6:-1] = np.log10(self.dataset[:, 6:-1])\n",
      "WARNING:icecube_tools.detector.r2021:Empty true energy bins at: [(0, 0), (1, 0), (2, 0)]\n",
      "/home/iwsatlas1/kuhlmann/icecube/icecube_tools/icecube_tools/detector/r2021.py:82: RuntimeWarning: divide by zero encountered in log10\n",
      "  self.dataset[:, 6:-1] = np.log10(self.dataset[:, 6:-1])\n",
      "WARNING:icecube_tools.detector.r2021:Empty true energy bins at: [(0, 0), (1, 0)]\n",
      "/home/iwsatlas1/kuhlmann/icecube/icecube_tools/icecube_tools/detector/r2021.py:82: RuntimeWarning: divide by zero encountered in log10\n",
      "  self.dataset[:, 6:-1] = np.log10(self.dataset[:, 6:-1])\n",
      "WARNING:icecube_tools.detector.r2021:Empty true energy bins at: [(0, 0), (1, 0)]\n"
     ]
    },
    {
     "name": "stdout",
     "output_type": "stream",
     "text": [
      "True 0.0001082604216183666 11.500028716818347 3.34206968844111 2.667547336062436\n",
      "529 24\n",
      "True 0.38945772912231086 24.45223664972938 2.640589229899191 2.1795350479540927\n",
      "529 331\n",
      "True 1.0457920852477696 8.376302655830973 3.305872648462647 1.4220035504356991\n",
      "529 371\n",
      "True 0.5526604758770997 13.261831909125492 3.3242991968048377 2.631810145252178\n",
      "529 389\n",
      "True 0.7447865769110891 5.655672041391711 3.3058667611802357 1.4137552455626923\n",
      "529 442\n",
      "True 0.747652235322892 11.359696446132357 3.874249074915403 2.897784657759055\n",
      "529 491\n",
      "True 0.6332987458670559 9.62878406211618 3.436041610546058 2.567784621309879\n",
      "529 671\n",
      "True 0.5213857380032053 5.531050950653858 3.5064215584058296 2.555296948269818\n",
      "529 695\n",
      "True 5.4710470353863845e-09 2.0999547751855037 4.809399919447079 2.0158622823645977\n",
      "529 703\n",
      "True 1.1057639807686561 4.837252954404981 3.9375916935140425 2.960127316861475\n",
      "529 768\n",
      "True 2.0811246335180472e-12 3.8442141965303134 1.5573655215368578 1.7770363076998095\n",
      "529 979\n",
      "True 0.5404754378850167 12.388390994104016 3.597926599558121 2.753254515668245\n",
      "529 1005\n"
     ]
    },
    {
     "name": "stderr",
     "output_type": "stream",
     "text": [
      "WARNING:icecube_tools.utils.data:Resetting rng\n"
     ]
    },
    {
     "name": "stdout",
     "output_type": "stream",
     "text": [
      "True 1.4502975490742007e-09 414.4780707494948 3.588662992180214 2.443176498820645\n",
      "530 70\n"
     ]
    },
    {
     "name": "stderr",
     "output_type": "stream",
     "text": [
      "/home/iwsatlas1/kuhlmann/icecube/icecube_tools/icecube_tools/detector/r2021.py:82: RuntimeWarning: divide by zero encountered in log10\n",
      "  self.dataset[:, 6:-1] = np.log10(self.dataset[:, 6:-1])\n",
      "WARNING:icecube_tools.detector.r2021:Empty true energy bins at: [(0, 0), (1, 0), (2, 0), (3, 0)]\n",
      "/home/iwsatlas1/kuhlmann/icecube/icecube_tools/icecube_tools/detector/r2021.py:82: RuntimeWarning: divide by zero encountered in log10\n",
      "  self.dataset[:, 6:-1] = np.log10(self.dataset[:, 6:-1])\n",
      "WARNING:icecube_tools.detector.r2021:Empty true energy bins at: [(0, 0), (1, 0), (2, 0)]\n",
      "/home/iwsatlas1/kuhlmann/icecube/icecube_tools/icecube_tools/detector/r2021.py:82: RuntimeWarning: divide by zero encountered in log10\n",
      "  self.dataset[:, 6:-1] = np.log10(self.dataset[:, 6:-1])\n",
      "WARNING:icecube_tools.detector.r2021:Empty true energy bins at: [(0, 0), (1, 0)]\n",
      "/home/iwsatlas1/kuhlmann/icecube/icecube_tools/icecube_tools/detector/r2021.py:82: RuntimeWarning: divide by zero encountered in log10\n",
      "  self.dataset[:, 6:-1] = np.log10(self.dataset[:, 6:-1])\n",
      "WARNING:icecube_tools.detector.r2021:Empty true energy bins at: [(0, 0), (1, 0)]\n"
     ]
    },
    {
     "name": "stdout",
     "output_type": "stream",
     "text": [
      "True 3.051498210745237e-10 391.7690112185812 3.113317181739048 2.4894233190597483\n",
      "530 94\n",
      "True 1.522909525096065 3.6552364608206727 4.188302492009844 1.0314504421453405\n",
      "530 143\n",
      "True 0.5623851572493364 5.307578312871978 4.013425065975137 1.922789669642693\n",
      "530 330\n",
      "True 0.9480123175664958 6.956862134798075 3.3725462476940535 1.3431342414292162\n",
      "530 390\n",
      "True 0.0030969880482532497 39.381811425376 3.13054207505578 2.3022844561044318\n",
      "530 483\n",
      "True 8.92626937657663e-06 7.075780898198396 3.1580608913863606 2.3320788788087015\n",
      "530 496\n",
      "True 1.4029645346678654 3.6579684562321946 4.173756125235339 1.0366537763146477\n",
      "530 627\n",
      "True 0.8611505948953723 3.637381966852914 4.142109765092687 2.7402542744400105\n",
      "530 914\n",
      "True 1.4305730277638737 2.2790420608857067 1.5000006190802768 0.3815280152170717\n",
      "530 929\n",
      "True 2.8294949260232825 2.4996981700096423 1.5000000045717627 0.21559971873073724\n",
      "530 953\n"
     ]
    },
    {
     "name": "stderr",
     "output_type": "stream",
     "text": [
      "WARNING:icecube_tools.utils.data:Resetting rng\n"
     ]
    },
    {
     "name": "stdout",
     "output_type": "stream",
     "text": [
      "True 9.437901787943525e-10 17.626578004753032 2.852301694432651 2.5342899070564\n",
      "531 105\n"
     ]
    },
    {
     "name": "stderr",
     "output_type": "stream",
     "text": [
      "/home/iwsatlas1/kuhlmann/icecube/icecube_tools/icecube_tools/detector/r2021.py:82: RuntimeWarning: divide by zero encountered in log10\n",
      "  self.dataset[:, 6:-1] = np.log10(self.dataset[:, 6:-1])\n",
      "WARNING:icecube_tools.detector.r2021:Empty true energy bins at: [(0, 0), (1, 0), (2, 0), (3, 0)]\n",
      "/home/iwsatlas1/kuhlmann/icecube/icecube_tools/icecube_tools/detector/r2021.py:82: RuntimeWarning: divide by zero encountered in log10\n",
      "  self.dataset[:, 6:-1] = np.log10(self.dataset[:, 6:-1])\n",
      "WARNING:icecube_tools.detector.r2021:Empty true energy bins at: [(0, 0), (1, 0), (2, 0)]\n",
      "/home/iwsatlas1/kuhlmann/icecube/icecube_tools/icecube_tools/detector/r2021.py:82: RuntimeWarning: divide by zero encountered in log10\n",
      "  self.dataset[:, 6:-1] = np.log10(self.dataset[:, 6:-1])\n",
      "WARNING:icecube_tools.detector.r2021:Empty true energy bins at: [(0, 0), (1, 0)]\n",
      "/home/iwsatlas1/kuhlmann/icecube/icecube_tools/icecube_tools/detector/r2021.py:82: RuntimeWarning: divide by zero encountered in log10\n",
      "  self.dataset[:, 6:-1] = np.log10(self.dataset[:, 6:-1])\n",
      "WARNING:icecube_tools.detector.r2021:Empty true energy bins at: [(0, 0), (1, 0)]\n"
     ]
    },
    {
     "name": "stdout",
     "output_type": "stream",
     "text": [
      "True 0.5761262875926259 4.097083303332351 4.126202665665793 2.05643026120847\n",
      "531 122\n",
      "True 0.003562785101650765 27.10813223683899 3.2125876139731364 2.623341308062237\n",
      "531 227\n",
      "True 2.211469749999976e-09 295.6627619141622 3.3300810417405113 2.002407825518211\n",
      "531 315\n",
      "True 0.5759485442912424 17.58591735216224 3.020790204350912 2.5078169939584534\n",
      "531 331\n",
      "True 1.4072035874848288 2.4235731094432156 1.500000000266645 2.22198259987735\n",
      "531 355\n",
      "True 1.1207562285371833 5.910222259397132 3.2944684250777834 1.2355751212899422\n",
      "531 360\n",
      "True 1.1657765041885866 6.523539586957869 3.4923188181088296 1.305643507590284\n",
      "531 362\n",
      "True 1.0019465719775245e-08 320.63225425580896 2.622026808644797 2.5235890619320704\n",
      "531 497\n",
      "True 0.8260759932031583 4.634725999869279 4.083865022904648 2.692840246600968\n",
      "531 539\n",
      "True 1.5115849559974785e-07 1.7874888519920484 2.1634664789467504 2.6508476779656784\n",
      "531 960\n"
     ]
    },
    {
     "name": "stderr",
     "output_type": "stream",
     "text": [
      "WARNING:icecube_tools.utils.data:Resetting rng\n"
     ]
    },
    {
     "name": "stdout",
     "output_type": "stream",
     "text": [
      "True 1.0724744896347007 10.92686523132406 3.303067721838134 1.471070415518421\n",
      "532 115\n"
     ]
    },
    {
     "name": "stderr",
     "output_type": "stream",
     "text": [
      "/home/iwsatlas1/kuhlmann/icecube/icecube_tools/icecube_tools/detector/r2021.py:82: RuntimeWarning: divide by zero encountered in log10\n",
      "  self.dataset[:, 6:-1] = np.log10(self.dataset[:, 6:-1])\n",
      "WARNING:icecube_tools.detector.r2021:Empty true energy bins at: [(0, 0), (1, 0), (2, 0), (3, 0)]\n",
      "/home/iwsatlas1/kuhlmann/icecube/icecube_tools/icecube_tools/detector/r2021.py:82: RuntimeWarning: divide by zero encountered in log10\n",
      "  self.dataset[:, 6:-1] = np.log10(self.dataset[:, 6:-1])\n",
      "WARNING:icecube_tools.detector.r2021:Empty true energy bins at: [(0, 0), (1, 0), (2, 0)]\n",
      "/home/iwsatlas1/kuhlmann/icecube/icecube_tools/icecube_tools/detector/r2021.py:82: RuntimeWarning: divide by zero encountered in log10\n",
      "  self.dataset[:, 6:-1] = np.log10(self.dataset[:, 6:-1])\n",
      "WARNING:icecube_tools.detector.r2021:Empty true energy bins at: [(0, 0), (1, 0)]\n",
      "/home/iwsatlas1/kuhlmann/icecube/icecube_tools/icecube_tools/detector/r2021.py:82: RuntimeWarning: divide by zero encountered in log10\n",
      "  self.dataset[:, 6:-1] = np.log10(self.dataset[:, 6:-1])\n",
      "WARNING:icecube_tools.detector.r2021:Empty true energy bins at: [(0, 0), (1, 0)]\n"
     ]
    },
    {
     "name": "stdout",
     "output_type": "stream",
     "text": [
      "True 0.5722539783486477 6.358116627123375 3.5890361799196913 2.6437647944068843\n",
      "532 179\n",
      "True 0.5376094959966166 11.97096717238874 3.4941702694126064 2.602141108977002\n",
      "532 212\n",
      "True 1.1281297573301316e-07 353.6871746812244 3.124009791969 2.4355980913764017\n",
      "532 225\n",
      "True 7.414498675402045e-12 187.6734555961141 3.0707983236940564 1.9781492927925206\n",
      "532 302\n",
      "True 5.806129678049567e-08 334.8388551073451 2.3197614169062204 2.1565004249952997\n",
      "532 311\n",
      "True 0.6250129116801918 12.02900712313905 3.485606406456761 2.6838202026841333\n",
      "532 356\n"
     ]
    },
    {
     "name": "stderr",
     "output_type": "stream",
     "text": [
      "WARNING:icecube_tools.utils.data:Resetting rng\n"
     ]
    },
    {
     "name": "stdout",
     "output_type": "stream",
     "text": [
      "True 0.00011610821954971041 47.18456633731184 2.9553585616475133 2.5486470079726216\n",
      "533 115\n"
     ]
    },
    {
     "name": "stderr",
     "output_type": "stream",
     "text": [
      "/home/iwsatlas1/kuhlmann/icecube/icecube_tools/icecube_tools/detector/r2021.py:82: RuntimeWarning: divide by zero encountered in log10\n",
      "  self.dataset[:, 6:-1] = np.log10(self.dataset[:, 6:-1])\n",
      "WARNING:icecube_tools.detector.r2021:Empty true energy bins at: [(0, 0), (1, 0), (2, 0), (3, 0)]\n",
      "/home/iwsatlas1/kuhlmann/icecube/icecube_tools/icecube_tools/detector/r2021.py:82: RuntimeWarning: divide by zero encountered in log10\n",
      "  self.dataset[:, 6:-1] = np.log10(self.dataset[:, 6:-1])\n",
      "WARNING:icecube_tools.detector.r2021:Empty true energy bins at: [(0, 0), (1, 0), (2, 0)]\n",
      "/home/iwsatlas1/kuhlmann/icecube/icecube_tools/icecube_tools/detector/r2021.py:82: RuntimeWarning: divide by zero encountered in log10\n",
      "  self.dataset[:, 6:-1] = np.log10(self.dataset[:, 6:-1])\n",
      "WARNING:icecube_tools.detector.r2021:Empty true energy bins at: [(0, 0), (1, 0)]\n",
      "/home/iwsatlas1/kuhlmann/icecube/icecube_tools/icecube_tools/detector/r2021.py:82: RuntimeWarning: divide by zero encountered in log10\n",
      "  self.dataset[:, 6:-1] = np.log10(self.dataset[:, 6:-1])\n",
      "WARNING:icecube_tools.detector.r2021:Empty true energy bins at: [(0, 0), (1, 0)]\n"
     ]
    },
    {
     "name": "stdout",
     "output_type": "stream",
     "text": [
      "True 1.0606117272139075e-07 4.884984794007802 3.829715482509273 2.810150802269409\n",
      "533 145\n",
      "True 0.34834302727820865 17.570779543008616 3.2520255467945955 2.6095974943187716\n",
      "533 218\n",
      "True 0.0010299314058490217 37.9145924685224 3.1579639019907026 1.8226955470219293\n",
      "533 373\n",
      "True 0.8179094856013854 9.68250247021383 3.356982071951015 2.5469372710779643\n",
      "533 604\n",
      "True 3.165472675460202e-07 363.51107034275867 3.926152197196364 1.76955144157221\n",
      "533 605\n",
      "True 3.1498783616135118e-15 0.22442359506633663 2.9958935283306825 2.1068804594219817\n",
      "533 861\n"
     ]
    },
    {
     "name": "stderr",
     "output_type": "stream",
     "text": [
      "WARNING:icecube_tools.utils.data:Resetting rng\n"
     ]
    },
    {
     "name": "stdout",
     "output_type": "stream",
     "text": [
      "True 0.9037220077979994 1.6547861533819508 1.5000480671725578 3.0939550590441924\n",
      "534 21\n"
     ]
    },
    {
     "name": "stderr",
     "output_type": "stream",
     "text": [
      "/home/iwsatlas1/kuhlmann/icecube/icecube_tools/icecube_tools/detector/r2021.py:82: RuntimeWarning: divide by zero encountered in log10\n",
      "  self.dataset[:, 6:-1] = np.log10(self.dataset[:, 6:-1])\n",
      "WARNING:icecube_tools.detector.r2021:Empty true energy bins at: [(0, 0), (1, 0), (2, 0), (3, 0)]\n",
      "/home/iwsatlas1/kuhlmann/icecube/icecube_tools/icecube_tools/detector/r2021.py:82: RuntimeWarning: divide by zero encountered in log10\n",
      "  self.dataset[:, 6:-1] = np.log10(self.dataset[:, 6:-1])\n",
      "WARNING:icecube_tools.detector.r2021:Empty true energy bins at: [(0, 0), (1, 0), (2, 0)]\n",
      "/home/iwsatlas1/kuhlmann/icecube/icecube_tools/icecube_tools/detector/r2021.py:82: RuntimeWarning: divide by zero encountered in log10\n",
      "  self.dataset[:, 6:-1] = np.log10(self.dataset[:, 6:-1])\n",
      "WARNING:icecube_tools.detector.r2021:Empty true energy bins at: [(0, 0), (1, 0)]\n",
      "/home/iwsatlas1/kuhlmann/icecube/icecube_tools/icecube_tools/detector/r2021.py:82: RuntimeWarning: divide by zero encountered in log10\n",
      "  self.dataset[:, 6:-1] = np.log10(self.dataset[:, 6:-1])\n",
      "WARNING:icecube_tools.detector.r2021:Empty true energy bins at: [(0, 0), (1, 0)]\n"
     ]
    },
    {
     "name": "stdout",
     "output_type": "stream",
     "text": [
      "True 0.4454554876729686 1.8073892044929214 1.5000008014197344 3.3234389975068788\n",
      "534 145\n",
      "True 0.0024546248749239804 42.52015895236835 3.1713844332202212 2.5190315497727775\n",
      "534 148\n",
      "True 0.48153974287164736 18.16578736035484 3.291049093871093 2.568766801275979\n",
      "534 205\n",
      "True 0.7830445683541067 15.593616321238812 3.1011142998272763 2.4902159485777595\n",
      "534 442\n",
      "True 1.2063844218813328e-07 548.1606700216296 2.515400766669172 2.1359813553749\n",
      "534 499\n",
      "True 0.32758523598544603 13.770943798203923 3.2918776812193022 2.6391036847694442\n",
      "534 532\n",
      "True 3.349130232253514e-06 7822.804005215205 3.304184419501483 2.401709399887137\n",
      "534 565\n",
      "True 0.9177174707352651 5.08215374967201 1.9915506001101746 1.7965649940231672\n",
      "534 576\n",
      "True 2.3342516935478345e-09 138.2984436741833 3.450298584215394 2.4386750161133772\n",
      "534 820\n"
     ]
    },
    {
     "name": "stderr",
     "output_type": "stream",
     "text": [
      "WARNING:icecube_tools.utils.data:Resetting rng\n"
     ]
    },
    {
     "name": "stdout",
     "output_type": "stream",
     "text": [
      "True 3.8074145561356075e-08 662.0837855762172 2.826186502493697 1.8219476485457538\n",
      "535 255\n"
     ]
    },
    {
     "name": "stderr",
     "output_type": "stream",
     "text": [
      "/home/iwsatlas1/kuhlmann/icecube/icecube_tools/icecube_tools/detector/r2021.py:82: RuntimeWarning: divide by zero encountered in log10\n",
      "  self.dataset[:, 6:-1] = np.log10(self.dataset[:, 6:-1])\n",
      "WARNING:icecube_tools.detector.r2021:Empty true energy bins at: [(0, 0), (1, 0), (2, 0), (3, 0)]\n",
      "/home/iwsatlas1/kuhlmann/icecube/icecube_tools/icecube_tools/detector/r2021.py:82: RuntimeWarning: divide by zero encountered in log10\n",
      "  self.dataset[:, 6:-1] = np.log10(self.dataset[:, 6:-1])\n",
      "WARNING:icecube_tools.detector.r2021:Empty true energy bins at: [(0, 0), (1, 0), (2, 0)]\n",
      "/home/iwsatlas1/kuhlmann/icecube/icecube_tools/icecube_tools/detector/r2021.py:82: RuntimeWarning: divide by zero encountered in log10\n",
      "  self.dataset[:, 6:-1] = np.log10(self.dataset[:, 6:-1])\n",
      "WARNING:icecube_tools.detector.r2021:Empty true energy bins at: [(0, 0), (1, 0)]\n",
      "/home/iwsatlas1/kuhlmann/icecube/icecube_tools/icecube_tools/detector/r2021.py:82: RuntimeWarning: divide by zero encountered in log10\n",
      "  self.dataset[:, 6:-1] = np.log10(self.dataset[:, 6:-1])\n",
      "WARNING:icecube_tools.detector.r2021:Empty true energy bins at: [(0, 0), (1, 0)]\n"
     ]
    },
    {
     "name": "stdout",
     "output_type": "stream",
     "text": [
      "True 1.2905999586403074 5.8038728361330625 3.4740959416561634 1.3889036262674463\n",
      "535 582\n",
      "True 0.5520395359783594 16.669086417316937 3.21821017173318 2.6070661813107527\n",
      "535 596\n",
      "True 0.9131369839181392 7.454914895464199 3.507290363608479 1.3831211556472967\n",
      "535 704\n",
      "True 0.43833377685947816 15.996293300641348 3.422479584433799 2.6484395770508464\n",
      "535 756\n",
      "True 0.437429274053763 4.9668512819938995 4.188678240299628 2.859464795998198\n",
      "535 779\n",
      "True 1.00000783007076 6.44968684466113 3.6329395973567653 1.4228624585381888\n",
      "535 892\n",
      "True 0.6235982162053657 11.218508346372932 3.514837685760044 2.5465646621879943\n",
      "535 910\n",
      "True 0.19667542201712804 6.67924740099121 1.5000000151989705 3.0038056070365906\n",
      "535 1002\n"
     ]
    },
    {
     "name": "stderr",
     "output_type": "stream",
     "text": [
      "WARNING:icecube_tools.utils.data:Resetting rng\n"
     ]
    },
    {
     "name": "stdout",
     "output_type": "stream",
     "text": [
      "True 1.5041566892037578e-09 164.72181605550423 3.087774188388629 2.505385882587677\n",
      "536 177\n"
     ]
    },
    {
     "name": "stderr",
     "output_type": "stream",
     "text": [
      "/home/iwsatlas1/kuhlmann/icecube/icecube_tools/icecube_tools/detector/r2021.py:82: RuntimeWarning: divide by zero encountered in log10\n",
      "  self.dataset[:, 6:-1] = np.log10(self.dataset[:, 6:-1])\n",
      "WARNING:icecube_tools.detector.r2021:Empty true energy bins at: [(0, 0), (1, 0), (2, 0), (3, 0)]\n",
      "/home/iwsatlas1/kuhlmann/icecube/icecube_tools/icecube_tools/detector/r2021.py:82: RuntimeWarning: divide by zero encountered in log10\n",
      "  self.dataset[:, 6:-1] = np.log10(self.dataset[:, 6:-1])\n",
      "WARNING:icecube_tools.detector.r2021:Empty true energy bins at: [(0, 0), (1, 0), (2, 0)]\n",
      "/home/iwsatlas1/kuhlmann/icecube/icecube_tools/icecube_tools/detector/r2021.py:82: RuntimeWarning: divide by zero encountered in log10\n",
      "  self.dataset[:, 6:-1] = np.log10(self.dataset[:, 6:-1])\n",
      "WARNING:icecube_tools.detector.r2021:Empty true energy bins at: [(0, 0), (1, 0)]\n",
      "/home/iwsatlas1/kuhlmann/icecube/icecube_tools/icecube_tools/detector/r2021.py:82: RuntimeWarning: divide by zero encountered in log10\n",
      "  self.dataset[:, 6:-1] = np.log10(self.dataset[:, 6:-1])\n",
      "WARNING:icecube_tools.detector.r2021:Empty true energy bins at: [(0, 0), (1, 0)]\n"
     ]
    },
    {
     "name": "stdout",
     "output_type": "stream",
     "text": [
      "True 0.965340774425028 5.65070556365438 3.54104893013354 1.317228430769724\n",
      "536 255\n",
      "True 1.6330146945632367e-07 1323.9862261278472 3.1098052766915836 2.3397253872482744\n",
      "536 630\n",
      "True 0.5982895491027037 8.296789043309843 3.371864093886958 2.653747116159187\n",
      "536 799\n",
      "True 1.4605554429466313e-09 13.810770719568316 2.5408629249624197 2.240876535414337\n",
      "536 836\n",
      "True 1.517919610223074e-08 3.0946363986355467 3.9151291840487352 2.830137796019808\n",
      "536 841\n",
      "True 0.0009789544819807409 14.39679660252857 2.997529606172053 2.748096888944218\n",
      "536 971\n"
     ]
    },
    {
     "name": "stderr",
     "output_type": "stream",
     "text": [
      "WARNING:icecube_tools.utils.data:Resetting rng\n"
     ]
    },
    {
     "name": "stdout",
     "output_type": "stream",
     "text": [
      "True 7.48301079767956e-08 216.48052299404438 2.3639970664224768 2.1595786834467416\n",
      "537 196\n"
     ]
    },
    {
     "name": "stderr",
     "output_type": "stream",
     "text": [
      "/home/iwsatlas1/kuhlmann/icecube/icecube_tools/icecube_tools/detector/r2021.py:82: RuntimeWarning: divide by zero encountered in log10\n",
      "  self.dataset[:, 6:-1] = np.log10(self.dataset[:, 6:-1])\n",
      "WARNING:icecube_tools.detector.r2021:Empty true energy bins at: [(0, 0), (1, 0), (2, 0), (3, 0)]\n",
      "/home/iwsatlas1/kuhlmann/icecube/icecube_tools/icecube_tools/detector/r2021.py:82: RuntimeWarning: divide by zero encountered in log10\n",
      "  self.dataset[:, 6:-1] = np.log10(self.dataset[:, 6:-1])\n",
      "WARNING:icecube_tools.detector.r2021:Empty true energy bins at: [(0, 0), (1, 0), (2, 0)]\n",
      "/home/iwsatlas1/kuhlmann/icecube/icecube_tools/icecube_tools/detector/r2021.py:82: RuntimeWarning: divide by zero encountered in log10\n",
      "  self.dataset[:, 6:-1] = np.log10(self.dataset[:, 6:-1])\n",
      "WARNING:icecube_tools.detector.r2021:Empty true energy bins at: [(0, 0), (1, 0)]\n",
      "/home/iwsatlas1/kuhlmann/icecube/icecube_tools/icecube_tools/detector/r2021.py:82: RuntimeWarning: divide by zero encountered in log10\n",
      "  self.dataset[:, 6:-1] = np.log10(self.dataset[:, 6:-1])\n",
      "WARNING:icecube_tools.detector.r2021:Empty true energy bins at: [(0, 0), (1, 0)]\n"
     ]
    },
    {
     "name": "stdout",
     "output_type": "stream",
     "text": [
      "True 0.5731138901857133 24.774540439350538 3.2143353736541957 2.5818551523310354\n",
      "537 523\n",
      "True 0.80930340146397 8.81980784337651 3.25932339478359 2.508097282760596\n",
      "537 576\n",
      "True 0.9746772211440576 5.056295849348163 3.4767626352552674 1.071674667065909\n",
      "537 630\n",
      "True 2.7547261211490967e-11 9.172548760992331 1.9733065396615044 2.309935719442359\n",
      "537 951\n"
     ]
    },
    {
     "name": "stderr",
     "output_type": "stream",
     "text": [
      "WARNING:icecube_tools.utils.data:Resetting rng\n"
     ]
    },
    {
     "name": "stdout",
     "output_type": "stream",
     "text": [
      "True 2.031527278082593 2.4024228580273013 1.5000000310378543 0.5612950675041133\n",
      "538 357\n"
     ]
    },
    {
     "name": "stderr",
     "output_type": "stream",
     "text": [
      "/home/iwsatlas1/kuhlmann/icecube/icecube_tools/icecube_tools/detector/r2021.py:82: RuntimeWarning: divide by zero encountered in log10\n",
      "  self.dataset[:, 6:-1] = np.log10(self.dataset[:, 6:-1])\n",
      "WARNING:icecube_tools.detector.r2021:Empty true energy bins at: [(0, 0), (1, 0), (2, 0), (3, 0)]\n",
      "/home/iwsatlas1/kuhlmann/icecube/icecube_tools/icecube_tools/detector/r2021.py:82: RuntimeWarning: divide by zero encountered in log10\n",
      "  self.dataset[:, 6:-1] = np.log10(self.dataset[:, 6:-1])\n",
      "WARNING:icecube_tools.detector.r2021:Empty true energy bins at: [(0, 0), (1, 0), (2, 0)]\n",
      "/home/iwsatlas1/kuhlmann/icecube/icecube_tools/icecube_tools/detector/r2021.py:82: RuntimeWarning: divide by zero encountered in log10\n",
      "  self.dataset[:, 6:-1] = np.log10(self.dataset[:, 6:-1])\n",
      "WARNING:icecube_tools.detector.r2021:Empty true energy bins at: [(0, 0), (1, 0)]\n",
      "/home/iwsatlas1/kuhlmann/icecube/icecube_tools/icecube_tools/detector/r2021.py:82: RuntimeWarning: divide by zero encountered in log10\n",
      "  self.dataset[:, 6:-1] = np.log10(self.dataset[:, 6:-1])\n",
      "WARNING:icecube_tools.detector.r2021:Empty true energy bins at: [(0, 0), (1, 0)]\n"
     ]
    },
    {
     "name": "stdout",
     "output_type": "stream",
     "text": [
      "True 5.616233118756891e-13 2.6131008385991903 3.309445544017837 1.8629277124643207\n",
      "538 520\n",
      "True 0.33869591361483486 36.00150952200283 3.1636431947974004 2.5737637430694003\n",
      "538 935\n"
     ]
    },
    {
     "name": "stderr",
     "output_type": "stream",
     "text": [
      "WARNING:icecube_tools.utils.data:Resetting rng\n"
     ]
    },
    {
     "name": "stdout",
     "output_type": "stream",
     "text": [
      "True 3.5034820972302603 2.851669963742979 1.5000000016374064 0.24534087438333985\n",
      "539 16\n"
     ]
    },
    {
     "name": "stderr",
     "output_type": "stream",
     "text": [
      "/home/iwsatlas1/kuhlmann/icecube/icecube_tools/icecube_tools/detector/r2021.py:82: RuntimeWarning: divide by zero encountered in log10\n",
      "  self.dataset[:, 6:-1] = np.log10(self.dataset[:, 6:-1])\n",
      "WARNING:icecube_tools.detector.r2021:Empty true energy bins at: [(0, 0), (1, 0), (2, 0), (3, 0)]\n",
      "/home/iwsatlas1/kuhlmann/icecube/icecube_tools/icecube_tools/detector/r2021.py:82: RuntimeWarning: divide by zero encountered in log10\n",
      "  self.dataset[:, 6:-1] = np.log10(self.dataset[:, 6:-1])\n",
      "WARNING:icecube_tools.detector.r2021:Empty true energy bins at: [(0, 0), (1, 0), (2, 0)]\n",
      "/home/iwsatlas1/kuhlmann/icecube/icecube_tools/icecube_tools/detector/r2021.py:82: RuntimeWarning: divide by zero encountered in log10\n",
      "  self.dataset[:, 6:-1] = np.log10(self.dataset[:, 6:-1])\n",
      "WARNING:icecube_tools.detector.r2021:Empty true energy bins at: [(0, 0), (1, 0)]\n",
      "/home/iwsatlas1/kuhlmann/icecube/icecube_tools/icecube_tools/detector/r2021.py:82: RuntimeWarning: divide by zero encountered in log10\n",
      "  self.dataset[:, 6:-1] = np.log10(self.dataset[:, 6:-1])\n",
      "WARNING:icecube_tools.detector.r2021:Empty true energy bins at: [(0, 0), (1, 0)]\n"
     ]
    },
    {
     "name": "stdout",
     "output_type": "stream",
     "text": [
      "True 5.956444420142419e-06 786.4080092327672 3.1766066749106825 2.239896504190108\n",
      "539 43\n",
      "True 0.5684220332965857 8.246498507715312 3.2688747804123532 2.5626047013005353\n",
      "539 155\n",
      "True 4.006103743529665e-06 818.2320185346093 3.915213208567017 1.9584451902486772\n",
      "539 389\n",
      "True 0.9961564897546813 6.130181813515024 3.374712010148056 1.2187738759304076\n",
      "539 594\n",
      "True 0.6458394444843758 11.611079937212251 3.5090736646006446 1.3245785198630877\n",
      "539 600\n",
      "True 4.205087612754038e-13 8.129110351408878 2.6504756726415333 2.2824349729432827\n",
      "539 827\n",
      "True 1.4228470656704555e-06 20.052701730971542 2.9424394933297346 2.180932491797246\n",
      "539 918\n"
     ]
    },
    {
     "name": "stderr",
     "output_type": "stream",
     "text": [
      "WARNING:icecube_tools.utils.data:Resetting rng\n"
     ]
    },
    {
     "name": "stdout",
     "output_type": "stream",
     "text": [
      "True 1.9271080493221466 2.654778484943966 1.5000000923940786 0.5540139616469624\n",
      "540 43\n"
     ]
    },
    {
     "name": "stderr",
     "output_type": "stream",
     "text": [
      "/home/iwsatlas1/kuhlmann/icecube/icecube_tools/icecube_tools/detector/r2021.py:82: RuntimeWarning: divide by zero encountered in log10\n",
      "  self.dataset[:, 6:-1] = np.log10(self.dataset[:, 6:-1])\n",
      "WARNING:icecube_tools.detector.r2021:Empty true energy bins at: [(0, 0), (1, 0), (2, 0), (3, 0)]\n",
      "/home/iwsatlas1/kuhlmann/icecube/icecube_tools/icecube_tools/detector/r2021.py:82: RuntimeWarning: divide by zero encountered in log10\n",
      "  self.dataset[:, 6:-1] = np.log10(self.dataset[:, 6:-1])\n",
      "WARNING:icecube_tools.detector.r2021:Empty true energy bins at: [(0, 0), (1, 0), (2, 0)]\n",
      "/home/iwsatlas1/kuhlmann/icecube/icecube_tools/icecube_tools/detector/r2021.py:82: RuntimeWarning: divide by zero encountered in log10\n",
      "  self.dataset[:, 6:-1] = np.log10(self.dataset[:, 6:-1])\n",
      "WARNING:icecube_tools.detector.r2021:Empty true energy bins at: [(0, 0), (1, 0)]\n",
      "/home/iwsatlas1/kuhlmann/icecube/icecube_tools/icecube_tools/detector/r2021.py:82: RuntimeWarning: divide by zero encountered in log10\n",
      "  self.dataset[:, 6:-1] = np.log10(self.dataset[:, 6:-1])\n",
      "WARNING:icecube_tools.detector.r2021:Empty true energy bins at: [(0, 0), (1, 0)]\n"
     ]
    },
    {
     "name": "stdout",
     "output_type": "stream",
     "text": [
      "True 0.8062424407726965 8.223102176189222 3.2365989142363243 2.499336416810068\n",
      "540 153\n",
      "True 4.812259434194675e-06 8846.911400666186 3.2716452136441205 2.300499798269864\n",
      "540 298\n",
      "True 0.5275269257468926 17.917475112431607 3.2812761134193362 2.586444961308876\n",
      "540 343\n",
      "True 0.8664783634152362 6.447581639114704 3.536312930809084 1.1153761211127673\n",
      "540 349\n",
      "True 0.8031917422968766 10.021343569107534 3.374994987576891 1.3620185121542279\n",
      "540 447\n",
      "True 6.447496727973127e-09 465.252931417053 2.5317774083095097 2.252465124993133\n",
      "540 827\n"
     ]
    },
    {
     "name": "stderr",
     "output_type": "stream",
     "text": [
      "WARNING:icecube_tools.utils.data:Resetting rng\n"
     ]
    },
    {
     "name": "stdout",
     "output_type": "stream",
     "text": [
      "True 0.006233783292242718 7787.796323631159 2.8204856245401926 2.8075264634921777\n",
      "541 184\n"
     ]
    },
    {
     "name": "stderr",
     "output_type": "stream",
     "text": [
      "/home/iwsatlas1/kuhlmann/icecube/icecube_tools/icecube_tools/detector/r2021.py:82: RuntimeWarning: divide by zero encountered in log10\n",
      "  self.dataset[:, 6:-1] = np.log10(self.dataset[:, 6:-1])\n",
      "WARNING:icecube_tools.detector.r2021:Empty true energy bins at: [(0, 0), (1, 0), (2, 0), (3, 0)]\n",
      "/home/iwsatlas1/kuhlmann/icecube/icecube_tools/icecube_tools/detector/r2021.py:82: RuntimeWarning: divide by zero encountered in log10\n",
      "  self.dataset[:, 6:-1] = np.log10(self.dataset[:, 6:-1])\n",
      "WARNING:icecube_tools.detector.r2021:Empty true energy bins at: [(0, 0), (1, 0), (2, 0)]\n",
      "/home/iwsatlas1/kuhlmann/icecube/icecube_tools/icecube_tools/detector/r2021.py:82: RuntimeWarning: divide by zero encountered in log10\n",
      "  self.dataset[:, 6:-1] = np.log10(self.dataset[:, 6:-1])\n",
      "WARNING:icecube_tools.detector.r2021:Empty true energy bins at: [(0, 0), (1, 0)]\n",
      "/home/iwsatlas1/kuhlmann/icecube/icecube_tools/icecube_tools/detector/r2021.py:82: RuntimeWarning: divide by zero encountered in log10\n",
      "  self.dataset[:, 6:-1] = np.log10(self.dataset[:, 6:-1])\n",
      "WARNING:icecube_tools.detector.r2021:Empty true energy bins at: [(0, 0), (1, 0)]\n"
     ]
    },
    {
     "name": "stdout",
     "output_type": "stream",
     "text": [
      "True 1.3781417806737828 8.377724361453419 3.4392719886096548 1.0309835097978801\n",
      "541 222\n",
      "True 0.08415232313519683 104.31159201923563 3.108997015948498 2.0341688688788517\n",
      "541 410\n",
      "True 0.9917580927495965 7.500986924753572 3.216054444995689 1.2698792979885978\n",
      "541 499\n",
      "True 1.889927016968107e-15 0.14437508405899774 2.4327653812844487 2.0498597436814294\n",
      "541 514\n"
     ]
    },
    {
     "name": "stderr",
     "output_type": "stream",
     "text": [
      "WARNING:icecube_tools.utils.data:Resetting rng\n"
     ]
    },
    {
     "name": "stdout",
     "output_type": "stream",
     "text": [
      "True 9.036126559348423e-08 7.3174995044000655 3.22006172456803 1.808730225771511\n",
      "542 134\n"
     ]
    },
    {
     "name": "stderr",
     "output_type": "stream",
     "text": [
      "/home/iwsatlas1/kuhlmann/icecube/icecube_tools/icecube_tools/detector/r2021.py:82: RuntimeWarning: divide by zero encountered in log10\n",
      "  self.dataset[:, 6:-1] = np.log10(self.dataset[:, 6:-1])\n",
      "WARNING:icecube_tools.detector.r2021:Empty true energy bins at: [(0, 0), (1, 0), (2, 0), (3, 0)]\n",
      "/home/iwsatlas1/kuhlmann/icecube/icecube_tools/icecube_tools/detector/r2021.py:82: RuntimeWarning: divide by zero encountered in log10\n",
      "  self.dataset[:, 6:-1] = np.log10(self.dataset[:, 6:-1])\n",
      "WARNING:icecube_tools.detector.r2021:Empty true energy bins at: [(0, 0), (1, 0), (2, 0)]\n",
      "/home/iwsatlas1/kuhlmann/icecube/icecube_tools/icecube_tools/detector/r2021.py:82: RuntimeWarning: divide by zero encountered in log10\n",
      "  self.dataset[:, 6:-1] = np.log10(self.dataset[:, 6:-1])\n",
      "WARNING:icecube_tools.detector.r2021:Empty true energy bins at: [(0, 0), (1, 0)]\n",
      "/home/iwsatlas1/kuhlmann/icecube/icecube_tools/icecube_tools/detector/r2021.py:82: RuntimeWarning: divide by zero encountered in log10\n",
      "  self.dataset[:, 6:-1] = np.log10(self.dataset[:, 6:-1])\n",
      "WARNING:icecube_tools.detector.r2021:Empty true energy bins at: [(0, 0), (1, 0)]\n"
     ]
    },
    {
     "name": "stdout",
     "output_type": "stream",
     "text": [
      "True 0.0012633712671888545 200.37090845172216 3.0019545132407917 1.9580979484025023\n",
      "542 233\n",
      "True 0.5032995403008688 12.423830551111264 2.400483372001035 2.0784629060020228\n",
      "542 260\n",
      "True 0.5536486631594151 9.140802127845042 3.255422238804776 2.5536547229898665\n",
      "542 383\n",
      "True 0.9073287124945671 6.152833072429737 3.375981202147593 1.2889439123541353\n",
      "542 605\n",
      "True 0.9701931049757192 8.583462074493404 3.3131962859670927 1.3810906235874816\n",
      "542 704\n",
      "True 1.0975001554574504 9.361014333993527 3.4362953988735696 1.1178358643311128\n",
      "542 782\n"
     ]
    },
    {
     "name": "stderr",
     "output_type": "stream",
     "text": [
      "WARNING:icecube_tools.utils.data:Resetting rng\n"
     ]
    },
    {
     "name": "stdout",
     "output_type": "stream",
     "text": [
      "True 0.6816318430720074 3.0768068574076683 1.5000000650615049 3.3483970468158586\n",
      "543 21\n"
     ]
    },
    {
     "name": "stderr",
     "output_type": "stream",
     "text": [
      "/home/iwsatlas1/kuhlmann/icecube/icecube_tools/icecube_tools/detector/r2021.py:82: RuntimeWarning: divide by zero encountered in log10\n",
      "  self.dataset[:, 6:-1] = np.log10(self.dataset[:, 6:-1])\n",
      "WARNING:icecube_tools.detector.r2021:Empty true energy bins at: [(0, 0), (1, 0), (2, 0), (3, 0)]\n",
      "/home/iwsatlas1/kuhlmann/icecube/icecube_tools/icecube_tools/detector/r2021.py:82: RuntimeWarning: divide by zero encountered in log10\n",
      "  self.dataset[:, 6:-1] = np.log10(self.dataset[:, 6:-1])\n",
      "WARNING:icecube_tools.detector.r2021:Empty true energy bins at: [(0, 0), (1, 0), (2, 0)]\n",
      "/home/iwsatlas1/kuhlmann/icecube/icecube_tools/icecube_tools/detector/r2021.py:82: RuntimeWarning: divide by zero encountered in log10\n",
      "  self.dataset[:, 6:-1] = np.log10(self.dataset[:, 6:-1])\n",
      "WARNING:icecube_tools.detector.r2021:Empty true energy bins at: [(0, 0), (1, 0)]\n",
      "/home/iwsatlas1/kuhlmann/icecube/icecube_tools/icecube_tools/detector/r2021.py:82: RuntimeWarning: divide by zero encountered in log10\n",
      "  self.dataset[:, 6:-1] = np.log10(self.dataset[:, 6:-1])\n",
      "WARNING:icecube_tools.detector.r2021:Empty true energy bins at: [(0, 0), (1, 0)]\n"
     ]
    },
    {
     "name": "stdout",
     "output_type": "stream",
     "text": [
      "True 0.16588028671928742 47.400686715486884 3.189288900338518 1.860026455319634\n",
      "543 449\n",
      "True 1.0808758000863719 10.236435149702643 3.455425213860487 1.105768389019734\n",
      "543 913\n"
     ]
    },
    {
     "name": "stderr",
     "output_type": "stream",
     "text": [
      "WARNING:icecube_tools.utils.data:Resetting rng\n"
     ]
    },
    {
     "name": "stdout",
     "output_type": "stream",
     "text": [
      "True 0.6395274637587769 6.69604002655804 2.297493586808819 1.9580963842504244\n",
      "544 237\n"
     ]
    },
    {
     "name": "stderr",
     "output_type": "stream",
     "text": [
      "/home/iwsatlas1/kuhlmann/icecube/icecube_tools/icecube_tools/detector/r2021.py:82: RuntimeWarning: divide by zero encountered in log10\n",
      "  self.dataset[:, 6:-1] = np.log10(self.dataset[:, 6:-1])\n",
      "WARNING:icecube_tools.detector.r2021:Empty true energy bins at: [(0, 0), (1, 0), (2, 0), (3, 0)]\n",
      "/home/iwsatlas1/kuhlmann/icecube/icecube_tools/icecube_tools/detector/r2021.py:82: RuntimeWarning: divide by zero encountered in log10\n",
      "  self.dataset[:, 6:-1] = np.log10(self.dataset[:, 6:-1])\n",
      "WARNING:icecube_tools.detector.r2021:Empty true energy bins at: [(0, 0), (1, 0), (2, 0)]\n",
      "/home/iwsatlas1/kuhlmann/icecube/icecube_tools/icecube_tools/detector/r2021.py:82: RuntimeWarning: divide by zero encountered in log10\n",
      "  self.dataset[:, 6:-1] = np.log10(self.dataset[:, 6:-1])\n",
      "WARNING:icecube_tools.detector.r2021:Empty true energy bins at: [(0, 0), (1, 0)]\n",
      "/home/iwsatlas1/kuhlmann/icecube/icecube_tools/icecube_tools/detector/r2021.py:82: RuntimeWarning: divide by zero encountered in log10\n",
      "  self.dataset[:, 6:-1] = np.log10(self.dataset[:, 6:-1])\n",
      "WARNING:icecube_tools.detector.r2021:Empty true energy bins at: [(0, 0), (1, 0)]\n"
     ]
    },
    {
     "name": "stdout",
     "output_type": "stream",
     "text": [
      "True 0.26482496224145147 68.47913459226444 2.980509487028629 2.4507891594769475\n",
      "544 446\n",
      "True 2.3680588852903494e-07 1026.672476815099 2.2997039817995892 1.9524477257704163\n",
      "544 501\n",
      "True 1.0375093772705206 5.98586622184316 3.3897770989151947 1.151702597555287\n",
      "544 640\n"
     ]
    },
    {
     "name": "stderr",
     "output_type": "stream",
     "text": [
      "WARNING:icecube_tools.utils.data:Resetting rng\n"
     ]
    },
    {
     "name": "stdout",
     "output_type": "stream",
     "text": [
      "True 5.733278126340488e-11 46.43346656879592 3.011560058666516 2.5828906841845374\n",
      "545 430\n"
     ]
    },
    {
     "name": "stderr",
     "output_type": "stream",
     "text": [
      "/home/iwsatlas1/kuhlmann/icecube/icecube_tools/icecube_tools/detector/r2021.py:82: RuntimeWarning: divide by zero encountered in log10\n",
      "  self.dataset[:, 6:-1] = np.log10(self.dataset[:, 6:-1])\n",
      "WARNING:icecube_tools.detector.r2021:Empty true energy bins at: [(0, 0), (1, 0), (2, 0), (3, 0)]\n",
      "/home/iwsatlas1/kuhlmann/icecube/icecube_tools/icecube_tools/detector/r2021.py:82: RuntimeWarning: divide by zero encountered in log10\n",
      "  self.dataset[:, 6:-1] = np.log10(self.dataset[:, 6:-1])\n",
      "WARNING:icecube_tools.detector.r2021:Empty true energy bins at: [(0, 0), (1, 0), (2, 0)]\n",
      "/home/iwsatlas1/kuhlmann/icecube/icecube_tools/icecube_tools/detector/r2021.py:82: RuntimeWarning: divide by zero encountered in log10\n",
      "  self.dataset[:, 6:-1] = np.log10(self.dataset[:, 6:-1])\n",
      "WARNING:icecube_tools.detector.r2021:Empty true energy bins at: [(0, 0), (1, 0)]\n",
      "/home/iwsatlas1/kuhlmann/icecube/icecube_tools/icecube_tools/detector/r2021.py:82: RuntimeWarning: divide by zero encountered in log10\n",
      "  self.dataset[:, 6:-1] = np.log10(self.dataset[:, 6:-1])\n",
      "WARNING:icecube_tools.detector.r2021:Empty true energy bins at: [(0, 0), (1, 0)]\n"
     ]
    },
    {
     "name": "stdout",
     "output_type": "stream",
     "text": [
      "True 6.355851100434747e-07 1.3106714277578781 2.3255782293588596 0.9637571086078185\n",
      "545 496\n",
      "True 1.3861535486934845e-05 6784.440664722667 2.490213226152746 2.9931829144144997\n",
      "545 510\n",
      "True 0.6791780378320457 11.495842704441028 3.568708831927346 1.174854607758531\n",
      "545 704\n",
      "True 1.3679022067116076 5.111893124116746 3.4888570221290265 1.0104348532461431\n",
      "545 897\n"
     ]
    },
    {
     "name": "stderr",
     "output_type": "stream",
     "text": [
      "WARNING:icecube_tools.utils.data:Resetting rng\n"
     ]
    },
    {
     "name": "stdout",
     "output_type": "stream",
     "text": [
      "True 1.1958092465529444 8.01799156487433 3.258819141547876 1.2630188632732602\n",
      "546 898\n"
     ]
    },
    {
     "name": "stderr",
     "output_type": "stream",
     "text": [
      "/home/iwsatlas1/kuhlmann/icecube/icecube_tools/icecube_tools/detector/r2021.py:82: RuntimeWarning: divide by zero encountered in log10\n",
      "  self.dataset[:, 6:-1] = np.log10(self.dataset[:, 6:-1])\n",
      "WARNING:icecube_tools.detector.r2021:Empty true energy bins at: [(0, 0), (1, 0), (2, 0), (3, 0)]\n",
      "/home/iwsatlas1/kuhlmann/icecube/icecube_tools/icecube_tools/detector/r2021.py:82: RuntimeWarning: divide by zero encountered in log10\n",
      "  self.dataset[:, 6:-1] = np.log10(self.dataset[:, 6:-1])\n",
      "WARNING:icecube_tools.detector.r2021:Empty true energy bins at: [(0, 0), (1, 0), (2, 0)]\n",
      "/home/iwsatlas1/kuhlmann/icecube/icecube_tools/icecube_tools/detector/r2021.py:82: RuntimeWarning: divide by zero encountered in log10\n",
      "  self.dataset[:, 6:-1] = np.log10(self.dataset[:, 6:-1])\n",
      "WARNING:icecube_tools.detector.r2021:Empty true energy bins at: [(0, 0), (1, 0)]\n",
      "/home/iwsatlas1/kuhlmann/icecube/icecube_tools/icecube_tools/detector/r2021.py:82: RuntimeWarning: divide by zero encountered in log10\n",
      "  self.dataset[:, 6:-1] = np.log10(self.dataset[:, 6:-1])\n",
      "WARNING:icecube_tools.detector.r2021:Empty true energy bins at: [(0, 0), (1, 0)]\n",
      "WARNING:icecube_tools.utils.data:Resetting rng\n"
     ]
    },
    {
     "name": "stdout",
     "output_type": "stream",
     "text": [
      "True 0.5900224445682986 11.667875032377957 3.201102833307768 2.555284374799062\n",
      "547 348\n"
     ]
    },
    {
     "name": "stderr",
     "output_type": "stream",
     "text": [
      "/home/iwsatlas1/kuhlmann/icecube/icecube_tools/icecube_tools/detector/r2021.py:82: RuntimeWarning: divide by zero encountered in log10\n",
      "  self.dataset[:, 6:-1] = np.log10(self.dataset[:, 6:-1])\n",
      "WARNING:icecube_tools.detector.r2021:Empty true energy bins at: [(0, 0), (1, 0), (2, 0), (3, 0)]\n",
      "/home/iwsatlas1/kuhlmann/icecube/icecube_tools/icecube_tools/detector/r2021.py:82: RuntimeWarning: divide by zero encountered in log10\n",
      "  self.dataset[:, 6:-1] = np.log10(self.dataset[:, 6:-1])\n",
      "WARNING:icecube_tools.detector.r2021:Empty true energy bins at: [(0, 0), (1, 0), (2, 0)]\n",
      "/home/iwsatlas1/kuhlmann/icecube/icecube_tools/icecube_tools/detector/r2021.py:82: RuntimeWarning: divide by zero encountered in log10\n",
      "  self.dataset[:, 6:-1] = np.log10(self.dataset[:, 6:-1])\n",
      "WARNING:icecube_tools.detector.r2021:Empty true energy bins at: [(0, 0), (1, 0)]\n",
      "/home/iwsatlas1/kuhlmann/icecube/icecube_tools/icecube_tools/detector/r2021.py:82: RuntimeWarning: divide by zero encountered in log10\n",
      "  self.dataset[:, 6:-1] = np.log10(self.dataset[:, 6:-1])\n",
      "WARNING:icecube_tools.detector.r2021:Empty true energy bins at: [(0, 0), (1, 0)]\n"
     ]
    },
    {
     "name": "stdout",
     "output_type": "stream",
     "text": [
      "True 0.8470989879480871 11.421917530255863 2.2548814336648655 2.0311476775715054\n",
      "547 667\n"
     ]
    },
    {
     "name": "stderr",
     "output_type": "stream",
     "text": [
      "WARNING:icecube_tools.utils.data:Resetting rng\n"
     ]
    },
    {
     "name": "stdout",
     "output_type": "stream",
     "text": [
      "True 0.9755603342100212 9.338873739491998 3.2184593488429027 1.4540806645865831\n",
      "548 329\n"
     ]
    },
    {
     "name": "stderr",
     "output_type": "stream",
     "text": [
      "/home/iwsatlas1/kuhlmann/icecube/icecube_tools/icecube_tools/detector/r2021.py:82: RuntimeWarning: divide by zero encountered in log10\n",
      "  self.dataset[:, 6:-1] = np.log10(self.dataset[:, 6:-1])\n",
      "WARNING:icecube_tools.detector.r2021:Empty true energy bins at: [(0, 0), (1, 0), (2, 0), (3, 0)]\n",
      "/home/iwsatlas1/kuhlmann/icecube/icecube_tools/icecube_tools/detector/r2021.py:82: RuntimeWarning: divide by zero encountered in log10\n",
      "  self.dataset[:, 6:-1] = np.log10(self.dataset[:, 6:-1])\n",
      "WARNING:icecube_tools.detector.r2021:Empty true energy bins at: [(0, 0), (1, 0), (2, 0)]\n",
      "/home/iwsatlas1/kuhlmann/icecube/icecube_tools/icecube_tools/detector/r2021.py:82: RuntimeWarning: divide by zero encountered in log10\n",
      "  self.dataset[:, 6:-1] = np.log10(self.dataset[:, 6:-1])\n",
      "WARNING:icecube_tools.detector.r2021:Empty true energy bins at: [(0, 0), (1, 0)]\n",
      "/home/iwsatlas1/kuhlmann/icecube/icecube_tools/icecube_tools/detector/r2021.py:82: RuntimeWarning: divide by zero encountered in log10\n",
      "  self.dataset[:, 6:-1] = np.log10(self.dataset[:, 6:-1])\n",
      "WARNING:icecube_tools.detector.r2021:Empty true energy bins at: [(0, 0), (1, 0)]\n"
     ]
    },
    {
     "name": "stdout",
     "output_type": "stream",
     "text": [
      "True 0.41442882603491077 29.100225557847185 2.3661900565468192 2.661507459208766\n",
      "548 510\n",
      "True 0.6121059193545726 8.624088644236116 3.620172232385069 1.2116818968429093\n",
      "548 746\n",
      "True 0.7027660584213582 18.827049957097437 3.098879532938067 1.4571823116266205\n",
      "548 887\n",
      "True 1.32848309225363 2.035024304012818 1.5000188294666932 2.9335502656084143\n",
      "548 891\n"
     ]
    },
    {
     "name": "stderr",
     "output_type": "stream",
     "text": [
      "WARNING:icecube_tools.utils.data:Resetting rng\n"
     ]
    },
    {
     "name": "stdout",
     "output_type": "stream",
     "text": [
      "True 1.075763851807306 3.4034939738540575 1.7399409363260272 2.0246410470267833\n",
      "549 476\n"
     ]
    },
    {
     "name": "stderr",
     "output_type": "stream",
     "text": [
      "/home/iwsatlas1/kuhlmann/icecube/icecube_tools/icecube_tools/detector/r2021.py:82: RuntimeWarning: divide by zero encountered in log10\n",
      "  self.dataset[:, 6:-1] = np.log10(self.dataset[:, 6:-1])\n",
      "WARNING:icecube_tools.detector.r2021:Empty true energy bins at: [(0, 0), (1, 0), (2, 0), (3, 0)]\n",
      "/home/iwsatlas1/kuhlmann/icecube/icecube_tools/icecube_tools/detector/r2021.py:82: RuntimeWarning: divide by zero encountered in log10\n",
      "  self.dataset[:, 6:-1] = np.log10(self.dataset[:, 6:-1])\n",
      "WARNING:icecube_tools.detector.r2021:Empty true energy bins at: [(0, 0), (1, 0), (2, 0)]\n",
      "/home/iwsatlas1/kuhlmann/icecube/icecube_tools/icecube_tools/detector/r2021.py:82: RuntimeWarning: divide by zero encountered in log10\n",
      "  self.dataset[:, 6:-1] = np.log10(self.dataset[:, 6:-1])\n",
      "WARNING:icecube_tools.detector.r2021:Empty true energy bins at: [(0, 0), (1, 0)]\n",
      "/home/iwsatlas1/kuhlmann/icecube/icecube_tools/icecube_tools/detector/r2021.py:82: RuntimeWarning: divide by zero encountered in log10\n",
      "  self.dataset[:, 6:-1] = np.log10(self.dataset[:, 6:-1])\n",
      "WARNING:icecube_tools.detector.r2021:Empty true energy bins at: [(0, 0), (1, 0)]\n"
     ]
    },
    {
     "name": "stdout",
     "output_type": "stream",
     "text": [
      "True 1.2470649633683488 9.948315153238129 3.268540393291707 1.4716433841515673\n",
      "549 891\n"
     ]
    },
    {
     "name": "stderr",
     "output_type": "stream",
     "text": [
      "WARNING:icecube_tools.utils.data:Resetting rng\n"
     ]
    },
    {
     "name": "stdout",
     "output_type": "stream",
     "text": [
      "True 5.147026377846952e-07 136.17708094201325 2.5139626944430753 2.0118303323318756\n",
      "550 480\n"
     ]
    },
    {
     "name": "stderr",
     "output_type": "stream",
     "text": [
      "/home/iwsatlas1/kuhlmann/icecube/icecube_tools/icecube_tools/detector/r2021.py:82: RuntimeWarning: divide by zero encountered in log10\n",
      "  self.dataset[:, 6:-1] = np.log10(self.dataset[:, 6:-1])\n",
      "WARNING:icecube_tools.detector.r2021:Empty true energy bins at: [(0, 0), (1, 0), (2, 0), (3, 0)]\n",
      "/home/iwsatlas1/kuhlmann/icecube/icecube_tools/icecube_tools/detector/r2021.py:82: RuntimeWarning: divide by zero encountered in log10\n",
      "  self.dataset[:, 6:-1] = np.log10(self.dataset[:, 6:-1])\n",
      "WARNING:icecube_tools.detector.r2021:Empty true energy bins at: [(0, 0), (1, 0), (2, 0)]\n",
      "/home/iwsatlas1/kuhlmann/icecube/icecube_tools/icecube_tools/detector/r2021.py:82: RuntimeWarning: divide by zero encountered in log10\n",
      "  self.dataset[:, 6:-1] = np.log10(self.dataset[:, 6:-1])\n",
      "WARNING:icecube_tools.detector.r2021:Empty true energy bins at: [(0, 0), (1, 0)]\n",
      "/home/iwsatlas1/kuhlmann/icecube/icecube_tools/icecube_tools/detector/r2021.py:82: RuntimeWarning: divide by zero encountered in log10\n",
      "  self.dataset[:, 6:-1] = np.log10(self.dataset[:, 6:-1])\n",
      "WARNING:icecube_tools.detector.r2021:Empty true energy bins at: [(0, 0), (1, 0)]\n"
     ]
    },
    {
     "name": "stdout",
     "output_type": "stream",
     "text": [
      "True 1.1526519960593646 7.634048683418408 3.395484072709195 1.1374027644472118\n",
      "550 486\n",
      "True 1.051664264069047 5.7214430714919615 3.338869133391142 1.1818644328855217\n",
      "550 990\n"
     ]
    },
    {
     "name": "stderr",
     "output_type": "stream",
     "text": [
      "WARNING:icecube_tools.utils.data:Resetting rng\n"
     ]
    },
    {
     "name": "stdout",
     "output_type": "stream",
     "text": [
      "True 1.1303547445145359 6.650062520090042 3.4871450089626252 1.0490633336700272\n",
      "551 269\n"
     ]
    },
    {
     "name": "stderr",
     "output_type": "stream",
     "text": [
      "/home/iwsatlas1/kuhlmann/icecube/icecube_tools/icecube_tools/detector/r2021.py:82: RuntimeWarning: divide by zero encountered in log10\n",
      "  self.dataset[:, 6:-1] = np.log10(self.dataset[:, 6:-1])\n",
      "WARNING:icecube_tools.detector.r2021:Empty true energy bins at: [(0, 0), (1, 0), (2, 0), (3, 0)]\n",
      "/home/iwsatlas1/kuhlmann/icecube/icecube_tools/icecube_tools/detector/r2021.py:82: RuntimeWarning: divide by zero encountered in log10\n",
      "  self.dataset[:, 6:-1] = np.log10(self.dataset[:, 6:-1])\n",
      "WARNING:icecube_tools.detector.r2021:Empty true energy bins at: [(0, 0), (1, 0), (2, 0)]\n",
      "/home/iwsatlas1/kuhlmann/icecube/icecube_tools/icecube_tools/detector/r2021.py:82: RuntimeWarning: divide by zero encountered in log10\n",
      "  self.dataset[:, 6:-1] = np.log10(self.dataset[:, 6:-1])\n",
      "WARNING:icecube_tools.detector.r2021:Empty true energy bins at: [(0, 0), (1, 0)]\n",
      "/home/iwsatlas1/kuhlmann/icecube/icecube_tools/icecube_tools/detector/r2021.py:82: RuntimeWarning: divide by zero encountered in log10\n",
      "  self.dataset[:, 6:-1] = np.log10(self.dataset[:, 6:-1])\n",
      "WARNING:icecube_tools.detector.r2021:Empty true energy bins at: [(0, 0), (1, 0)]\n"
     ]
    },
    {
     "name": "stdout",
     "output_type": "stream",
     "text": [
      "True 1.352868220941776 6.399110705672715 2.1366771624418157 1.1182914196852995\n",
      "551 565\n",
      "True 0.7679600218950913 7.7559968202812275 3.4292706014144634 2.561272224496781\n",
      "551 675\n",
      "True 5.450037168597624e-07 29.630635460376602 2.5011400953351988 2.67391441327228\n",
      "551 714\n"
     ]
    },
    {
     "name": "stderr",
     "output_type": "stream",
     "text": [
      "WARNING:icecube_tools.utils.data:Resetting rng\n"
     ]
    },
    {
     "name": "stdout",
     "output_type": "stream",
     "text": [
      "True 0.029422434008641283 1034.8380203031902 2.5261968211490546 2.241124812979171\n",
      "552 106\n"
     ]
    },
    {
     "name": "stderr",
     "output_type": "stream",
     "text": [
      "/home/iwsatlas1/kuhlmann/icecube/icecube_tools/icecube_tools/detector/r2021.py:82: RuntimeWarning: divide by zero encountered in log10\n",
      "  self.dataset[:, 6:-1] = np.log10(self.dataset[:, 6:-1])\n",
      "WARNING:icecube_tools.detector.r2021:Empty true energy bins at: [(0, 0), (1, 0), (2, 0), (3, 0)]\n",
      "/home/iwsatlas1/kuhlmann/icecube/icecube_tools/icecube_tools/detector/r2021.py:82: RuntimeWarning: divide by zero encountered in log10\n",
      "  self.dataset[:, 6:-1] = np.log10(self.dataset[:, 6:-1])\n",
      "WARNING:icecube_tools.detector.r2021:Empty true energy bins at: [(0, 0), (1, 0), (2, 0)]\n",
      "/home/iwsatlas1/kuhlmann/icecube/icecube_tools/icecube_tools/detector/r2021.py:82: RuntimeWarning: divide by zero encountered in log10\n",
      "  self.dataset[:, 6:-1] = np.log10(self.dataset[:, 6:-1])\n",
      "WARNING:icecube_tools.detector.r2021:Empty true energy bins at: [(0, 0), (1, 0)]\n",
      "/home/iwsatlas1/kuhlmann/icecube/icecube_tools/icecube_tools/detector/r2021.py:82: RuntimeWarning: divide by zero encountered in log10\n",
      "  self.dataset[:, 6:-1] = np.log10(self.dataset[:, 6:-1])\n",
      "WARNING:icecube_tools.detector.r2021:Empty true energy bins at: [(0, 0), (1, 0)]\n"
     ]
    },
    {
     "name": "stdout",
     "output_type": "stream",
     "text": [
      "True 0.8305457894900636 16.587257277251968 3.049155551138803 2.485951060299258\n",
      "552 327\n",
      "True 0.7866568240001844 9.035332858791763 3.1710458073114682 2.55424461389199\n",
      "552 338\n",
      "True 1.285540821535842 5.643026750010062 2.0036129285367488 1.9432035739475548\n",
      "552 566\n"
     ]
    },
    {
     "name": "stderr",
     "output_type": "stream",
     "text": [
      "WARNING:icecube_tools.utils.data:Resetting rng\n"
     ]
    },
    {
     "name": "stdout",
     "output_type": "stream",
     "text": [
      "True 0.38647561063747676 15.212571936813172 3.283205634325269 2.5029910573317213\n",
      "553 112\n"
     ]
    },
    {
     "name": "stderr",
     "output_type": "stream",
     "text": [
      "/home/iwsatlas1/kuhlmann/icecube/icecube_tools/icecube_tools/detector/r2021.py:82: RuntimeWarning: divide by zero encountered in log10\n",
      "  self.dataset[:, 6:-1] = np.log10(self.dataset[:, 6:-1])\n",
      "WARNING:icecube_tools.detector.r2021:Empty true energy bins at: [(0, 0), (1, 0), (2, 0), (3, 0)]\n",
      "/home/iwsatlas1/kuhlmann/icecube/icecube_tools/icecube_tools/detector/r2021.py:82: RuntimeWarning: divide by zero encountered in log10\n",
      "  self.dataset[:, 6:-1] = np.log10(self.dataset[:, 6:-1])\n",
      "WARNING:icecube_tools.detector.r2021:Empty true energy bins at: [(0, 0), (1, 0), (2, 0)]\n",
      "/home/iwsatlas1/kuhlmann/icecube/icecube_tools/icecube_tools/detector/r2021.py:82: RuntimeWarning: divide by zero encountered in log10\n",
      "  self.dataset[:, 6:-1] = np.log10(self.dataset[:, 6:-1])\n",
      "WARNING:icecube_tools.detector.r2021:Empty true energy bins at: [(0, 0), (1, 0)]\n",
      "/home/iwsatlas1/kuhlmann/icecube/icecube_tools/icecube_tools/detector/r2021.py:82: RuntimeWarning: divide by zero encountered in log10\n",
      "  self.dataset[:, 6:-1] = np.log10(self.dataset[:, 6:-1])\n",
      "WARNING:icecube_tools.detector.r2021:Empty true energy bins at: [(0, 0), (1, 0)]\n"
     ]
    },
    {
     "name": "stdout",
     "output_type": "stream",
     "text": [
      "True 0.630661311001508 12.877461100626407 2.059443394070957 1.8578546645368936\n",
      "553 231\n",
      "True 0.5512731526913568 19.717643577974076 2.9571702040783876 2.4526644769228416\n",
      "553 380\n",
      "True 0.6539170771271366 14.237791536113834 3.1963753657084903 2.5981642824207034\n",
      "553 676\n",
      "True 0.2923487599174505 20.72633810416943 3.2721102298116738 1.805097789640372\n",
      "553 730\n",
      "True 1.3534734804349533 5.373787665929665 3.383666243511867 1.3308069259963844\n",
      "553 740\n"
     ]
    },
    {
     "name": "stderr",
     "output_type": "stream",
     "text": [
      "WARNING:icecube_tools.utils.data:Resetting rng\n"
     ]
    },
    {
     "name": "stdout",
     "output_type": "stream",
     "text": [
      "True 0.8987442890273226 8.862634931986925 3.354842683872504 2.5349340651802397\n",
      "554 126\n"
     ]
    },
    {
     "name": "stderr",
     "output_type": "stream",
     "text": [
      "/home/iwsatlas1/kuhlmann/icecube/icecube_tools/icecube_tools/detector/r2021.py:82: RuntimeWarning: divide by zero encountered in log10\n",
      "  self.dataset[:, 6:-1] = np.log10(self.dataset[:, 6:-1])\n",
      "WARNING:icecube_tools.detector.r2021:Empty true energy bins at: [(0, 0), (1, 0), (2, 0), (3, 0)]\n",
      "/home/iwsatlas1/kuhlmann/icecube/icecube_tools/icecube_tools/detector/r2021.py:82: RuntimeWarning: divide by zero encountered in log10\n",
      "  self.dataset[:, 6:-1] = np.log10(self.dataset[:, 6:-1])\n",
      "WARNING:icecube_tools.detector.r2021:Empty true energy bins at: [(0, 0), (1, 0), (2, 0)]\n",
      "/home/iwsatlas1/kuhlmann/icecube/icecube_tools/icecube_tools/detector/r2021.py:82: RuntimeWarning: divide by zero encountered in log10\n",
      "  self.dataset[:, 6:-1] = np.log10(self.dataset[:, 6:-1])\n",
      "WARNING:icecube_tools.detector.r2021:Empty true energy bins at: [(0, 0), (1, 0)]\n",
      "/home/iwsatlas1/kuhlmann/icecube/icecube_tools/icecube_tools/detector/r2021.py:82: RuntimeWarning: divide by zero encountered in log10\n",
      "  self.dataset[:, 6:-1] = np.log10(self.dataset[:, 6:-1])\n",
      "WARNING:icecube_tools.detector.r2021:Empty true energy bins at: [(0, 0), (1, 0)]\n"
     ]
    },
    {
     "name": "stdout",
     "output_type": "stream",
     "text": [
      "True 3.322091105309975e-07 30.029314695215785 2.7975182389223994 2.832885236789777\n",
      "554 632\n",
      "True 1.0550137891209457 8.513732647533171 3.5086237954233668 1.233679836362817\n",
      "554 741\n"
     ]
    },
    {
     "name": "stderr",
     "output_type": "stream",
     "text": [
      "WARNING:icecube_tools.utils.data:Resetting rng\n"
     ]
    },
    {
     "name": "stdout",
     "output_type": "stream",
     "text": [
      "True 1.0079018558208725 7.932975743138016 3.5180932391046675 1.1866688606095634\n",
      "555 57\n"
     ]
    },
    {
     "name": "stderr",
     "output_type": "stream",
     "text": [
      "/home/iwsatlas1/kuhlmann/icecube/icecube_tools/icecube_tools/detector/r2021.py:82: RuntimeWarning: divide by zero encountered in log10\n",
      "  self.dataset[:, 6:-1] = np.log10(self.dataset[:, 6:-1])\n",
      "WARNING:icecube_tools.detector.r2021:Empty true energy bins at: [(0, 0), (1, 0), (2, 0), (3, 0)]\n",
      "/home/iwsatlas1/kuhlmann/icecube/icecube_tools/icecube_tools/detector/r2021.py:82: RuntimeWarning: divide by zero encountered in log10\n",
      "  self.dataset[:, 6:-1] = np.log10(self.dataset[:, 6:-1])\n",
      "WARNING:icecube_tools.detector.r2021:Empty true energy bins at: [(0, 0), (1, 0), (2, 0)]\n",
      "/home/iwsatlas1/kuhlmann/icecube/icecube_tools/icecube_tools/detector/r2021.py:82: RuntimeWarning: divide by zero encountered in log10\n",
      "  self.dataset[:, 6:-1] = np.log10(self.dataset[:, 6:-1])\n",
      "WARNING:icecube_tools.detector.r2021:Empty true energy bins at: [(0, 0), (1, 0)]\n",
      "/home/iwsatlas1/kuhlmann/icecube/icecube_tools/icecube_tools/detector/r2021.py:82: RuntimeWarning: divide by zero encountered in log10\n",
      "  self.dataset[:, 6:-1] = np.log10(self.dataset[:, 6:-1])\n",
      "WARNING:icecube_tools.detector.r2021:Empty true energy bins at: [(0, 0), (1, 0)]\n"
     ]
    },
    {
     "name": "stdout",
     "output_type": "stream",
     "text": [
      "True 1.0306766257209026 11.280613374762133 2.604916549685126 1.195223096351017\n",
      "555 443\n",
      "True 5.710763893024273e-15 0.37600898656689563 2.926842259133358 2.4368285117256208\n",
      "555 467\n",
      "True 2.3734626059104596e-08 515.0563262769954 3.0678677828316223 1.84593767231556\n",
      "555 667\n",
      "True 0.48581395911919206 14.077951728843328 2.100229627810698 1.7680131106717973\n",
      "555 729\n"
     ]
    },
    {
     "name": "stderr",
     "output_type": "stream",
     "text": [
      "WARNING:icecube_tools.utils.data:Resetting rng\n"
     ]
    },
    {
     "name": "stdout",
     "output_type": "stream",
     "text": [
      "True 0.5312284495951454 12.391703079285008 3.578421775021304 2.771340707117636\n",
      "556 20\n"
     ]
    },
    {
     "name": "stderr",
     "output_type": "stream",
     "text": [
      "/home/iwsatlas1/kuhlmann/icecube/icecube_tools/icecube_tools/detector/r2021.py:82: RuntimeWarning: divide by zero encountered in log10\n",
      "  self.dataset[:, 6:-1] = np.log10(self.dataset[:, 6:-1])\n",
      "WARNING:icecube_tools.detector.r2021:Empty true energy bins at: [(0, 0), (1, 0), (2, 0), (3, 0)]\n",
      "/home/iwsatlas1/kuhlmann/icecube/icecube_tools/icecube_tools/detector/r2021.py:82: RuntimeWarning: divide by zero encountered in log10\n",
      "  self.dataset[:, 6:-1] = np.log10(self.dataset[:, 6:-1])\n",
      "WARNING:icecube_tools.detector.r2021:Empty true energy bins at: [(0, 0), (1, 0), (2, 0)]\n",
      "/home/iwsatlas1/kuhlmann/icecube/icecube_tools/icecube_tools/detector/r2021.py:82: RuntimeWarning: divide by zero encountered in log10\n",
      "  self.dataset[:, 6:-1] = np.log10(self.dataset[:, 6:-1])\n",
      "WARNING:icecube_tools.detector.r2021:Empty true energy bins at: [(0, 0), (1, 0)]\n",
      "/home/iwsatlas1/kuhlmann/icecube/icecube_tools/icecube_tools/detector/r2021.py:82: RuntimeWarning: divide by zero encountered in log10\n",
      "  self.dataset[:, 6:-1] = np.log10(self.dataset[:, 6:-1])\n",
      "WARNING:icecube_tools.detector.r2021:Empty true energy bins at: [(0, 0), (1, 0)]\n"
     ]
    },
    {
     "name": "stdout",
     "output_type": "stream",
     "text": [
      "True 0.2919918329383674 18.043813023484745 3.6680407875226 2.5856512039627355\n",
      "556 366\n",
      "True 0.5495390344283015 11.101639971042792 3.4893165382927585 2.7218672849010455\n",
      "556 668\n",
      "True 0.3400860934038407 18.788479963564825 2.112913480158096 1.9826189281127329\n",
      "556 721\n",
      "True 0.2945280980875427 33.76986739274987 3.269890169923742 2.0958126561664225\n",
      "556 741\n",
      "True 9.337149109445164e-15 0.5570473305507873 2.6030736619157655 2.9326688052452097\n",
      "556 992\n"
     ]
    },
    {
     "name": "stderr",
     "output_type": "stream",
     "text": [
      "WARNING:icecube_tools.utils.data:Resetting rng\n"
     ]
    },
    {
     "name": "stdout",
     "output_type": "stream",
     "text": [
      "True 9.053506069156168e-09 555.6430632183453 3.162761794637529 2.358212974178599\n",
      "557 309\n"
     ]
    },
    {
     "name": "stderr",
     "output_type": "stream",
     "text": [
      "/home/iwsatlas1/kuhlmann/icecube/icecube_tools/icecube_tools/detector/r2021.py:82: RuntimeWarning: divide by zero encountered in log10\n",
      "  self.dataset[:, 6:-1] = np.log10(self.dataset[:, 6:-1])\n",
      "WARNING:icecube_tools.detector.r2021:Empty true energy bins at: [(0, 0), (1, 0), (2, 0), (3, 0)]\n",
      "/home/iwsatlas1/kuhlmann/icecube/icecube_tools/icecube_tools/detector/r2021.py:82: RuntimeWarning: divide by zero encountered in log10\n",
      "  self.dataset[:, 6:-1] = np.log10(self.dataset[:, 6:-1])\n",
      "WARNING:icecube_tools.detector.r2021:Empty true energy bins at: [(0, 0), (1, 0), (2, 0)]\n",
      "/home/iwsatlas1/kuhlmann/icecube/icecube_tools/icecube_tools/detector/r2021.py:82: RuntimeWarning: divide by zero encountered in log10\n",
      "  self.dataset[:, 6:-1] = np.log10(self.dataset[:, 6:-1])\n",
      "WARNING:icecube_tools.detector.r2021:Empty true energy bins at: [(0, 0), (1, 0)]\n",
      "/home/iwsatlas1/kuhlmann/icecube/icecube_tools/icecube_tools/detector/r2021.py:82: RuntimeWarning: divide by zero encountered in log10\n",
      "  self.dataset[:, 6:-1] = np.log10(self.dataset[:, 6:-1])\n",
      "WARNING:icecube_tools.detector.r2021:Empty true energy bins at: [(0, 0), (1, 0)]\n"
     ]
    },
    {
     "name": "stdout",
     "output_type": "stream",
     "text": [
      "True 5.84909155922753e-06 14.199007478379848 2.7273162248905027 2.1238923472408224\n",
      "557 503\n",
      "True 7.29129265233301 7.905789761947407 2.7720087293651225 0.5696397792630885\n",
      "557 562\n",
      "True 7.09005567081251 7.219172855529481 2.5384484505246383 0.48224338141902723\n",
      "557 741\n",
      "True 2.917859096701614e-16 0.08484470344501584 2.534481900423556 2.588429699321571\n",
      "557 749\n"
     ]
    },
    {
     "name": "stderr",
     "output_type": "stream",
     "text": [
      "WARNING:icecube_tools.utils.data:Resetting rng\n"
     ]
    },
    {
     "name": "stdout",
     "output_type": "stream",
     "text": [
      "True 0.0016110684100979643 8199.329780528813 2.8187244025682503 2.643776665897184\n",
      "558 166\n"
     ]
    },
    {
     "name": "stderr",
     "output_type": "stream",
     "text": [
      "/home/iwsatlas1/kuhlmann/icecube/icecube_tools/icecube_tools/detector/r2021.py:82: RuntimeWarning: divide by zero encountered in log10\n",
      "  self.dataset[:, 6:-1] = np.log10(self.dataset[:, 6:-1])\n",
      "WARNING:icecube_tools.detector.r2021:Empty true energy bins at: [(0, 0), (1, 0), (2, 0), (3, 0)]\n",
      "/home/iwsatlas1/kuhlmann/icecube/icecube_tools/icecube_tools/detector/r2021.py:82: RuntimeWarning: divide by zero encountered in log10\n",
      "  self.dataset[:, 6:-1] = np.log10(self.dataset[:, 6:-1])\n",
      "WARNING:icecube_tools.detector.r2021:Empty true energy bins at: [(0, 0), (1, 0), (2, 0)]\n"
     ]
    },
    {
     "ename": "AttributeError",
     "evalue": "'MapScan' object has no attribute 'likelihood'",
     "output_type": "error",
     "traceback": [
      "\u001b[0;31m---------------------------------------------------------------------------\u001b[0m",
      "\u001b[0;31mAttributeError\u001b[0m                            Traceback (most recent call last)",
      "File \u001b[0;32m~/icecube/icecube_tools/icecube_tools/point_source_analysis/point_source_analysis.py:152\u001b[0m, in \u001b[0;36mMapScan._test_source\u001b[0;34m(self, source_coord, num, ra, dec, reco_energy, ang_err, minos)\u001b[0m\n\u001b[1;32m    151\u001b[0m \u001b[39mtry\u001b[39;00m:\n\u001b[0;32m--> 152\u001b[0m     \u001b[39mself\u001b[39;49m\u001b[39m.\u001b[39;49mlikelihood\u001b[39m.\u001b[39msource_coord \u001b[39m=\u001b[39m source_coord\n\u001b[1;32m    153\u001b[0m     \u001b[39mif\u001b[39;00m \u001b[39misinstance\u001b[39m(\u001b[39mself\u001b[39m, MapScanTSDistribution):\n\u001b[1;32m    154\u001b[0m         \u001b[39m# Insert scrambled events if `self` is supposed to\u001b[39;00m\n",
      "\u001b[0;31mAttributeError\u001b[0m: 'MapScan' object has no attribute 'likelihood'",
      "\nDuring handling of the above exception, another exception occurred:\n",
      "\u001b[0;31mKeyboardInterrupt\u001b[0m                         Traceback (most recent call last)",
      "File \u001b[0;32m~/icecube/icecube_tools/icecube_tools/point_source_analysis/point_source_analysis.py:157\u001b[0m, in \u001b[0;36mMapScan._test_source\u001b[0;34m(self, source_coord, num, ra, dec, reco_energy, ang_err, minos)\u001b[0m\n\u001b[1;32m    156\u001b[0m \u001b[39mexcept\u001b[39;00m \u001b[39mAttributeError\u001b[39;00m \u001b[39mas\u001b[39;00m e:\n\u001b[0;32m--> 157\u001b[0m     \u001b[39mself\u001b[39m\u001b[39m.\u001b[39mlikelihood \u001b[39m=\u001b[39m TimeDependentPointSourceLikelihood(\n\u001b[1;32m    158\u001b[0m         source_coord,\n\u001b[1;32m    159\u001b[0m         \u001b[39mself\u001b[39;49m\u001b[39m.\u001b[39;49mevents\u001b[39m.\u001b[39;49mperiods,\n\u001b[1;32m    160\u001b[0m         ra,\n\u001b[1;32m    161\u001b[0m         dec,\n\u001b[1;32m    162\u001b[0m         reco_energy,\n\u001b[1;32m    163\u001b[0m         ang_err,\n\u001b[1;32m    164\u001b[0m         which\u001b[39m=\u001b[39;49m\u001b[39mself\u001b[39;49m\u001b[39m.\u001b[39;49mwhich,\n\u001b[1;32m    165\u001b[0m         times\u001b[39m=\u001b[39;49m\u001b[39mself\u001b[39;49m\u001b[39m.\u001b[39;49mtimes\n\u001b[1;32m    166\u001b[0m     )\n\u001b[1;32m    167\u001b[0m \u001b[39mfinally\u001b[39;00m:\n",
      "File \u001b[0;32m~/icecube/icecube_tools/icecube_tools/point_source_likelihood/point_source_likelihood.py:977\u001b[0m, in \u001b[0;36m__init__\u001b[0;34m(self, source_coord, periods, ra, dec, reco_energy, ang_err, energy_llh, times, path, index_list, which, emin, emax, min_index, max_index, new_reco_bins, sigma, band_width_factor)\u001b[0m\n\u001b[1;32m    976\u001b[0m \u001b[39melse\u001b[39;00m:\n\u001b[0;32m--> 977\u001b[0m     create_e_llh \u001b[39m=\u001b[39m \u001b[39mFalse\u001b[39;00m\n\u001b[1;32m    979\u001b[0m \u001b[39mfor\u001b[39;00m p \u001b[39min\u001b[39;00m \u001b[39mself\u001b[39m\u001b[39m.\u001b[39mperiods:\n",
      "File \u001b[0;32m~/icecube/icecube_tools/icecube_tools/detector/detector.py:164\u001b[0m, in \u001b[0;36mTimeDependentIceCube.from_periods\u001b[0;34m(cls, *periods)\u001b[0m\n\u001b[1;32m    163\u001b[0m aeff \u001b[39m=\u001b[39m EffectiveArea\u001b[39m.\u001b[39mfrom_dataset(\u001b[39m\"\u001b[39m\u001b[39m20210126\u001b[39m\u001b[39m\"\u001b[39m, p, fetch\u001b[39m=\u001b[39m\u001b[39mFalse\u001b[39;00m)\n\u001b[0;32m--> 164\u001b[0m irf \u001b[39m=\u001b[39m R2021IRF\u001b[39m.\u001b[39;49mfrom_period(p, fetch\u001b[39m=\u001b[39;49m\u001b[39mFalse\u001b[39;49;00m)\n\u001b[1;32m    165\u001b[0m detectors[p] \u001b[39m=\u001b[39m IceCube(aeff, irf, irf, p)\n",
      "File \u001b[0;32m~/icecube/icecube_tools/icecube_tools/detector/r2021.py:409\u001b[0m, in \u001b[0;36mR2021IRF.from_period\u001b[0;34m(cls, period, **kwargs)\u001b[0m\n\u001b[1;32m    408\u001b[0m \u001b[39mif\u001b[39;00m \u001b[39m\"\u001b[39m\u001b[39m_\u001b[39m\u001b[39m\"\u001b[39m\u001b[39m.\u001b[39mjoin((period, R2021_IRF_FILENAME)) \u001b[39min\u001b[39;00m f:\n\u001b[0;32m--> 409\u001b[0m     \u001b[39mreturn\u001b[39;00m \u001b[39mcls\u001b[39;49m(f, \u001b[39m*\u001b[39;49m\u001b[39m*\u001b[39;49mkwargs)\n",
      "File \u001b[0;32m~/icecube/icecube_tools/icecube_tools/detector/r2021.py:78\u001b[0m, in \u001b[0;36mR2021IRF.__init__\u001b[0;34m(self, filename, **kwargs)\u001b[0m\n\u001b[1;32m     76\u001b[0m \u001b[39mself\u001b[39m\u001b[39m.\u001b[39muniform \u001b[39m=\u001b[39m uniform(\u001b[39m0\u001b[39m, \u001b[39m2\u001b[39m\u001b[39m*\u001b[39mnp\u001b[39m.\u001b[39mpi)\n\u001b[0;32m---> 78\u001b[0m \u001b[39mself\u001b[39m\u001b[39m.\u001b[39moutput \u001b[39m=\u001b[39m np\u001b[39m.\u001b[39;49mloadtxt(\u001b[39mself\u001b[39;49m\u001b[39m.\u001b[39;49m_filename, comments\u001b[39m=\u001b[39;49m\u001b[39m\"\u001b[39;49m\u001b[39m#\u001b[39;49m\u001b[39m\"\u001b[39;49m)\n\u001b[1;32m     79\u001b[0m \u001b[39mself\u001b[39m\u001b[39m.\u001b[39mdataset \u001b[39m=\u001b[39m \u001b[39mself\u001b[39m\u001b[39m.\u001b[39moutput\n",
      "File \u001b[0;32m~/envs/icecube_dev/lib/python3.9/site-packages/numpy/lib/npyio.py:1318\u001b[0m, in \u001b[0;36mloadtxt\u001b[0;34m(fname, dtype, comments, delimiter, converters, skiprows, usecols, unpack, ndmin, encoding, max_rows, quotechar, like)\u001b[0m\n\u001b[1;32m   1316\u001b[0m     delimiter \u001b[39m=\u001b[39m delimiter\u001b[39m.\u001b[39mdecode(\u001b[39m'\u001b[39m\u001b[39mlatin1\u001b[39m\u001b[39m'\u001b[39m)\n\u001b[0;32m-> 1318\u001b[0m arr \u001b[39m=\u001b[39m _read(fname, dtype\u001b[39m=\u001b[39;49mdtype, comment\u001b[39m=\u001b[39;49mcomment, delimiter\u001b[39m=\u001b[39;49mdelimiter,\n\u001b[1;32m   1319\u001b[0m             converters\u001b[39m=\u001b[39;49mconverters, skiplines\u001b[39m=\u001b[39;49mskiprows, usecols\u001b[39m=\u001b[39;49musecols,\n\u001b[1;32m   1320\u001b[0m             unpack\u001b[39m=\u001b[39;49munpack, ndmin\u001b[39m=\u001b[39;49mndmin, encoding\u001b[39m=\u001b[39;49mencoding,\n\u001b[1;32m   1321\u001b[0m             max_rows\u001b[39m=\u001b[39;49mmax_rows, quote\u001b[39m=\u001b[39;49mquotechar)\n\u001b[1;32m   1323\u001b[0m \u001b[39mreturn\u001b[39;00m arr\n",
      "File \u001b[0;32m~/envs/icecube_dev/lib/python3.9/site-packages/numpy/lib/npyio.py:979\u001b[0m, in \u001b[0;36m_read\u001b[0;34m(fname, delimiter, comment, quote, imaginary_unit, usecols, skiplines, max_rows, converters, ndmin, unpack, dtype, encoding)\u001b[0m\n\u001b[1;32m    978\u001b[0m \u001b[39mif\u001b[39;00m read_dtype_via_object_chunks \u001b[39mis\u001b[39;00m \u001b[39mNone\u001b[39;00m:\n\u001b[0;32m--> 979\u001b[0m     arr \u001b[39m=\u001b[39m _load_from_filelike(\n\u001b[1;32m    980\u001b[0m         data, delimiter\u001b[39m=\u001b[39;49mdelimiter, comment\u001b[39m=\u001b[39;49mcomment, quote\u001b[39m=\u001b[39;49mquote,\n\u001b[1;32m    981\u001b[0m         imaginary_unit\u001b[39m=\u001b[39;49mimaginary_unit,\n\u001b[1;32m    982\u001b[0m         usecols\u001b[39m=\u001b[39;49musecols, skiplines\u001b[39m=\u001b[39;49mskiplines, max_rows\u001b[39m=\u001b[39;49mmax_rows,\n\u001b[1;32m    983\u001b[0m         converters\u001b[39m=\u001b[39;49mconverters, dtype\u001b[39m=\u001b[39;49mdtype,\n\u001b[1;32m    984\u001b[0m         encoding\u001b[39m=\u001b[39;49mencoding, filelike\u001b[39m=\u001b[39;49mfilelike,\n\u001b[1;32m    985\u001b[0m         byte_converters\u001b[39m=\u001b[39;49mbyte_converters)\n\u001b[1;32m    987\u001b[0m \u001b[39melse\u001b[39;00m:\n\u001b[1;32m    988\u001b[0m     \u001b[39m# This branch reads the file into chunks of object arrays and then\u001b[39;00m\n\u001b[1;32m    989\u001b[0m     \u001b[39m# casts them to the desired actual dtype.  This ensures correct\u001b[39;00m\n\u001b[1;32m    990\u001b[0m     \u001b[39m# string-length and datetime-unit discovery (like `arr.astype()`).\u001b[39;00m\n\u001b[1;32m    991\u001b[0m     \u001b[39m# Due to chunking, certain error reports are less clear, currently.\u001b[39;00m\n",
      "File \u001b[0;32m~/envs/icecube_dev/lib/python3.9/codecs.py:331\u001b[0m, in \u001b[0;36mBufferedIncrementalDecoder.getstate\u001b[0;34m(self)\u001b[0m\n\u001b[1;32m    329\u001b[0m     \u001b[39mself\u001b[39m\u001b[39m.\u001b[39mbuffer \u001b[39m=\u001b[39m \u001b[39mb\u001b[39m\u001b[39m\"\u001b[39m\u001b[39m\"\u001b[39m\n\u001b[0;32m--> 331\u001b[0m \u001b[39mdef\u001b[39;00m \u001b[39mgetstate\u001b[39m(\u001b[39mself\u001b[39m):\n\u001b[1;32m    332\u001b[0m     \u001b[39m# additional state info is always 0\u001b[39;00m\n\u001b[1;32m    333\u001b[0m     \u001b[39mreturn\u001b[39;00m (\u001b[39mself\u001b[39m\u001b[39m.\u001b[39mbuffer, \u001b[39m0\u001b[39m)\n",
      "\u001b[0;31mKeyboardInterrupt\u001b[0m: ",
      "\nDuring handling of the above exception, another exception occurred:\n",
      "\u001b[0;31mAttributeError\u001b[0m                            Traceback (most recent call last)",
      "\u001b[1;32m/home/iwsatlas1/kuhlmann/icecube/p_value/sky_scan/mosaic.ipynb Cell 2\u001b[0m in \u001b[0;36m<cell line: 1>\u001b[0;34m()\u001b[0m\n\u001b[1;32m      <a href='vscode-notebook-cell://ssh-remote%2Bodsl~batserv01/home/iwsatlas1/kuhlmann/icecube/p_value/sky_scan/mosaic.ipynb#W1sdnNjb2RlLXJlbW90ZQ%3D%3D?line=5'>6</a>\u001b[0m \u001b[39mfor\u001b[39;00m num \u001b[39min\u001b[39;00m idx:\n\u001b[1;32m      <a href='vscode-notebook-cell://ssh-remote%2Bodsl~batserv01/home/iwsatlas1/kuhlmann/icecube/p_value/sky_scan/mosaic.ipynb#W1sdnNjb2RlLXJlbW90ZQ%3D%3D?line=6'>7</a>\u001b[0m     \u001b[39mprint\u001b[39m(i, num)\n\u001b[0;32m----> <a href='vscode-notebook-cell://ssh-remote%2Bodsl~batserv01/home/iwsatlas1/kuhlmann/icecube/p_value/sky_scan/mosaic.ipynb#W1sdnNjb2RlLXJlbW90ZQ%3D%3D?line=7'>8</a>\u001b[0m     scan\u001b[39m.\u001b[39;49m_test_source((scan\u001b[39m.\u001b[39;49mra_test[num], scan\u001b[39m.\u001b[39;49mdec_test[num]), num, scan\u001b[39m.\u001b[39;49mevents\u001b[39m.\u001b[39;49mra, scan\u001b[39m.\u001b[39;49mevents\u001b[39m.\u001b[39;49mdec, scan\u001b[39m.\u001b[39;49mevents\u001b[39m.\u001b[39;49mreco_energy, scan\u001b[39m.\u001b[39;49mevents\u001b[39m.\u001b[39;49mang_err)\n\u001b[1;32m      <a href='vscode-notebook-cell://ssh-remote%2Bodsl~batserv01/home/iwsatlas1/kuhlmann/icecube/p_value/sky_scan/mosaic.ipynb#W1sdnNjb2RlLXJlbW90ZQ%3D%3D?line=8'>9</a>\u001b[0m     \u001b[39mprint\u001b[39m(scan\u001b[39m.\u001b[39mlikelihood\u001b[39m.\u001b[39mm\u001b[39m.\u001b[39mfmin\u001b[39m.\u001b[39mis_valid, scan\u001b[39m.\u001b[39mlikelihood\u001b[39m.\u001b[39mm\u001b[39m.\u001b[39mvalues[\u001b[39m\"\u001b[39m\u001b[39mns\u001b[39m\u001b[39m\"\u001b[39m], scan\u001b[39m.\u001b[39mlikelihood\u001b[39m.\u001b[39mm\u001b[39m.\u001b[39merrors[\u001b[39m\"\u001b[39m\u001b[39mns\u001b[39m\u001b[39m\"\u001b[39m], scan\u001b[39m.\u001b[39mlikelihood\u001b[39m.\u001b[39mm\u001b[39m.\u001b[39mvalues[\u001b[39m\"\u001b[39m\u001b[39mindex\u001b[39m\u001b[39m\"\u001b[39m], scan\u001b[39m.\u001b[39mlikelihood\u001b[39m.\u001b[39mm\u001b[39m.\u001b[39merrors[\u001b[39m\"\u001b[39m\u001b[39mindex\u001b[39m\u001b[39m\"\u001b[39m], )\n\u001b[1;32m     <a href='vscode-notebook-cell://ssh-remote%2Bodsl~batserv01/home/iwsatlas1/kuhlmann/icecube/p_value/sky_scan/mosaic.ipynb#W1sdnNjb2RlLXJlbW90ZQ%3D%3D?line=9'>10</a>\u001b[0m scan\u001b[39m.\u001b[39mwrite_output(scan\u001b[39m.\u001b[39moutput_path, source_list\u001b[39m=\u001b[39m\u001b[39mTrue\u001b[39;00m)\n",
      "File \u001b[0;32m~/icecube/icecube_tools/icecube_tools/point_source_analysis/point_source_analysis.py:168\u001b[0m, in \u001b[0;36mMapScan._test_source\u001b[0;34m(self, source_coord, num, ra, dec, reco_energy, ang_err, minos)\u001b[0m\n\u001b[1;32m    157\u001b[0m     \u001b[39mself\u001b[39m\u001b[39m.\u001b[39mlikelihood \u001b[39m=\u001b[39m TimeDependentPointSourceLikelihood(\n\u001b[1;32m    158\u001b[0m         source_coord,\n\u001b[1;32m    159\u001b[0m         \u001b[39mself\u001b[39m\u001b[39m.\u001b[39mevents\u001b[39m.\u001b[39mperiods,\n\u001b[0;32m   (...)\u001b[0m\n\u001b[1;32m    165\u001b[0m         times\u001b[39m=\u001b[39m\u001b[39mself\u001b[39m\u001b[39m.\u001b[39mtimes\n\u001b[1;32m    166\u001b[0m     )\n\u001b[1;32m    167\u001b[0m \u001b[39mfinally\u001b[39;00m:\n\u001b[0;32m--> 168\u001b[0m     \u001b[39mif\u001b[39;00m \u001b[39mself\u001b[39;49m\u001b[39m.\u001b[39;49mlikelihood\u001b[39m.\u001b[39mNprime \u001b[39m>\u001b[39m \u001b[39m0\u001b[39m:    \u001b[39m# else somewhere division by zero\u001b[39;00m\n\u001b[1;32m    169\u001b[0m         logging\u001b[39m.\u001b[39mdebug(\u001b[39m\"\u001b[39m\u001b[39mNearby events: \u001b[39m\u001b[39m{}\u001b[39;00m\u001b[39m\"\u001b[39m\u001b[39m.\u001b[39mformat(\u001b[39mself\u001b[39m\u001b[39m.\u001b[39mlikelihood\u001b[39m.\u001b[39mNprime))\n\u001b[1;32m    170\u001b[0m         \u001b[39mself\u001b[39m\u001b[39m.\u001b[39mts[num] \u001b[39m=\u001b[39m \u001b[39mself\u001b[39m\u001b[39m.\u001b[39mlikelihood\u001b[39m.\u001b[39mget_test_statistic()\n",
      "\u001b[0;31mAttributeError\u001b[0m: 'MapScan' object has no attribute 'likelihood'"
     ]
    }
   ],
   "source": [
    "for i in range(558, 768):\n",
    "    scan = MapScan.load_output(f\"results/parallel_output_{i}.hdf5\", RealEvents.from_event_files())\n",
    "    if not np.all(scan.fit_ok):\n",
    "        \n",
    "        idx = np.nonzero(scan.fit_ok == 0)[0]\n",
    "        for num in idx:\n",
    "            print(i, num)\n",
    "            scan._test_source((scan.ra_test[num], scan.dec_test[num]), num, scan.events.ra, scan.events.dec, scan.events.reco_energy, scan.events.ang_err)\n",
    "            print(scan.likelihood.m.fmin.is_valid, scan.likelihood.m.values[\"ns\"], scan.likelihood.m.errors[\"ns\"], scan.likelihood.m.values[\"index\"], scan.likelihood.m.errors[\"index\"], )\n",
    "        scan.write_output(scan.output_path, source_list=True)"
   ]
  },
  {
   "cell_type": "code",
   "execution_count": 3,
   "metadata": {},
   "outputs": [],
   "source": [
    "OUTPUT_FILE_BASE = \"results/parallel_output_\""
   ]
  },
  {
   "cell_type": "code",
   "execution_count": 4,
   "metadata": {},
   "outputs": [],
   "source": [
    "i = 0\n",
    "ts = []\n",
    "ra = []\n",
    "dec = []\n",
    "faulty = []\n",
    "fit_ok = []\n",
    "for i in range(768):\n",
    "    try:\n",
    "        with h5py.File(OUTPUT_FILE_BASE+\"{}.hdf5\".format(i), \"r\") as f:\n",
    "            #print(\"file opened\")\n",
    "            #i += 1\n",
    "\n",
    "            ts.append(f[\"output/ts\"][()])\n",
    "            ra.append(f[\"meta/ra\"][()])\n",
    "            dec.append(f[\"meta/dec\"][()])\n",
    "            fit_ok.append(f[\"output/fit_ok\"][()])\n",
    "            if np.any(ts[-1][-4:] == 0):\n",
    "                faulty.append(i)\n",
    "    except FileNotFoundError as e:\n",
    "        faulty.append(i)\n",
    "        #print(e)\n",
    "        #break\n",
    "        ts.append(np.zeros(1024))\n",
    "        \n",
    "\n",
    "ts = np.hstack(ts)\n",
    "dec = np.hstack(dec)\n",
    "ra = np.hstack(ra)\n",
    "fit_ok = np.hstack(fit_ok)"
   ]
  },
  {
   "cell_type": "code",
   "execution_count": null,
   "metadata": {},
   "outputs": [],
   "source": [
    "with h5py.File(\"../ngc_1068/skymap_ngc_restricted.hdf5\", \"r\") as f:\n",
    "    ts_ngc = f[\"output/ts\"][()]\n",
    "    ra_ngc = f[\"meta/ra\"][()]\n",
    "    dec_ngc = f[\"meta/dec\"][()]"
   ]
  },
  {
   "cell_type": "code",
   "execution_count": 5,
   "metadata": {},
   "outputs": [
    {
     "data": {
      "text/plain": [
       "<Figure size 192x144 with 0 Axes>"
      ]
     },
     "metadata": {},
     "output_type": "display_data"
    },
    {
     "data": {
      "image/png": "[encoded data removed]",
      "text/plain": [
       "<Figure size 1000x630 with 2 Axes>"
      ]
     },
     "metadata": {},
     "output_type": "display_data"
    }
   ],
   "source": [
    "fig = plt.figure(1, dpi=30)\n",
    "\n",
    "projview(\n",
    "    ts,\n",
    "    coord=[\"E\"],\n",
    "    graticule=True,\n",
    "    graticule_labels=True,\n",
    "    unit=\"TS\",\n",
    "    xlabel=\"ra\",\n",
    "    ylabel=\"dec\",\n",
    "    min=0,\n",
    "    max=ts.max(),\n",
    "    cmap='viridis',\n",
    "    cb_orientation=\"vertical\",\n",
    "    projection_type=\"aitoff\",\n",
    "    #lonra=[38, 42],\n",
    "    #latra=[-2, 2]\n",
    "    fig=1\n",
    ");\n",
    "#for f in faulty:\n",
    "#    newprojplot(phi=scan.ra_test[f], theta=scan.dec_test[f], marker='o', color='red', markersize=2)\n",
    "#newprojplot(phi=0, theta=0, marker='o', color='red')\n",
    "##phi = np.linspace(0, np.pi, 1000)\n",
    "# theta = np.full(1000, np.pi/2)\n",
    "# takes phi, theta as arguments...\n",
    "#ra = np.linspace(0, 2*np.pi, 1000)*u.rad\n",
    "#dec = np.full(1000, 0)*u.rad\n",
    "#coords = SkyCoord(ra, dec, unit=\"rad\", frame=\"galactic\",)\n",
    "#newprojplot(phi=coords.icrs.ra.value/(2*np.pi), theta=np.pi/2 - coords.icrs.dec.value/(2*np.pi), marker=\"o\", color=\"r\", markersize=2);\n",
    "plt.xticks(color=\"white\")\n",
    "plt.grid(ls=':')\n",
    "plt.savefig(\"nside_256.png\", dpi=150)"
   ]
  },
  {
   "cell_type": "code",
   "execution_count": null,
   "metadata": {},
   "outputs": [],
   "source": [
    "faulty = np.argwhere(fit_ok == False)"
   ]
  },
  {
   "cell_type": "code",
   "execution_count": null,
   "metadata": {},
   "outputs": [],
   "source": [
    "faulty"
   ]
  },
  {
   "cell_type": "code",
   "execution_count": null,
   "metadata": {},
   "outputs": [],
   "source": [
    "scan = MapScan(\"input_configs/parallel_3.yaml\", RealEvents.from_event_files(), \"test_output.hdf5\")\n",
    "scan.ra_test = None\n",
    "scan.dec_test = None\n",
    "scan.generate_sources()"
   ]
  },
  {
   "cell_type": "code",
   "execution_count": null,
   "metadata": {},
   "outputs": [],
   "source": [
    "scan.ra_test = np.array([scan.ra_test[1604]])\n",
    "scan.dec_test = np.array([scan.dec_test[1604]])"
   ]
  },
  {
   "cell_type": "code",
   "execution_count": null,
   "metadata": {},
   "outputs": [],
   "source": [
    "scan.generate_sources()"
   ]
  },
  {
   "cell_type": "code",
   "execution_count": null,
   "metadata": {},
   "outputs": [],
   "source": [
    "scan.ra_test.size, scan.dec_test"
   ]
  },
  {
   "cell_type": "code",
   "execution_count": null,
   "metadata": {},
   "outputs": [],
   "source": [
    "np.pi/2"
   ]
  },
  {
   "cell_type": "code",
   "execution_count": null,
   "metadata": {},
   "outputs": [],
   "source": [
    "scan.perform_scan(show_progress=True)"
   ]
  },
  {
   "cell_type": "code",
   "execution_count": null,
   "metadata": {},
   "outputs": [],
   "source": [
    "scan.fit_ok"
   ]
  },
  {
   "cell_type": "code",
   "execution_count": null,
   "metadata": {},
   "outputs": [],
   "source": [
    "scan.likelihood.m.draw_profile(\"ns\",)"
   ]
  },
  {
   "cell_type": "code",
   "execution_count": null,
   "metadata": {},
   "outputs": [],
   "source": [
    "scan.ra_test[faulty]"
   ]
  },
  {
   "cell_type": "code",
   "execution_count": null,
   "metadata": {},
   "outputs": [],
   "source": []
  }
 ],
 "metadata": {
  "kernelspec": {
   "display_name": "Python 3.9.13 ('icecube_dev')",
   "language": "python",
   "name": "python3"
  },
  "language_info": {
   "codemirror_mode": {
    "name": "ipython",
    "version": 3
   },
   "file_extension": ".py",
   "mimetype": "text/x-python",
   "name": "python",
   "nbconvert_exporter": "python",
   "pygments_lexer": "ipython3",
   "version": "3.9.13"
  },
  "orig_nbformat": 4,
  "vscode": {
   "interpreter": {
    "hash": "709b59039280b8d5e4524b50704c1848cf12b534a0e9e8877ea3651abb499b1d"
   }
  }
 },
 "nbformat": 4,
 "nbformat_minor": 2
}
